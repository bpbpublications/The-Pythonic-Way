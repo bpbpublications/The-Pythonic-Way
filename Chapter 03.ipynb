{
 "cells": [
  {
   "cell_type": "code",
   "execution_count": 3,
   "metadata": {},
   "outputs": [],
   "source": [
    "# 1.1.3\tUsing the @property décorator : The property decorator is the accessory that avoids any encapsulation mistakes. \n",
    "\n",
    "class Demcapsulation:\n",
    "    ''' Class to demonstrate encapsulation in Python'''\n",
    "    def __init__(self):\n",
    "        self._beta = ''\n",
    "\n",
    "    @property\n",
    "    def alpha(self):\n",
    "        return 'Accessing the Value: {}'.format(self._beta)\n",
    "\n",
    "    @alpha.setter\n",
    "    def alpha(self, entered_value):\n",
    "        self._beta = '{} has been updated!'.format(entered_value)"
   ]
  },
  {
   "cell_type": "code",
   "execution_count": 4,
   "metadata": {},
   "outputs": [
    {
     "data": {
      "text/plain": [
       "'Accessing the Value: Python has been updated!'"
      ]
     },
     "execution_count": 4,
     "metadata": {},
     "output_type": "execute_result"
    }
   ],
   "source": [
    "myObj = Demcapsulation()\n",
    "myObj.alpha = 'Python'\n",
    "myObj.alpha"
   ]
  },
  {
   "cell_type": "code",
   "execution_count": 1,
   "metadata": {},
   "outputs": [],
   "source": [
    "# 1.1.5\tUsing 'classmethod' décorator for state access\n",
    "\n",
    "class Car:\n",
    "    def __init__(self, car_make, car_model):\n",
    "        self.car_make = car_make\n",
    "        self.car_model = car_model\n",
    "\n",
    "    @classmethod\n",
    "    def from_string_input(cls, make_and_model_str):\n",
    "        make, model = map(str, make_and_model_str.split(\"\"))\n",
    "        car = cls(make, model)\n",
    "        return car\n",
    "\n",
    "    @classmethod\n",
    "    def from_json_input(cls, make_and_model_json):\n",
    "        # parse make and model from json object...\n",
    "        return car\n",
    "\n",
    "    @classmethod\n",
    "    def from_file_input(cls, make_and_model_file):\n",
    "        # read file and get make and model...\n",
    "        return car\n"
   ]
  },
  {
   "cell_type": "code",
   "execution_count": null,
   "metadata": {},
   "outputs": [],
   "source": [
    "data = Car.from_string_input(\"Honda City\")\n",
    "data = Car.from_json_input(json_object)\n",
    "data = Car.from_file_input(“/tmp/car_details.txt”)"
   ]
  },
  {
   "cell_type": "code",
   "execution_count": 14,
   "metadata": {},
   "outputs": [],
   "source": [
    "# 1.1.6\tChoosing between Public and Private Attributes - Using _ for private names\n",
    "\n",
    "class Car:\n",
    "    def __init__(self, car_make, car_model):\n",
    "        self._make_and_model = f\"{car_make} {car_model}\"\n",
    "    \n",
    "    def get_make_model(self):\n",
    "        return self._make_and_model\n",
    "\n",
    "per = Car(\"Honda\", \"City\")\n",
    "assert per.get_make_model() == \"Honda City\"\n",
    "# print(per.get_make_model())\n"
   ]
  },
  {
   "cell_type": "code",
   "execution_count": null,
   "metadata": {},
   "outputs": [],
   "source": [
    "# 1.1.6\tChoosing between Public and Private Attributes - Using ‘__’ in Inheritance of a Public Class\n",
    "\n",
    "class Car:\n",
    "    def __init__(self, car_make, car_model):\n",
    "        self.year_of_mfg = 2010\n",
    "\n",
    "    def get_make_model(self):\n",
    "        return self._make_and_model\n",
    "\n",
    "class Sedan(Car):\n",
    "    def __init__(self, car_make, car_model):\n",
    "        super().__init__(car_make, car_model)\n",
    "        self.__year_of_mfg = 2009\n",
    "\n",
    "sdn = Sedan(‘Volkswagen’, ‘Polo’)\n",
    "print(sdn.get()) # 2010\n",
    "print(sdn.__year_of_mfg) # 2009\n"
   ]
  },
  {
   "cell_type": "code",
   "execution_count": 16,
   "metadata": {},
   "outputs": [],
   "source": [
    "# 1.1.10\tSuper() business advice - create a core / root class before the object call so that\n",
    "# we can gurantee existence of methods in the object with its help\n",
    "\n",
    "class Vehicle:\n",
    "    def get_miles(self):\n",
    "        # The final stop before the object\n",
    "        assert not hasattr(super(), 'get_miles')\n",
    "\n",
    "class Car(Vehicle):\n",
    "    def __init__(self, make_n_model, **kwargs):\n",
    "        self.make_n_model = make_n_model\n",
    "        super().__init__(**kwargs)\n",
    "\n",
    "    def get_miles(self):\n",
    "        print('Getting miles on my:', self.make_n_model)\n",
    "        super().get_miles()\n",
    "\n",
    "class ColorCar(Car):\n",
    "    def __init__(self, color_of_car, **kwargs):\n",
    "        self.color_of_car = color_of_car\n",
    "        super().__init__(**kwargs)\n",
    "\n",
    "    def get_miles(self):\n",
    "        print('Getting miles on my car of color:',\n",
    "                                self.color_of_car)\n",
    "        super().get_miles()\n"
   ]
  },
  {
   "cell_type": "code",
   "execution_count": 17,
   "metadata": {},
   "outputs": [
    {
     "name": "stdout",
     "output_type": "stream",
     "text": [
      "Getting miles on my car of color: Silver\n",
      "Getting miles on my: Honda City\n"
     ]
    }
   ],
   "source": [
    "my_car = ColorCar(color_of_car='Silver', \n",
    "         make_n_model='Honda City')\n",
    "my_car.get_miles()\n"
   ]
  },
  {
   "cell_type": "code",
   "execution_count": 32,
   "metadata": {},
   "outputs": [],
   "source": [
    "# 1.1.11\tIterable Objects and their Creation\n",
    "\n",
    "from datetime import date, timedelta\n",
    "class IterateOverDateRange:\n",
    "    def __init__(self, first_dt, last_dt):\n",
    "        self.first_dt = first_dt\n",
    "        self.last_dt = last_dt\n",
    "        self._rangeValues = self._get_range_values()\n",
    "\n",
    "    def _get_range_values(self):\n",
    "        date_list = []\n",
    "        present_dt = self.first_dt\n",
    "        while present_dt < self.last_dt:\n",
    "            date_list.append(present_dt)\n",
    "            present_dt += timedelta(days=1)\n",
    "        return date_list\n",
    "\n",
    "    def __len__(self):\n",
    "            return len(self._rangeValues)\n",
    "\n",
    "    def __getitem__(self, date_num):\n",
    "            return self._rangeValues[date_num]\n"
   ]
  },
  {
   "cell_type": "code",
   "execution_count": 33,
   "metadata": {},
   "outputs": [
    {
     "name": "stdout",
     "output_type": "stream",
     "text": [
      "6\n",
      "2020-10-11\n",
      "2020-10-12\n",
      "2020-10-13\n",
      "2020-10-14\n",
      "2020-10-15\n",
      "2020-10-16\n"
     ]
    }
   ],
   "source": [
    "from datetime import date, timedelta\n",
    "myRange = IterateOverDateRange(date(2020, 10, 11), date(2020, 10, 17))\n",
    "print(len(myRange))\n",
    "for date in myRange:\n",
    "    print(date)\n"
   ]
  },
  {
   "cell_type": "code",
   "execution_count": 36,
   "metadata": {},
   "outputs": [
    {
     "data": {
      "text/plain": [
       "datetime.date(2020, 10, 16)"
      ]
     },
     "execution_count": 36,
     "metadata": {},
     "output_type": "execute_result"
    }
   ],
   "source": [
    "myRange[-1]"
   ]
  },
  {
   "cell_type": "code",
   "execution_count": 39,
   "metadata": {},
   "outputs": [],
   "source": [
    "# 1.1.13\tContainer Objects\n",
    "\n",
    "def mark_target_locations(plane_map, point):\n",
    "    if 0 <= point.x_coord<plane_map.breadth and 0 <= point.y_coord<plane_map.height:\n",
    "        plane_map[point] = TARGETTED"
   ]
  },
  {
   "cell_type": "code",
   "execution_count": 40,
   "metadata": {},
   "outputs": [],
   "source": [
    "class Fences:\n",
    "    def __init__(self, breadth, height):\n",
    "        self.breadth = breadth\n",
    "        self.height = height\n",
    "\n",
    "    def __contains__(self, point):\n",
    "        x_coord, y_coord = point\n",
    "        return (0 <= x_coord< self.breadth and \n",
    "                0 <= y_coord< self.height)\n",
    "\n",
    "class PlaneMap:\n",
    "    def __init__(self, breadth, height):\n",
    "        self.breadth = breadth\n",
    "        self.height = height\n",
    "        self.outlines = Fences(breadth, height)\n",
    "\n",
    "    def __contains__(self, point):\n",
    "        return (point in self.outlines)\n"
   ]
  },
  {
   "cell_type": "code",
   "execution_count": 41,
   "metadata": {},
   "outputs": [],
   "source": [
    "# 1.1.14\tHandle Object Attributes Dynamically\n",
    "\n",
    "class DynAttr:\n",
    "    def __init__(self, attrib):\n",
    "        self.attrib = attrib\n",
    "\n",
    "    def __getattr__(self, attr):\n",
    "        if attr.startswith(\"backup_\"):\n",
    "            attr_name = attr.replace(\"backup_\", \"\")\n",
    "            return f\"[backup restored] {attr_name}\"\n",
    "        \n",
    "        raise AttributeError(f\"{self.__class__.__name__} has no attribute {attr}\")\n"
   ]
  },
  {
   "cell_type": "code",
   "execution_count": 42,
   "metadata": {},
   "outputs": [
    {
     "data": {
      "text/plain": [
       "'name_one'"
      ]
     },
     "execution_count": 42,
     "metadata": {},
     "output_type": "execute_result"
    }
   ],
   "source": [
    "dynAttr = DynAttr(\"name_one\")\n",
    "dynAttr.attrib\n"
   ]
  },
  {
   "cell_type": "code",
   "execution_count": 43,
   "metadata": {},
   "outputs": [
    {
     "data": {
      "text/plain": [
       "'[backup restored] result'"
      ]
     },
     "execution_count": 43,
     "metadata": {},
     "output_type": "execute_result"
    }
   ],
   "source": [
    "dynAttr.backup_result"
   ]
  },
  {
   "cell_type": "code",
   "execution_count": 44,
   "metadata": {},
   "outputs": [],
   "source": [
    "dynAttr.__dict__[\"backup_result2\"] = \"name_two\""
   ]
  },
  {
   "cell_type": "code",
   "execution_count": 45,
   "metadata": {},
   "outputs": [
    {
     "data": {
      "text/plain": [
       "'name_two'"
      ]
     },
     "execution_count": 45,
     "metadata": {},
     "output_type": "execute_result"
    }
   ],
   "source": [
    "dynAttr.backup_result2"
   ]
  },
  {
   "cell_type": "code",
   "execution_count": 46,
   "metadata": {},
   "outputs": [
    {
     "data": {
      "text/plain": [
       "'default'"
      ]
     },
     "execution_count": 46,
     "metadata": {},
     "output_type": "execute_result"
    }
   ],
   "source": [
    "getattr(dynAttr, \"common\", \"default\")"
   ]
  },
  {
   "cell_type": "code",
   "execution_count": 47,
   "metadata": {},
   "outputs": [],
   "source": [
    "# 1.1.15\tCallable Objects\n",
    "\n",
    "from collections import defaultdict\n",
    "class TrackFunctionCalls:\n",
    "    def __init__(self):\n",
    "        self._call_counter = defaultdict(int)\n",
    "\n",
    "    def __call__(self, arg):\n",
    "        self._call_counter[arg] += 1\n",
    "        return self._call_counter[arg]\n"
   ]
  },
  {
   "cell_type": "code",
   "execution_count": 49,
   "metadata": {},
   "outputs": [
    {
     "name": "stdout",
     "output_type": "stream",
     "text": [
      "1\n",
      "1\n",
      "2\n",
      "3\n",
      "1\n"
     ]
    }
   ],
   "source": [
    "call_count = TrackFunctionCalls()\n",
    "print(call_count(2912))\n",
    "\n",
    "print(call_count(1990))\n",
    "\n",
    "print(call_count(2912))\n",
    "\n",
    "print(call_count(2912))\n",
    "\n",
    "print(call_count(\"randomArg\"))\n",
    "\n"
   ]
  },
  {
   "cell_type": "code",
   "execution_count": 52,
   "metadata": {},
   "outputs": [],
   "source": [
    "# 1.1.17\tMake use of __repr__ for representing Classes.\n",
    "\n",
    "# The Regular Way\n",
    "class Car():\n",
    "    def __init__(self, make='Honda', model='City', data_cache=None):\n",
    "        self.make= make\n",
    "        self.model= model\n",
    "        self._cache = data_cache or {}\n",
    "\n",
    "    def __str__(self):\n",
    "        return 'Make: {}, Model : {}'.format(self.make, self.model)\n",
    "\n",
    "    def print_details(obj):\n",
    "        print(obj)\n"
   ]
  },
  {
   "cell_type": "code",
   "execution_count": 54,
   "metadata": {},
   "outputs": [],
   "source": [
    "# The Pythonic Way\n",
    "class Car():\n",
    "    def __init__(self, make='Honda', model='City', data_cache=None):\n",
    "        self.make = make\n",
    "        self.model = model\n",
    "        self._cache = data_cache or {}\n",
    "\n",
    "    def __str__(self):\n",
    "        return '{}, {}'.format(self.make, self.model)\n",
    "\n",
    "    def __repr__(self):\n",
    "        return 'Car({}, {}, {})'.format(self.make, self.model, self._cache)\n",
    "\n",
    "    def print_details(object):\n",
    "        print(object)\n"
   ]
  },
  {
   "cell_type": "code",
   "execution_count": 56,
   "metadata": {},
   "outputs": [],
   "source": [
    "# 1.1.18\tCustom Exception Classes\n",
    "\n",
    "# The Regular Way\n",
    "def ensureLength(email_id):\n",
    "    if len(email_id) < 10 or '@' not in email_id:\n",
    "        raise ValueError\n"
   ]
  },
  {
   "cell_type": "code",
   "execution_count": 58,
   "metadata": {},
   "outputs": [
    {
     "ename": "ValueError",
     "evalue": "",
     "output_type": "error",
     "traceback": [
      "\u001b[1;31m---------------------------------------------------------------------------\u001b[0m",
      "\u001b[1;31mValueError\u001b[0m                                Traceback (most recent call last)",
      "\u001b[1;32m<ipython-input-58-9792da4ff94e>\u001b[0m in \u001b[0;36m<module>\u001b[1;34m\u001b[0m\n\u001b[1;32m----> 1\u001b[1;33m \u001b[0mensureLength\u001b[0m\u001b[1;33m(\u001b[0m\u001b[1;34m'random'\u001b[0m\u001b[1;33m)\u001b[0m\u001b[1;33m\u001b[0m\u001b[1;33m\u001b[0m\u001b[0m\n\u001b[0m",
      "\u001b[1;32m<ipython-input-56-45c6c0e52c7a>\u001b[0m in \u001b[0;36mensureLength\u001b[1;34m(email_id)\u001b[0m\n\u001b[0;32m      1\u001b[0m \u001b[1;32mdef\u001b[0m \u001b[0mensureLength\u001b[0m\u001b[1;33m(\u001b[0m\u001b[0memail_id\u001b[0m\u001b[1;33m)\u001b[0m\u001b[1;33m:\u001b[0m\u001b[1;33m\u001b[0m\u001b[1;33m\u001b[0m\u001b[0m\n\u001b[0;32m      2\u001b[0m     \u001b[1;32mif\u001b[0m \u001b[0mlen\u001b[0m\u001b[1;33m(\u001b[0m\u001b[0memail_id\u001b[0m\u001b[1;33m)\u001b[0m \u001b[1;33m<\u001b[0m \u001b[1;36m10\u001b[0m \u001b[1;32mor\u001b[0m \u001b[1;34m'@'\u001b[0m \u001b[1;32mnot\u001b[0m \u001b[1;32min\u001b[0m \u001b[0memail_id\u001b[0m\u001b[1;33m:\u001b[0m\u001b[1;33m\u001b[0m\u001b[1;33m\u001b[0m\u001b[0m\n\u001b[1;32m----> 3\u001b[1;33m         \u001b[1;32mraise\u001b[0m \u001b[0mValueError\u001b[0m\u001b[1;33m\u001b[0m\u001b[1;33m\u001b[0m\u001b[0m\n\u001b[0m",
      "\u001b[1;31mValueError\u001b[0m: "
     ]
    }
   ],
   "source": [
    "ensureLength('random')"
   ]
  },
  {
   "cell_type": "code",
   "execution_count": 59,
   "metadata": {},
   "outputs": [],
   "source": [
    "# The Pythonic Way\n",
    "class LessCharactersInEmailID(ValueError):\n",
    "    pass\n",
    "\n",
    "def ensureLength(email_id):\n",
    "    if len(email_id) < 10:\n",
    "        raise LessCharactersInEmailID(email_id)\n"
   ]
  },
  {
   "cell_type": "code",
   "execution_count": 60,
   "metadata": {},
   "outputs": [
    {
     "ename": "LessCharactersInEmailID",
     "evalue": "random",
     "output_type": "error",
     "traceback": [
      "\u001b[1;31m---------------------------------------------------------------------------\u001b[0m",
      "\u001b[1;31mLessCharactersInEmailID\u001b[0m                   Traceback (most recent call last)",
      "\u001b[1;32m<ipython-input-60-9792da4ff94e>\u001b[0m in \u001b[0;36m<module>\u001b[1;34m\u001b[0m\n\u001b[1;32m----> 1\u001b[1;33m \u001b[0mensureLength\u001b[0m\u001b[1;33m(\u001b[0m\u001b[1;34m'random'\u001b[0m\u001b[1;33m)\u001b[0m\u001b[1;33m\u001b[0m\u001b[1;33m\u001b[0m\u001b[0m\n\u001b[0m",
      "\u001b[1;32m<ipython-input-59-a55c4328f25b>\u001b[0m in \u001b[0;36mensureLength\u001b[1;34m(email_id)\u001b[0m\n\u001b[0;32m      4\u001b[0m \u001b[1;32mdef\u001b[0m \u001b[0mensureLength\u001b[0m\u001b[1;33m(\u001b[0m\u001b[0memail_id\u001b[0m\u001b[1;33m)\u001b[0m\u001b[1;33m:\u001b[0m\u001b[1;33m\u001b[0m\u001b[1;33m\u001b[0m\u001b[0m\n\u001b[0;32m      5\u001b[0m     \u001b[1;32mif\u001b[0m \u001b[0mlen\u001b[0m\u001b[1;33m(\u001b[0m\u001b[0memail_id\u001b[0m\u001b[1;33m)\u001b[0m \u001b[1;33m<\u001b[0m \u001b[1;36m10\u001b[0m\u001b[1;33m:\u001b[0m\u001b[1;33m\u001b[0m\u001b[1;33m\u001b[0m\u001b[0m\n\u001b[1;32m----> 6\u001b[1;33m         \u001b[1;32mraise\u001b[0m \u001b[0mLessCharactersInEmailID\u001b[0m\u001b[1;33m(\u001b[0m\u001b[0memail_id\u001b[0m\u001b[1;33m)\u001b[0m\u001b[1;33m\u001b[0m\u001b[1;33m\u001b[0m\u001b[0m\n\u001b[0m",
      "\u001b[1;31mLessCharactersInEmailID\u001b[0m: random"
     ]
    }
   ],
   "source": [
    "ensureLength('random')"
   ]
  },
  {
   "cell_type": "code",
   "execution_count": 61,
   "metadata": {},
   "outputs": [],
   "source": [
    "# 1.1.20\tAbstract Base Classes with abc module for Inheritance \n",
    "\n",
    "from abc import abstractmethod, ABCMeta\n",
    "class BaseClass(metaclass=ABCMeta):\n",
    "    @abstractmethod\n",
    "    def alpha(self):\n",
    "        pass\n",
    "\n",
    "    @abstractmethod\n",
    "    def beta(self):\n",
    "        pass\n",
    "\n",
    "class DerivedClass(BaseClass):\n",
    "    def alpha(self):\n",
    "        pass\n"
   ]
  },
  {
   "cell_type": "code",
   "execution_count": 62,
   "metadata": {},
   "outputs": [],
   "source": [
    "assert issubclass(DerivedClass, BaseClass)"
   ]
  },
  {
   "cell_type": "code",
   "execution_count": 63,
   "metadata": {},
   "outputs": [
    {
     "ename": "TypeError",
     "evalue": "Can't instantiate abstract class DerivedClass with abstract methods beta",
     "output_type": "error",
     "traceback": [
      "\u001b[1;31m---------------------------------------------------------------------------\u001b[0m",
      "\u001b[1;31mTypeError\u001b[0m                                 Traceback (most recent call last)",
      "\u001b[1;32m<ipython-input-63-cf388c812fbb>\u001b[0m in \u001b[0;36m<module>\u001b[1;34m\u001b[0m\n\u001b[1;32m----> 1\u001b[1;33m \u001b[0mmyObj\u001b[0m \u001b[1;33m=\u001b[0m \u001b[0mDerivedClass\u001b[0m\u001b[1;33m(\u001b[0m\u001b[1;33m)\u001b[0m\u001b[1;33m\u001b[0m\u001b[1;33m\u001b[0m\u001b[0m\n\u001b[0m",
      "\u001b[1;31mTypeError\u001b[0m: Can't instantiate abstract class DerivedClass with abstract methods beta"
     ]
    }
   ],
   "source": [
    "myObj = DerivedClass()"
   ]
  },
  {
   "cell_type": "code",
   "execution_count": 64,
   "metadata": {},
   "outputs": [],
   "source": [
    "# 1.1.21\tPitfalls of Class vs Instance Variable\n",
    "\n",
    "class Book:\n",
    "    num_of_pages = 304 # <- Class variable\n",
    "    def __init__(self, title):\n",
    "        self.title = title # <- Instance variable\n"
   ]
  },
  {
   "cell_type": "code",
   "execution_count": 65,
   "metadata": {},
   "outputs": [
    {
     "data": {
      "text/plain": [
       "('Harry Potter', 'Fault in our Stars')"
      ]
     },
     "execution_count": 65,
     "metadata": {},
     "output_type": "execute_result"
    }
   ],
   "source": [
    "fiction = Book('Harry Potter')\n",
    "romance = Book('Fault in our Stars')\n",
    "fiction.title, romance.title\n",
    "\n"
   ]
  },
  {
   "cell_type": "code",
   "execution_count": 66,
   "metadata": {},
   "outputs": [
    {
     "data": {
      "text/plain": [
       "(304, 304)"
      ]
     },
     "execution_count": 66,
     "metadata": {},
     "output_type": "execute_result"
    }
   ],
   "source": [
    " fiction.num_of_pages, romance.num_of_pages"
   ]
  },
  {
   "cell_type": "code",
   "execution_count": 67,
   "metadata": {},
   "outputs": [
    {
     "data": {
      "text/plain": [
       "304"
      ]
     },
     "execution_count": 67,
     "metadata": {},
     "output_type": "execute_result"
    }
   ],
   "source": [
    "Book.num_of_pages"
   ]
  },
  {
   "cell_type": "code",
   "execution_count": 68,
   "metadata": {},
   "outputs": [],
   "source": [
    "Book.num_of_pages = 200"
   ]
  },
  {
   "cell_type": "code",
   "execution_count": 69,
   "metadata": {},
   "outputs": [
    {
     "data": {
      "text/plain": [
       "(200, 200)"
      ]
     },
     "execution_count": 69,
     "metadata": {},
     "output_type": "execute_result"
    }
   ],
   "source": [
    "fiction.num_of_pages, romance.num_of_pages\n"
   ]
  },
  {
   "cell_type": "code",
   "execution_count": 71,
   "metadata": {},
   "outputs": [
    {
     "data": {
      "text/plain": [
       "(200, 304, 304)"
      ]
     },
     "execution_count": 71,
     "metadata": {},
     "output_type": "execute_result"
    }
   ],
   "source": [
    "Book.num_of_pages = 304\n",
    "fiction.num_of_pages = 200\n",
    "fiction.num_of_pages, romance.num_of_pages, Book.num_of_pages"
   ]
  },
  {
   "cell_type": "code",
   "execution_count": 72,
   "metadata": {},
   "outputs": [
    {
     "data": {
      "text/plain": [
       "(200, 304)"
      ]
     },
     "execution_count": 72,
     "metadata": {},
     "output_type": "execute_result"
    }
   ],
   "source": [
    "fiction.num_of_pages, fiction.__class__.num_of_pages"
   ]
  },
  {
   "cell_type": "code",
   "execution_count": 76,
   "metadata": {},
   "outputs": [],
   "source": [
    "# 1.1.23\tClasses are not just for encapsulation!\n",
    "\n",
    "# The Regular Way\n",
    "class StringFunctions():\n",
    "    def substring_count(self, core_str, substring):\n",
    "        return sum([1 for c in core_str if c == substring])\n",
    "\n",
    "    def strrev(self, core_str):\n",
    "        return reversed(core_str)\n",
    "\n",
    "    def is_palindrome(self, core_str):\n",
    "        for index in range(len(core_str)//2):\n",
    "                if core_str[index] != core_str[-index-1]:\n",
    "                    return False\n",
    "        return True\n"
   ]
  },
  {
   "cell_type": "code",
   "execution_count": 77,
   "metadata": {},
   "outputs": [],
   "source": [
    "str = StringFunctions()"
   ]
  },
  {
   "cell_type": "code",
   "execution_count": 80,
   "metadata": {},
   "outputs": [],
   "source": [
    "# The Pythonic Way\n",
    "def substring_count(self, core_str, substring):\n",
    "        return sum([1 for c in core_str if c == substring])\n",
    "\n",
    "def strrev(self, core_str):\n",
    "    return reversed(core_str)\n",
    "\n",
    "def is_palindrome(self, core_str):\n",
    "    for index in range(len(core_str)//2):\n",
    "            if core_str[index] != core_str[-index-1]:\n",
    "                return False\n",
    "    return True\n"
   ]
  },
  {
   "cell_type": "code",
   "execution_count": 82,
   "metadata": {},
   "outputs": [],
   "source": [
    "def sizeCheck(obj_name):\n",
    "    try:\n",
    "        return len(obj_name)\n",
    "    except TypeError:\n",
    "        if obj_name in (True, False, type(None)):\n",
    "            return 1\n",
    "        else:\n",
    "            return int(obj_name)\n"
   ]
  },
  {
   "cell_type": "code",
   "execution_count": 83,
   "metadata": {},
   "outputs": [
    {
     "data": {
      "text/plain": [
       "95"
      ]
     },
     "execution_count": 83,
     "metadata": {},
     "output_type": "execute_result"
    }
   ],
   "source": [
    "sizeCheck('someString')\n",
    "sizeCheck([96, 3, 25, 45, 0])\n",
    "sizeCheck(95)\n"
   ]
  },
  {
   "cell_type": "code",
   "execution_count": 85,
   "metadata": {},
   "outputs": [],
   "source": [
    "# 1.1.24\tFetching object type using the isinstance function\n",
    "\n",
    "# The Regular Way\n",
    "def sizeCheck(obj_name):\n",
    "try:\n",
    "    return len(obj_name)\n",
    "except TypeError:\n",
    "    if obj_name in (True, False, type(None)):\n",
    "        return 1\n",
    "    else:\n",
    "        return int(obj_name)\n",
    "\n",
    "\n",
    "# The Pythonic Way\n",
    "def sizeCheck(obj_name):\n",
    "    if isinstance(obj_name, (list, dict, str, tuple)):\n",
    "        return len(obj_name)\n",
    "    elif isinstance(obj_name, (bool, type(None))):\n",
    "        return 1\n",
    "    elif isinstance(obj_name, (int, float)):\n",
    "        return int(obj_name)\n"
   ]
  },
  {
   "cell_type": "code",
   "execution_count": 86,
   "metadata": {},
   "outputs": [],
   "source": [
    "# 1.1.25\tCreating and operating on Data Classes\n",
    "\n",
    "from dataclasses import dataclass\n",
    "\n",
    "@dataclass\n",
    "class CardClass:\n",
    "    card_rank: str\n",
    "    suit_of_card: str\n"
   ]
  },
  {
   "cell_type": "code",
   "execution_count": 87,
   "metadata": {},
   "outputs": [],
   "source": [
    "king_of_clubs = CardClass('K','Clubs')"
   ]
  },
  {
   "cell_type": "code",
   "execution_count": 88,
   "metadata": {},
   "outputs": [
    {
     "data": {
      "text/plain": [
       "'K'"
      ]
     },
     "execution_count": 88,
     "metadata": {},
     "output_type": "execute_result"
    }
   ],
   "source": [
    "king_of_clubs.card_rank"
   ]
  },
  {
   "cell_type": "code",
   "execution_count": 89,
   "metadata": {},
   "outputs": [
    {
     "data": {
      "text/plain": [
       "CardClass(card_rank='K', suit_of_card='Clubs')"
      ]
     },
     "execution_count": 89,
     "metadata": {},
     "output_type": "execute_result"
    }
   ],
   "source": [
    "king_of_clubs"
   ]
  },
  {
   "cell_type": "code",
   "execution_count": 90,
   "metadata": {},
   "outputs": [
    {
     "data": {
      "text/plain": [
       "True"
      ]
     },
     "execution_count": 90,
     "metadata": {},
     "output_type": "execute_result"
    }
   ],
   "source": [
    "king_of_clubs==CardClass('K','Clubs')"
   ]
  },
  {
   "cell_type": "code",
   "execution_count": 92,
   "metadata": {},
   "outputs": [],
   "source": [
    "from dataclasses import make_dataclass\n",
    "coordinates = make_dataclass('Coordinates',['Place','latitude',\n",
    "                             'longitude'])\n"
   ]
  },
  {
   "cell_type": "code",
   "execution_count": 95,
   "metadata": {},
   "outputs": [],
   "source": [
    "# Data classes mandate the use of Type Hints \n",
    "# when you define the fields in the class. If you do not supply the types, the field is ignored.\n",
    "\n",
    "from dataclasses import dataclass\n",
    "from typing import Any\n",
    "\n",
    "@dataclass\n",
    "class Car:\n",
    "    make: Any \n",
    "    model: Any = ''\n",
    "    Feature: Any = 'New Car'\n"
   ]
  },
  {
   "cell_type": "code",
   "execution_count": 101,
   "metadata": {},
   "outputs": [],
   "source": [
    "# Given the Data Classes are regular classes, apart from the data; you can also add methods to it. \n",
    "\n",
    "from dataclasses import dataclass\n",
    "\n",
    "@dataclass\n",
    "class Car:\n",
    "    make: str = ''\n",
    "    model: str = ''\n",
    "    mfg_year: int = 0\n",
    "    mileage: float = 0.0\n",
    "    price: float = 0.0\n",
    "\n",
    "    def get_current_price(self, sale_year):\n",
    "        depreciation = (15 - (sale_year - self.mfg_year))/15\n",
    "        return (depreciation * price)\n"
   ]
  },
  {
   "cell_type": "code",
   "execution_count": 103,
   "metadata": {},
   "outputs": [],
   "source": [
    "# 1.1.27\tInheritance \n",
    "\n",
    "from dataclasses import dataclass\n",
    "\n",
    "@dataclass\n",
    "class Car:\n",
    "    make: str\n",
    "    model: str\n",
    "\n",
    "@dataclass\n",
    "class CarForSale(Car):\n",
    "    year_of_mfg: int\n",
    "    state_of_reg: str\n",
    "    miles: int\n"
   ]
  },
  {
   "cell_type": "code",
   "execution_count": 104,
   "metadata": {},
   "outputs": [
    {
     "data": {
      "text/plain": [
       "CarForSale(make='Honda', model='City', year_of_mfg=2010, state_of_reg='Bengaluru', miles=50000)"
      ]
     },
     "execution_count": 104,
     "metadata": {},
     "output_type": "execute_result"
    }
   ],
   "source": [
    "CarForSale('Honda', 'City', 2010, 'Bengaluru', 50000)"
   ]
  },
  {
   "cell_type": "code",
   "execution_count": 107,
   "metadata": {},
   "outputs": [
    {
     "ename": "TypeError",
     "evalue": "non-default argument 'state_of_reg' follows default argument",
     "output_type": "error",
     "traceback": [
      "\u001b[1;31m---------------------------------------------------------------------------\u001b[0m",
      "\u001b[1;31mTypeError\u001b[0m                                 Traceback (most recent call last)",
      "\u001b[1;32m<ipython-input-107-59d0deb993a7>\u001b[0m in \u001b[0;36m<module>\u001b[1;34m\u001b[0m\n\u001b[0;32m      5\u001b[0m \u001b[1;33m\u001b[0m\u001b[0m\n\u001b[0;32m      6\u001b[0m \u001b[1;33m@\u001b[0m\u001b[0mdataclass\u001b[0m\u001b[1;33m\u001b[0m\u001b[1;33m\u001b[0m\u001b[0m\n\u001b[1;32m----> 7\u001b[1;33m \u001b[1;32mclass\u001b[0m \u001b[0mCarForSale\u001b[0m\u001b[1;33m(\u001b[0m\u001b[0mCar\u001b[0m\u001b[1;33m)\u001b[0m\u001b[1;33m:\u001b[0m\u001b[1;33m\u001b[0m\u001b[1;33m\u001b[0m\u001b[0m\n\u001b[0m\u001b[0;32m      8\u001b[0m     \u001b[0mstate_of_reg\u001b[0m\u001b[1;33m:\u001b[0m \u001b[0mstr\u001b[0m    \u001b[1;31m#This will fail!\u001b[0m\u001b[1;33m\u001b[0m\u001b[1;33m\u001b[0m\u001b[0m\n",
      "\u001b[1;32mc:\\python38\\lib\\dataclasses.py\u001b[0m in \u001b[0;36mdataclass\u001b[1;34m(cls, init, repr, eq, order, unsafe_hash, frozen)\u001b[0m\n\u001b[0;32m   1017\u001b[0m \u001b[1;33m\u001b[0m\u001b[0m\n\u001b[0;32m   1018\u001b[0m     \u001b[1;31m# We're called as @dataclass without parens.\u001b[0m\u001b[1;33m\u001b[0m\u001b[1;33m\u001b[0m\u001b[1;33m\u001b[0m\u001b[0m\n\u001b[1;32m-> 1019\u001b[1;33m     \u001b[1;32mreturn\u001b[0m \u001b[0mwrap\u001b[0m\u001b[1;33m(\u001b[0m\u001b[0mcls\u001b[0m\u001b[1;33m)\u001b[0m\u001b[1;33m\u001b[0m\u001b[1;33m\u001b[0m\u001b[0m\n\u001b[0m\u001b[0;32m   1020\u001b[0m \u001b[1;33m\u001b[0m\u001b[0m\n\u001b[0;32m   1021\u001b[0m \u001b[1;33m\u001b[0m\u001b[0m\n",
      "\u001b[1;32mc:\\python38\\lib\\dataclasses.py\u001b[0m in \u001b[0;36mwrap\u001b[1;34m(cls)\u001b[0m\n\u001b[0;32m   1009\u001b[0m \u001b[1;33m\u001b[0m\u001b[0m\n\u001b[0;32m   1010\u001b[0m     \u001b[1;32mdef\u001b[0m \u001b[0mwrap\u001b[0m\u001b[1;33m(\u001b[0m\u001b[0mcls\u001b[0m\u001b[1;33m)\u001b[0m\u001b[1;33m:\u001b[0m\u001b[1;33m\u001b[0m\u001b[1;33m\u001b[0m\u001b[0m\n\u001b[1;32m-> 1011\u001b[1;33m         \u001b[1;32mreturn\u001b[0m \u001b[0m_process_class\u001b[0m\u001b[1;33m(\u001b[0m\u001b[0mcls\u001b[0m\u001b[1;33m,\u001b[0m \u001b[0minit\u001b[0m\u001b[1;33m,\u001b[0m \u001b[0mrepr\u001b[0m\u001b[1;33m,\u001b[0m \u001b[0meq\u001b[0m\u001b[1;33m,\u001b[0m \u001b[0morder\u001b[0m\u001b[1;33m,\u001b[0m \u001b[0munsafe_hash\u001b[0m\u001b[1;33m,\u001b[0m \u001b[0mfrozen\u001b[0m\u001b[1;33m)\u001b[0m\u001b[1;33m\u001b[0m\u001b[1;33m\u001b[0m\u001b[0m\n\u001b[0m\u001b[0;32m   1012\u001b[0m \u001b[1;33m\u001b[0m\u001b[0m\n\u001b[0;32m   1013\u001b[0m     \u001b[1;31m# See if we're being called as @dataclass or @dataclass().\u001b[0m\u001b[1;33m\u001b[0m\u001b[1;33m\u001b[0m\u001b[1;33m\u001b[0m\u001b[0m\n",
      "\u001b[1;32mc:\\python38\\lib\\dataclasses.py\u001b[0m in \u001b[0;36m_process_class\u001b[1;34m(cls, init, repr, eq, order, unsafe_hash, frozen)\u001b[0m\n\u001b[0;32m    923\u001b[0m                 if f._field_type in (_FIELD, _FIELD_INITVAR)]\n\u001b[0;32m    924\u001b[0m         _set_new_attribute(cls, '__init__',\n\u001b[1;32m--> 925\u001b[1;33m                            _init_fn(flds,\n\u001b[0m\u001b[0;32m    926\u001b[0m                                     \u001b[0mfrozen\u001b[0m\u001b[1;33m,\u001b[0m\u001b[1;33m\u001b[0m\u001b[1;33m\u001b[0m\u001b[0m\n\u001b[0;32m    927\u001b[0m                                     \u001b[0mhas_post_init\u001b[0m\u001b[1;33m,\u001b[0m\u001b[1;33m\u001b[0m\u001b[1;33m\u001b[0m\u001b[0m\n",
      "\u001b[1;32mc:\\python38\\lib\\dataclasses.py\u001b[0m in \u001b[0;36m_init_fn\u001b[1;34m(fields, frozen, has_post_init, self_name, globals)\u001b[0m\n\u001b[0;32m    500\u001b[0m                 \u001b[0mseen_default\u001b[0m \u001b[1;33m=\u001b[0m \u001b[1;32mTrue\u001b[0m\u001b[1;33m\u001b[0m\u001b[1;33m\u001b[0m\u001b[0m\n\u001b[0;32m    501\u001b[0m             \u001b[1;32melif\u001b[0m \u001b[0mseen_default\u001b[0m\u001b[1;33m:\u001b[0m\u001b[1;33m\u001b[0m\u001b[1;33m\u001b[0m\u001b[0m\n\u001b[1;32m--> 502\u001b[1;33m                 raise TypeError(f'non-default argument {f.name!r} '\n\u001b[0m\u001b[0;32m    503\u001b[0m                                 'follows default argument')\n\u001b[0;32m    504\u001b[0m \u001b[1;33m\u001b[0m\u001b[0m\n",
      "\u001b[1;31mTypeError\u001b[0m: non-default argument 'state_of_reg' follows default argument"
     ]
    }
   ],
   "source": [
    "@dataclass\n",
    "class Car:\n",
    "    make: str = 'Honda'\n",
    "    model: str = 'Civic'\n",
    "\n",
    "@dataclass\n",
    "class CarForSale(Car):\n",
    "    state_of_reg: str    #This will fail!\n"
   ]
  },
  {
   "cell_type": "code",
   "execution_count": 108,
   "metadata": {},
   "outputs": [],
   "source": [
    "@dataclass\n",
    "class Car:\n",
    "          make: str\n",
    "          model: str\n",
    "          miles: float=0.0 \n",
    "          price: float=0.0\n",
    "\n",
    "@dataclass\n",
    "class Sedan(Car):\n",
    "    model: str='Civic'\n",
    "    price: float=40000.0\n",
    "\n"
   ]
  },
  {
   "cell_type": "code",
   "execution_count": 109,
   "metadata": {},
   "outputs": [
    {
     "data": {
      "text/plain": [
       "Sedan(make='Honda', model='Civic', miles=0.0, price=40000.0)"
      ]
     },
     "execution_count": 109,
     "metadata": {},
     "output_type": "execute_result"
    }
   ],
   "source": [
    "Sedan('Honda')"
   ]
  },
  {
   "cell_type": "code",
   "execution_count": 119,
   "metadata": {},
   "outputs": [],
   "source": [
    "# 1.1.28\tHow to optimize Data Classes?\n",
    "\n",
    "@dataclass\n",
    "class Car:\n",
    "    make:str\n",
    "    model:str\n",
    "    price:float\n",
    "\n",
    "@dataclass\n",
    "class CarWithSlots:\n",
    "    __slots__=['make','model','price']\n",
    "    \n",
    "    make:str\n",
    "    model:str\n",
    "    price:float\n"
   ]
  },
  {
   "cell_type": "code",
   "execution_count": 115,
   "metadata": {},
   "outputs": [
    {
     "data": {
      "text/plain": [
       "(456, 80)"
      ]
     },
     "execution_count": 115,
     "metadata": {},
     "output_type": "execute_result"
    }
   ],
   "source": [
    "# It is seen that class that use __slots__ have a lower memory footprint.\n",
    "\n",
    "from pympler import asizeof\n",
    "without_slots = Car('Honda', 'Civic', 40000.0)\n",
    "with_slots = CarWithSlots('Honda', 'Civic', 40000.0)\n",
    "asizeof.asizesof(without_slots, with_slots)\n"
   ]
  },
  {
   "cell_type": "code",
   "execution_count": 120,
   "metadata": {},
   "outputs": [
    {
     "data": {
      "text/plain": [
       "0.09697080000114511"
      ]
     },
     "execution_count": 120,
     "metadata": {},
     "output_type": "execute_result"
    }
   ],
   "source": [
    "# The use of __slots__ also helps to optimize the runtime of the program. \n",
    "\n",
    "import timeit\n",
    "timeit.timeit('car.make', setup=\"car=CarWithSlots('Honda', 'City', 4000)\",\n",
    "             globals=globals())\n"
   ]
  },
  {
   "cell_type": "code",
   "execution_count": 122,
   "metadata": {},
   "outputs": [
    {
     "data": {
      "text/plain": [
       "0.061125099997298094"
      ]
     },
     "execution_count": 122,
     "metadata": {},
     "output_type": "execute_result"
    }
   ],
   "source": [
    "timeit.timeit('clss.make', setup=\"clss=Car('Honda', 'City', 4000)\",\n",
    "globals=globals())\n"
   ]
  },
  {
   "cell_type": "code",
   "execution_count": null,
   "metadata": {},
   "outputs": [],
   "source": []
  }
 ],
 "metadata": {
  "kernelspec": {
   "display_name": "Python 3",
   "language": "python",
   "name": "python3"
  },
  "language_info": {
   "codemirror_mode": {
    "name": "ipython",
    "version": 3
   },
   "file_extension": ".py",
   "mimetype": "text/x-python",
   "name": "python",
   "nbconvert_exporter": "python",
   "pygments_lexer": "ipython3",
   "version": "3.8.5"
  }
 },
 "nbformat": 4,
 "nbformat_minor": 4
}
