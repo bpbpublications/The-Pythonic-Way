{
 "cells": [
  {
   "cell_type": "code",
   "execution_count": 2,
   "metadata": {},
   "outputs": [],
   "source": [
    "# Using Annotations\n",
    "class Rectangle:\n",
    "    length: float\n",
    "    width: float\n",
    "    area: float"
   ]
  },
  {
   "cell_type": "code",
   "execution_count": 3,
   "metadata": {},
   "outputs": [
    {
     "data": {
      "text/plain": [
       "{'length': float, 'width': float, 'area': float}"
      ]
     },
     "execution_count": 3,
     "metadata": {},
     "output_type": "execute_result"
    }
   ],
   "source": [
    "Rectangle.__annotations__"
   ]
  },
  {
   "cell_type": "code",
   "execution_count": 5,
   "metadata": {},
   "outputs": [
    {
     "name": "stdout",
     "output_type": "stream",
     "text": [
      "Tesla, Nicola\n"
     ]
    }
   ],
   "source": [
    "# Not Pythonic Naming\n",
    "x = 'Nicola Tesla'\n",
    "y, z = x.split()\n",
    "print(z, y, sep=', ')\n"
   ]
  },
  {
   "cell_type": "code",
   "execution_count": 6,
   "metadata": {},
   "outputs": [
    {
     "name": "stdout",
     "output_type": "stream",
     "text": [
      "Tesla, Nicola\n"
     ]
    }
   ],
   "source": [
    "# Pythonic Naming\n",
    "name = 'Nicola Tesla'\n",
    "first_name, last_name = name.split()\n",
    "print(last_name, first_name, sep=', ')"
   ]
  },
  {
   "cell_type": "code",
   "execution_count": 9,
   "metadata": {},
   "outputs": [],
   "source": [
    "# Two blank lines surround classes and top-level functions in your code. \n",
    "\n",
    "class ClassOne:\n",
    "    pass\n",
    "\n",
    "\n",
    "class ClassTwo:\n",
    "    pass\n",
    "\n",
    "\n",
    "def my_top_level_function():\n",
    "    return None\n"
   ]
  },
  {
   "cell_type": "code",
   "execution_count": 8,
   "metadata": {},
   "outputs": [],
   "source": [
    "# Within a given class, wrap the method definitions with a single blank line. \n",
    "\n",
    "class MyClass:\n",
    "    def first_method(self):\n",
    "        return None\n",
    "\n",
    "    def second_method(self):\n",
    "        return None"
   ]
  },
  {
   "cell_type": "code",
   "execution_count": 12,
   "metadata": {},
   "outputs": [],
   "source": [
    "# Different sections within the function can be separated by spaces if they represent a series of clear steps of operation.\n",
    "\n",
    "def variance_computation(list_of_numbers):\n",
    "    list_sum = 0\n",
    "    for num in list_of_numbers:\n",
    "        list_sum = list_sum + num\n",
    "        average = list_sum / len(list_of_numbers)\n",
    "\n",
    "    sum_of_squares = 0\n",
    "    for num in list_of_numbers:\n",
    "        sum_of_squares = sum_of_squares + num**2\n",
    "        average_of_squares = sum_of_squares / len(list_of_numbers)\n",
    "\n",
    "    return average_of_squares - average**2\n"
   ]
  },
  {
   "cell_type": "code",
   "execution_count": 16,
   "metadata": {},
   "outputs": [],
   "source": [
    "# Creak a line with mathematical operators before the operators \n",
    "variable_one = 1\n",
    "variable_two = 2\n",
    "variable_three = 3\n",
    "\n",
    "# Pythonic Approach\n",
    "sum = (variable_one\n",
    "       + variable_two\n",
    "       - variable_three)\n",
    "\n",
    "# Not a Pythonic Approach\n",
    "sum = (variable_one +\n",
    "       variable_two -\n",
    "       variable_three)"
   ]
  },
  {
   "cell_type": "code",
   "execution_count": 18,
   "metadata": {},
   "outputs": [
    {
     "name": "stdout",
     "output_type": "stream",
     "text": [
      "50\n",
      "50\n"
     ]
    }
   ],
   "source": [
    "# in ‘if’ statements that span across multiple lines as the if, space, and opening bracket make up four characters.\n",
    "\n",
    "# Regular way \n",
    "var = 50\n",
    "if (var>30 and\n",
    "    var<100):\n",
    "    print(var)\n",
    "\n",
    "# More Pythonic\n",
    "var = 50\n",
    "if (var>30 and\n",
    "        var<100):\n",
    "    print(var)\n"
   ]
  },
  {
   "cell_type": "code",
   "execution_count": 19,
   "metadata": {},
   "outputs": [],
   "source": [
    "# It is better to use a double indent on the line continuation\n",
    "def method(\n",
    "        first_arg, second_arg,\n",
    "        third_arg, fourth_arg):\n",
    "    return first_arg"
   ]
  },
  {
   "cell_type": "code",
   "execution_count": 22,
   "metadata": {},
   "outputs": [],
   "source": [
    "# add spaces based on priority – only the least priority operators should be wrapped in single spaces\n",
    "varx, vary = 2, 3\n",
    "\n",
    "# Not Pythonic\n",
    "Vary = varx ** 20 + 500\n",
    "Varz = (varx + vary) * (varx - vary)\n",
    "\n",
    "# Pythonic\n",
    "vary = varx**20+500\n",
    "varz = (varx+vary) * (varx-vary)\n"
   ]
  },
  {
   "cell_type": "code",
   "execution_count": 23,
   "metadata": {},
   "outputs": [],
   "source": [
    "# The same applies to cases when you have multiple chained conditions in an IF statement.\n",
    "# Not Pythonic\n",
    "if varx > 500 and varx % 25 == 0:\n",
    "    print('That is a weird random calculation!')\n",
    "\n",
    "# Pythonic\n",
    "if varx>500 and varx%25==0:\n",
    "    print('That is a weird random calculation!')\n"
   ]
  },
  {
   "cell_type": "code",
   "execution_count": 27,
   "metadata": {},
   "outputs": [],
   "source": [
    "# 1.1.9\tComplex List Comprehensions\n",
    "my_matrix = [[1,2,3],\n",
    "             [4,5,6],\n",
    "             [7,8,9]]\n",
    "height, width = 3, 3\n",
    "\n",
    "# Not Pythonic\n",
    "result = [[my_matrix[row][col] for row in range(0, height)] for col in range(0,width)]\n",
    "\n",
    "# Pythonic\n",
    "result = [[ my_matrix[row][col]\n",
    "       for row in range(0, height) ]\n",
    "       for col in range(0,width) ]\n"
   ]
  },
  {
   "cell_type": "code",
   "execution_count": 29,
   "metadata": {},
   "outputs": [
    {
     "name": "stdout",
     "output_type": "stream",
     "text": [
      "In the loop\n",
      "In the loop\n",
      "In the loop\n",
      "In the else\n"
     ]
    }
   ],
   "source": [
    "# 1.1.12\tCan we use an 'else' with loops?\n",
    "\n",
    "for my_int in [31, 42, 53]:\n",
    "    print(\"In the loop\")\n",
    "else:\n",
    "    print(\"In the else\")\n"
   ]
  },
  {
   "cell_type": "code",
   "execution_count": 30,
   "metadata": {},
   "outputs": [
    {
     "name": "stdout",
     "output_type": "stream",
     "text": [
      "In the loop\n",
      "In the loop\n",
      "In the loop\n",
      "In the else\n"
     ]
    }
   ],
   "source": [
    "# The same using a while loop\n",
    "\n",
    "for my_int in [31, 42, 53]:\n",
    "    print(\"In the loop\")\n",
    "else:\n",
    "    print(\"In the else\")\n"
   ]
  },
  {
   "cell_type": "code",
   "execution_count": 31,
   "metadata": {},
   "outputs": [
    {
     "name": "stdout",
     "output_type": "stream",
     "text": [
      "The Zen of Python, by Tim Peters\n",
      "\n",
      "Beautiful is better than ugly.\n",
      "Explicit is better than implicit.\n",
      "Simple is better than complex.\n",
      "Complex is better than complicated.\n",
      "Flat is better than nested.\n",
      "Sparse is better than dense.\n",
      "Readability counts.\n",
      "Special cases aren't special enough to break the rules.\n",
      "Although practicality beats purity.\n",
      "Errors should never pass silently.\n",
      "Unless explicitly silenced.\n",
      "In the face of ambiguity, refuse the temptation to guess.\n",
      "There should be one-- and preferably only one --obvious way to do it.\n",
      "Although that way may not be obvious at first unless you're Dutch.\n",
      "Now is better than never.\n",
      "Although never is often better than *right* now.\n",
      "If the implementation is hard to explain, it's a bad idea.\n",
      "If the implementation is easy to explain, it may be a good idea.\n",
      "Namespaces are one honking great idea -- let's do more of those!\n"
     ]
    }
   ],
   "source": [
    "import this"
   ]
  },
  {
   "cell_type": "code",
   "execution_count": null,
   "metadata": {},
   "outputs": [],
   "source": []
  }
 ],
 "metadata": {
  "kernelspec": {
   "display_name": "Python 3",
   "language": "python",
   "name": "python3"
  },
  "language_info": {
   "codemirror_mode": {
    "name": "ipython",
    "version": 3
   },
   "file_extension": ".py",
   "mimetype": "text/x-python",
   "name": "python",
   "nbconvert_exporter": "python",
   "pygments_lexer": "ipython3",
   "version": "3.8.5"
  }
 },
 "nbformat": 4,
 "nbformat_minor": 4
}
