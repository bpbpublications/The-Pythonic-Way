{
 "cells": [
  {
   "cell_type": "code",
   "execution_count": 1,
   "metadata": {},
   "outputs": [],
   "source": [
    "# 1.1.2\tConfiguring a Package - How the setup.py file looks like\n",
    "##################################################################\n",
    "\n",
    "from setuptools import setup, find_packages\n",
    "setup(\n",
    "  name='codebase',\n",
    "  version='1.0.1',\n",
    "  description='Programming Interview Questions',\n",
    "  long_description='Not kidding, you will find everything here.',\n",
    "\n",
    "  classifiers=[\n",
    "        'License :: OSI Approved :: MIT License',\n",
    "        'Programming Language :: Python :: 3.6',\n",
    "  ],\n",
    "  \n",
    "  keywords='interview programming questions python',\n",
    "  url='http://github.com/sonal-raj/codebase',\n",
    "\n",
    "  author='Sonal Raj',\n",
    "  author_email='info@sonalraj.com',\n",
    "  license='MIT',\n",
    "  packages=get_all_packages(),\n",
    "\n",
    "  install_requires=[\n",
    "          'markdown',\n",
    "          'pandas',\n",
    "  ],\n",
    "\n",
    "  include_package_data=True,\n",
    "  zip_safe=False\n",
    ")\n"
   ]
  },
  {
   "cell_type": "code",
   "execution_count": 1,
   "metadata": {},
   "outputs": [
    {
     "data": {
      "text/plain": [
       "2"
      ]
     },
     "execution_count": 1,
     "metadata": {},
     "output_type": "execute_result"
    }
   ],
   "source": [
    "# 1.1.10\tViewing the refcount of an object\n",
    "##############################################\n",
    "\n",
    "import sys\n",
    "alpha = object()\n",
    "sys.getrefcount(alpha)"
   ]
  },
  {
   "cell_type": "code",
   "execution_count": 2,
   "metadata": {},
   "outputs": [
    {
     "data": {
      "text/plain": [
       "3"
      ]
     },
     "execution_count": 2,
     "metadata": {},
     "output_type": "execute_result"
    }
   ],
   "source": [
    "beta = alpha\n",
    "sys.getrefcount(alpha)"
   ]
  },
  {
   "cell_type": "code",
   "execution_count": 3,
   "metadata": {},
   "outputs": [
    {
     "data": {
      "text/plain": [
       "2"
      ]
     },
     "execution_count": 3,
     "metadata": {},
     "output_type": "execute_result"
    }
   ],
   "source": [
    "del beta\n",
    "sys.getrefcount(alpha)"
   ]
  },
  {
   "cell_type": "code",
   "execution_count": 4,
   "metadata": {},
   "outputs": [
    {
     "data": {
      "text/plain": [
       "2347"
      ]
     },
     "execution_count": 4,
     "metadata": {},
     "output_type": "execute_result"
    }
   ],
   "source": [
    "# 1.1.11\tDoes Python reuse Primitive Type objects?\n",
    "######################################################\n",
    "\n",
    "import sys\n",
    "sys.getrefcount(1)"
   ]
  },
  {
   "cell_type": "code",
   "execution_count": 5,
   "metadata": {},
   "outputs": [
    {
     "data": {
      "text/plain": [
       "2358"
      ]
     },
     "execution_count": 5,
     "metadata": {},
     "output_type": "execute_result"
    }
   ],
   "source": [
    "alpha = 1\n",
    "beta = 1\n",
    "sys.getrefcount(1)"
   ]
  },
  {
   "cell_type": "code",
   "execution_count": 6,
   "metadata": {},
   "outputs": [
    {
     "data": {
      "text/plain": [
       "3"
      ]
     },
     "execution_count": 6,
     "metadata": {},
     "output_type": "execute_result"
    }
   ],
   "source": [
    "alpha = 9632545099\n",
    "sys.getrefcount(9632545099)"
   ]
  },
  {
   "cell_type": "code",
   "execution_count": 7,
   "metadata": {},
   "outputs": [
    {
     "data": {
      "text/plain": [
       "3"
      ]
     },
     "execution_count": 7,
     "metadata": {},
     "output_type": "execute_result"
    }
   ],
   "source": [
    ">>> beta = 9632545099\n",
    "sys.getrefcount(9632545099)"
   ]
  },
  {
   "cell_type": "code",
   "execution_count": 10,
   "metadata": {},
   "outputs": [],
   "source": [
    "# 1.1.12\tWhat happens with the del command?\n",
    "###############################################"
   ]
  },
  {
   "cell_type": "code",
   "execution_count": 8,
   "metadata": {},
   "outputs": [
    {
     "name": "stdout",
     "output_type": "stream",
     "text": [
      "Object Initialized\n",
      "Object Destroyed\n"
     ]
    }
   ],
   "source": [
    "import gc\n",
    "\n",
    "# Disable the garbage collector\n",
    "gc.disable()\n",
    "\n",
    "class DemoClass:\n",
    "    def __init__(self):\n",
    "        print(\"Object Initialized\")\n",
    "\n",
    "    def __del__(self):\n",
    "        print(\"Object Destroyed\")\n",
    "\n",
    "def test():\n",
    "    return DemoClass()\n",
    "\n",
    "\n",
    "first_inst = test()\n",
    "second_inst = first_inst \n",
    "del first_inst \n",
    "del second_inst "
   ]
  },
  {
   "cell_type": "code",
   "execution_count": 9,
   "metadata": {},
   "outputs": [],
   "source": [
    "# 1.1.13\tHow Reference Counting happens in Python?\n",
    "######################################################"
   ]
  },
  {
   "cell_type": "code",
   "execution_count": 10,
   "metadata": {},
   "outputs": [
    {
     "name": "stdout",
     "output_type": "stream",
     "text": [
      "Object Created\n",
      "Object Destroyed\n",
      "\n",
      "\n",
      "Object Created\n",
      "\n",
      "\n",
      "Object Destroyed\n"
     ]
    }
   ],
   "source": [
    "import gc\n",
    "gc.disable()\n",
    "\n",
    "class DemoClass:\n",
    "    def __init__(self):\n",
    "        print(\"Object Created\")\n",
    "\n",
    "    def __del__(self):\n",
    "        print(\"Object Destroyed\")\n",
    "\n",
    "def testDemo():\n",
    "    # Creating Object without Assigning \n",
    "    DemoClass()\n",
    "\n",
    "    # destructed immediately since no longer has any references\n",
    "    print(\"\\n\")\n",
    "    gamma = DemoClass()\n",
    "    print(\"\\n\")\n",
    "\n",
    "\n",
    "testDemo()"
   ]
  },
  {
   "cell_type": "code",
   "execution_count": 17,
   "metadata": {},
   "outputs": [],
   "source": [
    "# 1.1.14\tUsing Garbage Collector for Reference Cycles\n",
    "#########################################################"
   ]
  },
  {
   "cell_type": "code",
   "execution_count": 11,
   "metadata": {},
   "outputs": [],
   "source": [
    "import gc; \n",
    "gc.disable()\n",
    "\n",
    "class DemoClass:\n",
    "    def __init__(self):\n",
    "        print(\"Object Created\")\n",
    "\n",
    "    def __del__(self):\n",
    "        print(\"Object Destroyed\")\n"
   ]
  },
  {
   "cell_type": "code",
   "execution_count": 12,
   "metadata": {},
   "outputs": [
    {
     "name": "stdout",
     "output_type": "stream",
     "text": [
      "Object Created\n"
     ]
    }
   ],
   "source": [
    "Alpha = DemoClass()"
   ]
  },
  {
   "cell_type": "code",
   "execution_count": 13,
   "metadata": {},
   "outputs": [
    {
     "name": "stdout",
     "output_type": "stream",
     "text": [
      "Object Created\n"
     ]
    }
   ],
   "source": [
    "Beta = DemoClass()"
   ]
  },
  {
   "cell_type": "code",
   "execution_count": 14,
   "metadata": {},
   "outputs": [],
   "source": [
    "Alpha.deps = Beta\n",
    "Beta.deps = Alpha"
   ]
  },
  {
   "cell_type": "code",
   "execution_count": 15,
   "metadata": {},
   "outputs": [],
   "source": [
    "del Alpha\n",
    "del Beta"
   ]
  },
  {
   "cell_type": "code",
   "execution_count": 16,
   "metadata": {},
   "outputs": [
    {
     "name": "stdout",
     "output_type": "stream",
     "text": [
      "Object Destroyed\n",
      "Object Destroyed\n"
     ]
    },
    {
     "data": {
      "text/plain": [
       "285"
      ]
     },
     "execution_count": 16,
     "metadata": {},
     "output_type": "execute_result"
    }
   ],
   "source": [
    "gc.collect()"
   ]
  },
  {
   "cell_type": "code",
   "execution_count": 17,
   "metadata": {},
   "outputs": [
    {
     "name": "stdout",
     "output_type": "stream",
     "text": [
      "Object Created\n",
      "Object Created\n",
      "Object Created\n",
      "Object Created\n",
      "Object Created\n",
      "Object Created\n",
      "Object Created\n",
      "Object Created\n",
      "Object Created\n",
      "Object Created\n"
     ]
    }
   ],
   "source": [
    "demo_objects = [DemoClass() for _ in range(10)]"
   ]
  },
  {
   "cell_type": "code",
   "execution_count": 18,
   "metadata": {},
   "outputs": [],
   "source": [
    "for i in range(len(demo_objects)-1):\n",
    "    demo_objects[i].deps = demo_objects[i + 1]\n"
   ]
  },
  {
   "cell_type": "code",
   "execution_count": 19,
   "metadata": {},
   "outputs": [],
   "source": [
    "demo_objects[-1].deps = demo_objects[0]"
   ]
  },
  {
   "cell_type": "code",
   "execution_count": 20,
   "metadata": {},
   "outputs": [],
   "source": [
    "del demo_objects "
   ]
  },
  {
   "cell_type": "code",
   "execution_count": 21,
   "metadata": {},
   "outputs": [
    {
     "name": "stdout",
     "output_type": "stream",
     "text": [
      "Object Destroyed\n",
      "Object Destroyed\n",
      "Object Destroyed\n",
      "Object Destroyed\n",
      "Object Destroyed\n",
      "Object Destroyed\n",
      "Object Destroyed\n",
      "Object Destroyed\n",
      "Object Destroyed\n",
      "Object Destroyed\n"
     ]
    },
    {
     "data": {
      "text/plain": [
       "120"
      ]
     },
     "execution_count": 21,
     "metadata": {},
     "output_type": "execute_result"
    }
   ],
   "source": [
    "gc.collect()"
   ]
  },
  {
   "cell_type": "code",
   "execution_count": 30,
   "metadata": {},
   "outputs": [],
   "source": [
    "# 1.1.17\tCreate Secure Password Hashes\n",
    "##########################################"
   ]
  },
  {
   "cell_type": "code",
   "execution_count": 33,
   "metadata": {},
   "outputs": [],
   "source": [
    "import hashlib\n",
    "import os\n",
    "\n",
    "seed = os.urandom(16)\n",
    "hash = hashlib.pbkdf2_hmac('sha256', b'password', seed, 100000)"
   ]
  },
  {
   "cell_type": "code",
   "execution_count": 32,
   "metadata": {},
   "outputs": [],
   "source": [
    "import binascii\n",
    "hexhash = binascii.hexlify(hash)"
   ]
  },
  {
   "cell_type": "code",
   "execution_count": 34,
   "metadata": {},
   "outputs": [],
   "source": [
    "# 1.1.18\tCalculating a Message Digest\n",
    "#########################################"
   ]
  },
  {
   "cell_type": "code",
   "execution_count": 35,
   "metadata": {},
   "outputs": [
    {
     "data": {
      "text/plain": [
       "b'; \\x1d\\xf3\\x87#\\x15\\x18\\x192\\xd0\\x03\\xe4\\x92\\xac\\xba'"
      ]
     },
     "execution_count": 35,
     "metadata": {},
     "output_type": "execute_result"
    }
   ],
   "source": [
    "import hashlib\n",
    "\n",
    "hash = hashlib.new('md5')\n",
    "hash.update(b'This is my precious!')\n",
    "\n",
    "hash.digest()"
   ]
  },
  {
   "cell_type": "code",
   "execution_count": 36,
   "metadata": {},
   "outputs": [
    {
     "data": {
      "text/plain": [
       "'3b201df3872315181932d003e492acba'"
      ]
     },
     "execution_count": 36,
     "metadata": {},
     "output_type": "execute_result"
    }
   ],
   "source": [
    "hash.hexdigest()"
   ]
  },
  {
   "cell_type": "code",
   "execution_count": 37,
   "metadata": {},
   "outputs": [],
   "source": [
    "# 1.1.19\tWhat Hashing Algorithms are available?\n",
    "######################################################"
   ]
  },
  {
   "cell_type": "code",
   "execution_count": 38,
   "metadata": {},
   "outputs": [
    {
     "data": {
      "text/plain": [
       "{'blake2b',\n",
       " 'blake2s',\n",
       " 'md4',\n",
       " 'md5',\n",
       " 'md5-sha1',\n",
       " 'mdc2',\n",
       " 'ripemd160',\n",
       " 'sha1',\n",
       " 'sha224',\n",
       " 'sha256',\n",
       " 'sha384',\n",
       " 'sha3_224',\n",
       " 'sha3_256',\n",
       " 'sha3_384',\n",
       " 'sha3_512',\n",
       " 'sha512',\n",
       " 'sha512_224',\n",
       " 'sha512_256',\n",
       " 'shake_128',\n",
       " 'shake_256',\n",
       " 'sm3',\n",
       " 'whirlpool'}"
      ]
     },
     "execution_count": 38,
     "metadata": {},
     "output_type": "execute_result"
    }
   ],
   "source": [
    "import hashlib\n",
    "hashlib.algorithms_available"
   ]
  },
  {
   "cell_type": "code",
   "execution_count": 39,
   "metadata": {},
   "outputs": [
    {
     "data": {
      "text/plain": [
       "{'blake2b',\n",
       " 'blake2s',\n",
       " 'md5',\n",
       " 'sha1',\n",
       " 'sha224',\n",
       " 'sha256',\n",
       " 'sha384',\n",
       " 'sha3_224',\n",
       " 'sha3_256',\n",
       " 'sha3_384',\n",
       " 'sha3_512',\n",
       " 'sha512',\n",
       " 'shake_128',\n",
       " 'shake_256'}"
      ]
     },
     "execution_count": 39,
     "metadata": {},
     "output_type": "execute_result"
    }
   ],
   "source": [
    "hashlib.algorithms_guaranteed"
   ]
  },
  {
   "cell_type": "code",
   "execution_count": 42,
   "metadata": {},
   "outputs": [],
   "source": [
    "# 1.1.23\tUsing pycrypto for Symmetric encryption\n",
    "#####################################################"
   ]
  },
  {
   "cell_type": "code",
   "execution_count": null,
   "metadata": {},
   "outputs": [],
   "source": [
    "import os\n",
    "import math\n",
    "import hashlib\n",
    "from Crypto.Cipher import AES\n",
    "\n",
    "AES_IV_SIZE = 16 # 128 bit\n",
    "AES_KEY_SIZE = 32 # AES-256\n",
    "SEED_SIZE = 16 # Random Seed\n",
    "\n",
    "message = b'Wingardium Leviosa'\n",
    "password = b'Petrificus Totalis'\n",
    "seed = os.urandom(SEED_SIZE)\n",
    "hash_value = hashlib.pbkdf2_hmac(\n",
    "                'sha256', \n",
    "                password,\n",
    "                seed, \n",
    "                100000, \n",
    "                dklen=AES_IV_SIZE + AES_KEY_SIZE)\n",
    "\n",
    "aes_iv = hash_value[0:AES_IV_SIZE]\n",
    "aes_key = hash_value[AES_IV_SIZE:]\n",
    "\n",
    "encrypted = seed + AES.new(aes_key, \n",
    "                           AES.MODE_CFB, \n",
    "                           aes_iv).encrypt(message)"
   ]
  },
  {
   "cell_type": "code",
   "execution_count": 45,
   "metadata": {},
   "outputs": [],
   "source": [
    "# 1.1.25\tProfiling with cProfile\n",
    "#####################################"
   ]
  },
  {
   "cell_type": "code",
   "execution_count": 46,
   "metadata": {},
   "outputs": [
    {
     "name": "stdout",
     "output_type": "stream",
     "text": [
      "Speedy Execution!\n",
      "Slow Execution!\n",
      "Trying to be Fast!\n"
     ]
    }
   ],
   "source": [
    "import time\n",
    "\n",
    "def level1():\n",
    "    print(\"Speedy Execution!\")\n",
    "\n",
    "def level2():\n",
    "    time.sleep(0.5)\n",
    "    print(\"Trying to be Fast!\")\n",
    "\n",
    "def level3():\n",
    "    time.sleep(3)\n",
    "    print(\"Slow Execution!\")\n",
    "    \n",
    "    \n",
    "\n",
    "def main():\n",
    "    level1()\n",
    "    level3()\n",
    "    level2()\n",
    "    \n",
    "\n",
    "main()"
   ]
  },
  {
   "cell_type": "code",
   "execution_count": 47,
   "metadata": {},
   "outputs": [],
   "source": [
    "# 1.1.26\tProfiling using the timeit() function\n",
    "####################################################"
   ]
  },
  {
   "cell_type": "code",
   "execution_count": 48,
   "metadata": {},
   "outputs": [
    {
     "data": {
      "text/plain": [
       "13.755794100000003"
      ]
     },
     "execution_count": 48,
     "metadata": {},
     "output_type": "execute_result"
    }
   ],
   "source": [
    "import timeit\n",
    "\n",
    "timeit.timeit('list(itertools.repeat(\"a\", 100))', 'import itertools', number = 10000000)"
   ]
  },
  {
   "cell_type": "code",
   "execution_count": 49,
   "metadata": {},
   "outputs": [
    {
     "data": {
      "text/plain": [
       "7.0460467000000335"
      ]
     },
     "execution_count": 49,
     "metadata": {},
     "output_type": "execute_result"
    }
   ],
   "source": [
    "timeit.timeit('[\"a\"]*100', number = 10000000)"
   ]
  },
  {
   "cell_type": "code",
   "execution_count": 50,
   "metadata": {},
   "outputs": [],
   "source": [
    "# 1.1.27\tUsing the @profile directive for Line Profiling Code.\n",
    "###################################################################"
   ]
  },
  {
   "cell_type": "code",
   "execution_count": null,
   "metadata": {},
   "outputs": [],
   "source": [
    "import requests\n",
    "from profile import profile\n",
    "\n",
    "@profile\n",
    "def download():\n",
    "    s = requests.session()\n",
    "    html=s.get(\"https://www.sonalraj.com/\").text\n",
    "    sum([pow(ord(x),3.1) for x in list(html)])\n",
    "\n",
    "for i in range(50):\n",
    "    download()"
   ]
  },
  {
   "cell_type": "code",
   "execution_count": 55,
   "metadata": {},
   "outputs": [],
   "source": [
    "# 1.1.28\tMultiprocessing Pool\n",
    "##################################"
   ]
  },
  {
   "cell_type": "code",
   "execution_count": 58,
   "metadata": {},
   "outputs": [
    {
     "name": "stdout",
     "output_type": "stream",
     "text": [
      "1.0997166633605957\n"
     ]
    }
   ],
   "source": [
    "# Using Regular Threads\n",
    "\n",
    "import time\n",
    "from threading import Thread\n",
    "\n",
    "def count_to_one(num):\n",
    "    while num > 0:\n",
    "        num -= 1\n",
    "\n",
    "ALL_COUNT = 10000000\n",
    "\n",
    "thd1 = Thread(target=count_to_one, args=(ALL_COUNT/2,))\n",
    "thd2 = Thread(target=count_to_one, args=(ALL_COUNT/2,))\n",
    "start_time = time.time()\n",
    "\n",
    "thd1.start(); thd2.start()\n",
    "thd1.join(); thd2.join()\n",
    "end_time = time.time()\n",
    "\n",
    "print(end_time - start_time)"
   ]
  },
  {
   "cell_type": "code",
   "execution_count": null,
   "metadata": {},
   "outputs": [],
   "source": [
    "# Using Multiprocessing - Pythonic\n",
    "####################################\n",
    "\n",
    "import time\n",
    "import multiprocessing\n",
    "\n",
    "def count_to_one(num):\n",
    "    while num > 0:\n",
    "        num -= 1\n",
    "\n",
    "ALL_COUNT = 10000000\n",
    "\n",
    "start_time = time.time()\n",
    "with multiprocessing.Pool as pool:\n",
    "    pool.map(count_to_one, [ALL_COUNT/2, ALL_COUNT/2])\n",
    "    pool.close()\n",
    "    pool.join()\n",
    "\n",
    "end_time = time.time()\n",
    "print(end_time - start_time)"
   ]
  }
 ],
 "metadata": {
  "kernelspec": {
   "display_name": "Python 3",
   "language": "python",
   "name": "python3"
  },
  "language_info": {
   "codemirror_mode": {
    "name": "ipython",
    "version": 3
   },
   "file_extension": ".py",
   "mimetype": "text/x-python",
   "name": "python",
   "nbconvert_exporter": "python",
   "pygments_lexer": "ipython3",
   "version": "3.8.5"
  }
 },
 "nbformat": 4,
 "nbformat_minor": 4
}
