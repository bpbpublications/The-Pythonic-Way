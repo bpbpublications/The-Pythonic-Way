{
 "cells": [
  {
   "cell_type": "code",
   "execution_count": 4,
   "metadata": {},
   "outputs": [],
   "source": [
    "# Code that makes use of comprehensions is considered more ‘Pythonic’\n",
    "from math import factorial\n",
    "def is_prime(x):\n",
    "    return factorial(x - 1)  % x == x - 1\n",
    "    \n",
    "\n",
    "# The loop version –\n",
    "some_other_list = range(1, 10)\n",
    "some_list = list()\n",
    "for element in some_other_list:\n",
    "    if is_prime(element):\n",
    "        some_list.append(element + 5)\n",
    "\n",
    "# The Pythonic Way to do this would be – \n",
    "other_list = range(1, 10)\n",
    "some_list = [el + 5 for el in other_list if\n",
    "               is_prime(element)]\n"
   ]
  },
  {
   "cell_type": "code",
   "execution_count": 5,
   "metadata": {},
   "outputs": [],
   "source": [
    "# 1.1.2\tUsing List Comprehension instead of map() and filter()\n",
    "\n",
    "# The standard use of map and filter\n",
    "list_of_nums = [1, 2, 3, 4, 5, 6, 7, 8, 9, 10]\n",
    "\n",
    "def is_odd_number(number):\n",
    "    return number % 2 == 1\n",
    "\n",
    "odd_numbers = filter(is_odd_number, list_of_nums)\n",
    "odd_numbers_doubled = list(map(lambda x: x * 2, odd_numbers))\n",
    "\n",
    "\n",
    "# The Pythonic Way \n",
    "the_list = [1, 2, 3, 4, 5, 6, 7, 8, 9, 10]\n",
    "odd_numbers_doubled = [n * 2 for n in the_list if n % 2 == 1]"
   ]
  },
  {
   "cell_type": "code",
   "execution_count": 6,
   "metadata": {},
   "outputs": [],
   "source": [
    "# 1.1.3\tUse Negative Index for Fast Reverse Access\n",
    "\n",
    "# The Regular Approach\n",
    "def get_word_suffix(word):\n",
    "    length_of_word = len(word)\n",
    "    return word[length_of_world - 2:]\n",
    "\n",
    "# The Pythonic Way\n",
    "def get_word_suffix(word):\n",
    "    return word[-2:]"
   ]
  },
  {
   "cell_type": "code",
   "execution_count": 7,
   "metadata": {},
   "outputs": [],
   "source": [
    "# 1.1.4\tDetermine iterability with 'all' (and 'any')\n",
    "\n",
    "# The Regular Approach – \n",
    "def has_zero(iterable):\n",
    "\tfor element in iterable:\n",
    "\t    if element == 0:\n",
    "\t        return True\n",
    "\treturn False\n",
    "\n",
    "# The Pythonic way\n",
    "def has_zero(iterable):\n",
    "    return all(iterable)"
   ]
  },
  {
   "cell_type": "code",
   "execution_count": 10,
   "metadata": {},
   "outputs": [
    {
     "name": "stdout",
     "output_type": "stream",
     "text": [
      "# The Standard Usage\n",
      "['c', 'd', 'e']\n",
      "['b', 'c', 'd']\n",
      "['a', 'b', 'c']\n",
      "# The Pythonic way\n",
      "['c', 'd', 'e']\n",
      "['b', 'c', 'd']\n",
      "['a', 'b', 'c']\n"
     ]
    }
   ],
   "source": [
    "# The * operator in this case is a new feature introduced in Python 3 to denote a subsequence.\n",
    "\n",
    "print(\"# The Standard Usage\")\n",
    "mylist = ['a', 'b', 'c', 'd', 'e']\n",
    "(el1, el2, remaining) = mylist [0], mylist [1], mylist [2:] \n",
    "print(remaining)\n",
    "\n",
    "(el1, middle, eln) = mylist [0], mylist [1:-1], mylist [-1] \n",
    "print(middle)\n",
    "\n",
    "(el1, elnminus1, eln) = mylist [:-2], mylist [-2], mylist [-1] \n",
    "print(el1)\n",
    "\n",
    "print(\"# The Pythonic way\")\n",
    "mylist = ['a', 'b', 'c', 'd', 'e'] \n",
    "(el1, el2, *remaining) = mylist\n",
    "print(remaining)\n",
    "\n",
    "(el1, *middle, eln) = mylist\n",
    "print(middle)\n",
    "\n",
    "(*el1, elnminus1, eln) = mylist\n",
    "print(el1)"
   ]
  },
  {
   "cell_type": "code",
   "execution_count": 12,
   "metadata": {},
   "outputs": [
    {
     "name": "stdout",
     "output_type": "stream",
     "text": [
      "array('f', [12.0, 1.25, 21.0, 12.5])\n"
     ]
    },
    {
     "ename": "TypeError",
     "evalue": "must be real number, not str",
     "output_type": "error",
     "traceback": [
      "\u001b[1;31m---------------------------------------------------------------------------\u001b[0m",
      "\u001b[1;31mTypeError\u001b[0m                                 Traceback (most recent call last)",
      "\u001b[1;32m<ipython-input-12-ee75308db72b>\u001b[0m in \u001b[0;36m<module>\u001b[1;34m\u001b[0m\n\u001b[0;32m     19\u001b[0m \u001b[1;33m\u001b[0m\u001b[0m\n\u001b[0;32m     20\u001b[0m \u001b[1;31m# Strong type implementation\u001b[0m\u001b[1;33m\u001b[0m\u001b[1;33m\u001b[0m\u001b[1;33m\u001b[0m\u001b[0m\n\u001b[1;32m---> 21\u001b[1;33m \u001b[0mmyarr\u001b[0m\u001b[1;33m[\u001b[0m\u001b[1;36m1\u001b[0m\u001b[1;33m]\u001b[0m \u001b[1;33m=\u001b[0m \u001b[1;34m'python'\u001b[0m\u001b[1;33m\u001b[0m\u001b[1;33m\u001b[0m\u001b[0m\n\u001b[0m",
      "\u001b[1;31mTypeError\u001b[0m: must be real number, not str"
     ]
    }
   ],
   "source": [
    "# C-style types including bytes, integers, floats among others are handled in Python \n",
    "# in a space-efficient and structured way with the built-in array module.\n",
    "\n",
    "# Basic array.array - Basic Typed Arrays \n",
    "import array\n",
    "myarr = array.array('f', (12.0, 1.25, 21.0, 12.5))\n",
    "\n",
    "# Arrays have a better representation\n",
    "print(myarr)\n",
    "\n",
    "# Mutability \n",
    "myarr[1] = 27.5\n",
    "\n",
    "# Deletion \n",
    "del myarr[1]\n",
    "\n",
    "# Same interface as python lists \n",
    "myarr.append(13.25)\n",
    "\n",
    "# Strong type implementation\n",
    "myarr[1] = 'python'\n"
   ]
  },
  {
   "cell_type": "code",
   "execution_count": null,
   "metadata": {},
   "outputs": [],
   "source": [
    "# 1.1.10\tProvide default parameters while retrieving dict values\n",
    "\n",
    "# The Regular Way \n",
    "\n",
    "my_car = None\n",
    "if 'volvo' in ibis_cars_config:\n",
    "    my_car = ibis_cars_config['volvo'] \n",
    "else:\n",
    "    my_car = 'XC90'\n",
    "\n",
    "# The Pythonic Way \n",
    "my_car = ibis_cars_config.get('volvo', 'XC90')\n"
   ]
  },
  {
   "cell_type": "code",
   "execution_count": 16,
   "metadata": {},
   "outputs": [],
   "source": [
    "# 1.1.12\tSimulate switch-case using dicts\n",
    "\n",
    "# The Regular Way.\n",
    "def calculate(var1, var2, oprtr): \n",
    "    if oprtr == '+':\n",
    "        return var1 + var2 \n",
    "    elif operator == '-':\n",
    "        return var1 - var2 \n",
    "    elif operator == '*':\n",
    "        return var1 * var2 \n",
    "    elif operator == '/':\n",
    "        return var2 / var2\n",
    "\n",
    "# The Pythonic Way\n",
    "import operator as op\n",
    "def calculate(var1, var2, oprtr): \n",
    "    oprtr_dict = {'+': op.add, '-': op.sub, '*': op.mul,                 \n",
    "                  '/': op.truediv}\n",
    "    return oprtr_dict[oprtr](var1, var2)\n"
   ]
  },
  {
   "cell_type": "code",
   "execution_count": 19,
   "metadata": {},
   "outputs": [],
   "source": [
    "# 1.1.13\tDict Comprehensions for optimized dict construction\n",
    "list_of_users = []\n",
    "\n",
    "# The Regular Way \n",
    "emails_for_user = {}\n",
    "for user in list_of_users:\n",
    "    if user.email:\n",
    "        emails_for_user[user.name] = user.email\n",
    "\n",
    "# The Pythonic Way \n",
    "emails_for_user = {user.name: user.email for user in list_of_users if user.email}\n"
   ]
  },
  {
   "cell_type": "code",
   "execution_count": 24,
   "metadata": {},
   "outputs": [
    {
     "data": {
      "text/plain": [
       "[('a', 4), ('b', 3), ('c', 2), ('d', 1)]"
      ]
     },
     "execution_count": 24,
     "metadata": {},
     "output_type": "execute_result"
    }
   ],
   "source": [
    "# Sorting Dictionaries\n",
    "\n",
    "norm_dict = {'a': 4, 'c': 2, 'b': 3, 'd': 1}\n",
    "\n",
    "sorted(norm_dict.items())"
   ]
  },
  {
   "cell_type": "code",
   "execution_count": 25,
   "metadata": {},
   "outputs": [
    {
     "data": {
      "text/plain": [
       "[('d', 1), ('c', 2), ('b', 3), ('a', 4)]"
      ]
     },
     "execution_count": 25,
     "metadata": {},
     "output_type": "execute_result"
    }
   ],
   "source": [
    "sorted(norm_dict.items(), key=lambda x: x[1])"
   ]
  },
  {
   "cell_type": "code",
   "execution_count": 26,
   "metadata": {},
   "outputs": [
    {
     "data": {
      "text/plain": [
       "[('d', 1), ('c', 2), ('b', 3), ('a', 4)]"
      ]
     },
     "execution_count": 26,
     "metadata": {},
     "output_type": "execute_result"
    }
   ],
   "source": [
    "import operator\n",
    "sorted(norm_dict.items(), key=operator.itemgetter(1))"
   ]
  },
  {
   "cell_type": "code",
   "execution_count": 28,
   "metadata": {},
   "outputs": [
    {
     "data": {
      "text/plain": [
       "{True: 'sure'}"
      ]
     },
     "execution_count": 28,
     "metadata": {},
     "output_type": "execute_result"
    }
   ],
   "source": [
    "# 1.1.20\tA Weird Expression!?\n",
    "\n",
    "{True: 'yes', 1: 'hell no', 1.0: 'sure'}"
   ]
  },
  {
   "cell_type": "code",
   "execution_count": 29,
   "metadata": {},
   "outputs": [
    {
     "data": {
      "text/plain": [
       "True"
      ]
     },
     "execution_count": 29,
     "metadata": {},
     "output_type": "execute_result"
    }
   ],
   "source": [
    "True == 1 == 1.0 "
   ]
  },
  {
   "cell_type": "code",
   "execution_count": null,
   "metadata": {},
   "outputs": [],
   "source": [
    "# Any time you need to choose elements from two or more sequences \n",
    "# based on properties of sequence membership, you should choose a set. \n",
    "\n",
    "# The Regular Way \n",
    "\n",
    "def get_largest_and_fastest_growth_nations():\n",
    "    largest_growth_nations = get_list_of_largest_growth_nations()\n",
    "    fastest_growth_nations = get_list_of_fastest_growth_nations()\tlargest_and_fastest_growth_nations = []\n",
    "    for user in largest_growth_nations:\n",
    "        if user in fastest_growth_nations: \n",
    "            largest_and_fastest_growth_nations.append(user)\n",
    "    return largest_and_fastest_growth_nations\n",
    "\n",
    "\n",
    "# The Pythonic Way \n",
    "\n",
    "def get_largest_and_fastest_growth_nations():\n",
    "    return(set(get_largest_growth_nations()) & \n",
    "           set(get_fastest_growth_nations()))\n"
   ]
  },
  {
   "cell_type": "code",
   "execution_count": null,
   "metadata": {},
   "outputs": [],
   "source": [
    "# 1.1.22\tSet generation with comprehensions\n",
    "\n",
    "# The Regular Way \n",
    "famous_family_names = set() \n",
    "for person in famous_people:\n",
    "    famous_family_names.add(person.surname)\n",
    "\n",
    "# The Pythonic Way \n",
    "famous_family_names = {person.surname for person in famous_people}\n"
   ]
  },
  {
   "cell_type": "code",
   "execution_count": 33,
   "metadata": {},
   "outputs": [],
   "source": [
    "# 1.1.23\tUsing Sets to determine common list values\n",
    "\n",
    "# The Regular Way \n",
    "red_hair_people = ['Tima', 'Gelo', 'Ahgem'] \n",
    "blue_eyed_people = ['Rihcur', 'Gelo', 'Tikna']\n",
    "\n",
    "def are_red_hair_blue_eyed_people_present(red_hair_people,  \n",
    "                                          blue_eyed_people): \n",
    "    has_both = False\n",
    "    for person in red_hair_people:\n",
    "        if person in blue_eyed_people: \n",
    "            has_both = True\n",
    "    return has_both\n",
    "\n",
    "\n",
    "# The Pythonic Way \n",
    "def are_red_hair_blue_eyed_people_present(red_hair_people, \n",
    "                                          blue_eyed_people): \n",
    "    return set(red_hair_people) & set(blue_eyed_people)\n"
   ]
  },
  {
   "cell_type": "code",
   "execution_count": 35,
   "metadata": {},
   "outputs": [],
   "source": [
    "# 1.1.24 Eliminating duplicate elements from Iterables\n",
    "list_of_cities = []\n",
    "\n",
    "# The Regular Way \n",
    "unique_city_list = []\n",
    "for city in list_of_cities:\n",
    "    if city not in unique_city_list: \n",
    "        unique_city_list.append(city)\n",
    "\n",
    "# The Pythonic Way \n",
    "unique_city_list = set(list_of_cities)\n"
   ]
  },
  {
   "cell_type": "code",
   "execution_count": 37,
   "metadata": {},
   "outputs": [],
   "source": [
    "# 1.1.28\tUnpacking data using Tuples\n",
    "\n",
    "# The Regular Way \n",
    "csv_file_row = ['Carle', 'carle@gmail.com', 27] \n",
    "name = csv_file_row[0]\n",
    "email = csv_file_row[1]\n",
    "age = csv_file_row[2]\n",
    "output = (\"{}, {}, {} years old\".format(name, email, age))\n",
    "\n",
    "# The Pythonic Way \n",
    "csv_file_row = ['Carle', 'carle@gmail.com', 27] \n",
    "(name, email, age) = csv_file_row\n",
    "output = (\"{}, {}, {} years old\".format(name, email, age))\n"
   ]
  },
  {
   "cell_type": "code",
   "execution_count": null,
   "metadata": {},
   "outputs": [],
   "source": [
    "# 1.1.29\tIgnore tuple data with the '_' placeholder. \n",
    "\n",
    "# The Regular Way\n",
    "# Using confusing unused names \n",
    "(name, age, temp, temp2) = get_info(person) \n",
    "if age > 21:\n",
    "    output = '{name} can drink!'.format(name=name) \n",
    "\n",
    "# The Pythonic Way \n",
    "# Only interesting fields are named\n",
    "(name, age, _, _) = get_user_info(user) \n"
   ]
  },
  {
   "cell_type": "code",
   "execution_count": 39,
   "metadata": {},
   "outputs": [
    {
     "name": "stdout",
     "output_type": "stream",
     "text": [
      "Car(color='red', mileage=3812.4, automatic=True)\n",
      "3812.4\n"
     ]
    }
   ],
   "source": [
    "# 1.1.31\tNamedtuples with advanced features with typing.NamedTuple\n",
    "from typing import NamedTuple\n",
    "class Car(NamedTuple): \n",
    "    color: str\n",
    "    mileage: float\n",
    "    automatic: bool\n",
    "\n",
    "car1 = Car('red', 3812.4, True)\n",
    "print(car1)\n",
    "print(car1.mileage)\n"
   ]
  },
  {
   "cell_type": "code",
   "execution_count": 40,
   "metadata": {},
   "outputs": [
    {
     "ename": "AttributeError",
     "evalue": "can't set attribute",
     "output_type": "error",
     "traceback": [
      "\u001b[1;31m---------------------------------------------------------------------------\u001b[0m",
      "\u001b[1;31mAttributeError\u001b[0m                            Traceback (most recent call last)",
      "\u001b[1;32m<ipython-input-40-50bff3d1ed53>\u001b[0m in \u001b[0;36m<module>\u001b[1;34m\u001b[0m\n\u001b[0;32m      1\u001b[0m \u001b[1;31m# Immutable Fields\u001b[0m\u001b[1;33m\u001b[0m\u001b[1;33m\u001b[0m\u001b[1;33m\u001b[0m\u001b[0m\n\u001b[1;32m----> 2\u001b[1;33m \u001b[0mcar1\u001b[0m\u001b[1;33m.\u001b[0m\u001b[0mmileage\u001b[0m \u001b[1;33m=\u001b[0m \u001b[1;36m23\u001b[0m\u001b[1;33m\u001b[0m\u001b[1;33m\u001b[0m\u001b[0m\n\u001b[0m",
      "\u001b[1;31mAttributeError\u001b[0m: can't set attribute"
     ]
    }
   ],
   "source": [
    "# Immutable Fields\n",
    "car1.mileage = 23"
   ]
  },
  {
   "cell_type": "code",
   "execution_count": 41,
   "metadata": {},
   "outputs": [
    {
     "name": "stdout",
     "output_type": "stream",
     "text": [
      "Car(color='red', mileage='NOT_A_FLOAT', automatic=99) \n",
      " Car(color='red', mileage='NOT_A_FLOAT', automatic=99)\n"
     ]
    }
   ],
   "source": [
    "car1 = Car('red', 'NOT_A_FLOAT', 99)\n",
    "car2 = Car(color='red', mileage='NOT_A_FLOAT', automatic=99)\n",
    "print(car1,'\\n',car2)"
   ]
  },
  {
   "cell_type": "code",
   "execution_count": 43,
   "metadata": {},
   "outputs": [],
   "source": [
    "# 1.1.32\tCreate a single string from list elements with ''.join\n",
    "\n",
    "# The Regular Way\n",
    "list_of_str = ['Syntax Error', 'Network Error', 'File not found']\n",
    "concat_string = ''\n",
    "for substring in list_of_str:\n",
    "    concat_string += substring\n",
    "\n",
    "# The Pythonic Way \n",
    "list_of_str = ['Syntax Error', 'Network Error', 'File not found']\n",
    "concat_string = ''.join(list_of_str)"
   ]
  },
  {
   "cell_type": "code",
   "execution_count": 44,
   "metadata": {},
   "outputs": [],
   "source": [
    "# 1.1.33\tEnhance clarity by chaining string functions\n",
    "\n",
    "# The Regular Way.\n",
    "title_name = ' The Pythonic Way : BPB Publications'\n",
    "formatted_title = title_name.strip(\" \")\n",
    "formatted_title = formatted_title.upper()\n",
    "formatted_title = formatted_title.replace(':', ' by')\n",
    "\n",
    "# The Pythonic Way.  \n",
    "title_name = ' The Pythonic Way : BPB Publications'\n",
    "formatted_title = title_name.strip(\" \").upper().replace(':', ' by')\n"
   ]
  },
  {
   "cell_type": "code",
   "execution_count": 47,
   "metadata": {},
   "outputs": [],
   "source": [
    "# 1.1.37\tAttribute defaults with types.SimpleNamespace\n",
    "\n",
    "class SimpleNamespace:\n",
    "    def __init__(self, **kwargs):\n",
    "        self.__dict__.update(kwargs)\n",
    "\n",
    "    def __repr__(self):\n",
    "        keys = sorted(self.__dict__)\n",
    "        items = (\"{}={!r}\".format(k, self.__dict__[k]) for k in \n",
    "                  keys)\n",
    "        return \"{}({})\".format(type(self).__name__, \" ,\".join(items))\n",
    "\n",
    "    def __eq__(self, other):\n",
    "        return self.__dict__ == other.__dict__"
   ]
  },
  {
   "cell_type": "code",
   "execution_count": 48,
   "metadata": {},
   "outputs": [
    {
     "name": "stdout",
     "output_type": "stream",
     "text": [
      "namespace(a=1, b=2)\n"
     ]
    }
   ],
   "source": [
    "from types import SimpleNamespace\n",
    "data = SimpleNamespace(a=1, b=2)\n",
    "print(data)\n"
   ]
  },
  {
   "cell_type": "code",
   "execution_count": 49,
   "metadata": {},
   "outputs": [
    {
     "name": "stdout",
     "output_type": "stream",
     "text": [
      "namespace(a=1, b=2, c=3)\n"
     ]
    }
   ],
   "source": [
    "data.c = 3\n",
    "print(data)"
   ]
  },
  {
   "cell_type": "code",
   "execution_count": 51,
   "metadata": {},
   "outputs": [
    {
     "name": "stdout",
     "output_type": "stream",
     "text": [
      "deque(['eat', 'pray', 'love'])\n",
      "love\n",
      "pray\n",
      "eat\n"
     ]
    },
    {
     "ename": "IndexError",
     "evalue": "pop from an empty deque",
     "output_type": "error",
     "traceback": [
      "\u001b[1;31m---------------------------------------------------------------------------\u001b[0m",
      "\u001b[1;31mIndexError\u001b[0m                                Traceback (most recent call last)",
      "\u001b[1;32m<ipython-input-51-d9bd147a6ac8>\u001b[0m in \u001b[0;36m<module>\u001b[1;34m\u001b[0m\n\u001b[0;32m     11\u001b[0m \u001b[0mprint\u001b[0m\u001b[1;33m(\u001b[0m\u001b[0mstack\u001b[0m\u001b[1;33m.\u001b[0m\u001b[0mpop\u001b[0m\u001b[1;33m(\u001b[0m\u001b[1;33m)\u001b[0m\u001b[1;33m)\u001b[0m\u001b[1;33m\u001b[0m\u001b[1;33m\u001b[0m\u001b[0m\n\u001b[0;32m     12\u001b[0m \u001b[0mprint\u001b[0m\u001b[1;33m(\u001b[0m\u001b[0mstack\u001b[0m\u001b[1;33m.\u001b[0m\u001b[0mpop\u001b[0m\u001b[1;33m(\u001b[0m\u001b[1;33m)\u001b[0m\u001b[1;33m)\u001b[0m\u001b[1;33m\u001b[0m\u001b[1;33m\u001b[0m\u001b[0m\n\u001b[1;32m---> 13\u001b[1;33m \u001b[0mstack\u001b[0m\u001b[1;33m.\u001b[0m\u001b[0mpop\u001b[0m\u001b[1;33m(\u001b[0m\u001b[1;33m)\u001b[0m\u001b[1;33m\u001b[0m\u001b[1;33m\u001b[0m\u001b[0m\n\u001b[0m",
      "\u001b[1;31mIndexError\u001b[0m: pop from an empty deque"
     ]
    }
   ],
   "source": [
    "# 1.1.38\tImplement Speedy & Robust stacks with collections.deque \n",
    "\n",
    "from collections import deque\n",
    "stack = deque()\n",
    "stack.append('eat')\n",
    "stack.append('pray')\n",
    "stack.append('love')\n",
    "print(stack)\n",
    "\n",
    "print(stack.pop())\n",
    "print(stack.pop())\n",
    "print(stack.pop())\n",
    "stack.pop()"
   ]
  },
  {
   "cell_type": "code",
   "execution_count": 52,
   "metadata": {},
   "outputs": [
    {
     "name": "stdout",
     "output_type": "stream",
     "text": [
      "deque(['eat', 'pray', 'love'])\n"
     ]
    },
    {
     "ename": "IndexError",
     "evalue": "pop from an empty deque",
     "output_type": "error",
     "traceback": [
      "\u001b[1;31m---------------------------------------------------------------------------\u001b[0m",
      "\u001b[1;31mIndexError\u001b[0m                                Traceback (most recent call last)",
      "\u001b[1;32m<ipython-input-52-0df86271bf4f>\u001b[0m in \u001b[0;36m<module>\u001b[1;34m\u001b[0m\n\u001b[0;32m     11\u001b[0m \u001b[0mqueue\u001b[0m\u001b[1;33m.\u001b[0m\u001b[0mpopleft\u001b[0m\u001b[1;33m(\u001b[0m\u001b[1;33m)\u001b[0m\u001b[1;33m\u001b[0m\u001b[1;33m\u001b[0m\u001b[0m\n\u001b[0;32m     12\u001b[0m \u001b[0mqueue\u001b[0m\u001b[1;33m.\u001b[0m\u001b[0mpopleft\u001b[0m\u001b[1;33m(\u001b[0m\u001b[1;33m)\u001b[0m\u001b[1;33m\u001b[0m\u001b[1;33m\u001b[0m\u001b[0m\n\u001b[1;32m---> 13\u001b[1;33m \u001b[0mqueue\u001b[0m\u001b[1;33m.\u001b[0m\u001b[0mpopleft\u001b[0m\u001b[1;33m(\u001b[0m\u001b[1;33m)\u001b[0m\u001b[1;33m\u001b[0m\u001b[1;33m\u001b[0m\u001b[0m\n\u001b[0m",
      "\u001b[1;31mIndexError\u001b[0m: pop from an empty deque"
     ]
    }
   ],
   "source": [
    "# 1.1.39\tImplement fast and robust queues with collections.deque\n",
    "\n",
    "from collections import deque\n",
    "queue = deque()\n",
    "queue.append('eat')\n",
    "queue.append('pray')\n",
    "queue.append('love')\n",
    "print(queue)\n",
    "\n",
    "queue.popleft()\n",
    "queue.popleft()\n",
    "queue.popleft()\n",
    "queue.popleft()"
   ]
  },
  {
   "cell_type": "code",
   "execution_count": null,
   "metadata": {},
   "outputs": [],
   "source": [
    "# 1.1.40\tParallel Compute lock semantics with queue.Queue \n",
    "\n",
    "from queue import Queue\n",
    "simpleq = Queue()\n",
    "simpleq.put('eat')\n",
    "simpleq.put('pray')\n",
    "simpleq.put('love')\n",
    "print(simpleq)\n",
    "\n",
    "simpleq.get()\n",
    "simpleq.get()\n",
    "simpleq.get()\n",
    "simpleq.get_nowait() # Results in empty queue exception\n",
    "\n",
    "simpleq.get() # Continuousy Blocks / waits ...\n"
   ]
  },
  {
   "cell_type": "code",
   "execution_count": null,
   "metadata": {},
   "outputs": [],
   "source": [
    "# 1.1.41\tParallel Compute lock semantics with queue.LifoQueue.\n",
    "\n",
    "from queue import LifoQueue\n",
    "squeue = LifoQueue()\n",
    "squeue.put('eat')\n",
    "squeue.put('pray')\n",
    "squeue.put('love')\n",
    "print(squeue)\n",
    "\n",
    "print(squeue.get())\n",
    "print(squeue.get())\n",
    "print(squeue.get())\n",
    "print(squeue.get()) # This is a blocking call and will run forever\n"
   ]
  },
  {
   "cell_type": "code",
   "execution_count": null,
   "metadata": {},
   "outputs": [],
   "source": [
    "# 1.1.42\tUsing shared job queues using multiprocessing.Queue\n",
    "\n",
    "from multiprocessing import Queue\n",
    "multiq = Queue()\n",
    "multiq.put('eat')\n",
    "multiq.put('pray')\n",
    "multiq.put('love')\n",
    "print(multiq)\n",
    "\n",
    "multiq.get()\n",
    "multiq.get()\n",
    "multiq.get()\n",
    "multiq.get() # Continuously Blocks / waits...\n"
   ]
  },
  {
   "cell_type": "code",
   "execution_count": 58,
   "metadata": {},
   "outputs": [
    {
     "name": "stdout",
     "output_type": "stream",
     "text": [
      "(1, 'eat')\n",
      "(2, 'pray')\n",
      "(3, 'love')\n"
     ]
    }
   ],
   "source": [
    "# 1.1.43\tUsing list based binary heaps with heapq\n",
    "\n",
    "import heapq\n",
    "heepq = []\n",
    "heapq.heappush(heepq, (2, 'pray'))\n",
    "heapq.heappush(heepq, (1, 'eat'))\n",
    "heapq.heappush(heepq, (3, 'love'))\n",
    "\n",
    "while heepq:\n",
    "    next_thing = heapq.heappop(heepq)\n",
    "    print(next_thing)\n"
   ]
  },
  {
   "cell_type": "code",
   "execution_count": 59,
   "metadata": {},
   "outputs": [
    {
     "name": "stdout",
     "output_type": "stream",
     "text": [
      "(1, 'eat')\n",
      "(2, 'pray')\n",
      "(3, 'love')\n"
     ]
    }
   ],
   "source": [
    "# 1.1.44\tImplementing priority queues with queue.PriorityQueue \n",
    "\n",
    "from queue import PriorityQueue\n",
    "priorityq = PriorityQueue()\n",
    "priorityq.put((2, 'pray'))\n",
    "priorityq.put((1, 'eat'))\n",
    "priorityq.put((3, 'love'))\n",
    "\n",
    "while not priorityq.empty():\n",
    "    next_elem = priorityq.get()\n",
    "    print(next_elem)\n"
   ]
  },
  {
   "cell_type": "code",
   "execution_count": null,
   "metadata": {},
   "outputs": [],
   "source": []
  }
 ],
 "metadata": {
  "kernelspec": {
   "display_name": "Python 3",
   "language": "python",
   "name": "python3"
  },
  "language_info": {
   "codemirror_mode": {
    "name": "ipython",
    "version": 3
   },
   "file_extension": ".py",
   "mimetype": "text/x-python",
   "name": "python",
   "nbconvert_exporter": "python",
   "pygments_lexer": "ipython3",
   "version": "3.8.5"
  }
 },
 "nbformat": 4,
 "nbformat_minor": 4
}
