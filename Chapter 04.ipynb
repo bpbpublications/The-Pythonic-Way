{
 "cells": [
  {
   "cell_type": "code",
   "execution_count": null,
   "metadata": {},
   "outputs": [],
   "source": [
    "# 1.1.7\tSingleton nature of imports in Python \n",
    "\n",
    "from typing import Optional\n",
    "from __future__ import annotations\n",
    "\n",
    "class HelperMetaClass(type):\n",
    "    \"\"\"We can implement Singleton classes in Python in multiple ways, including decorators, \n",
    "    metaclasses and base parent classes among others. Let’s use a metaclass for this example.\n",
    "    \"\"\"\n",
    "    _object: Optional[MySingletonClass] = None\n",
    "    def __call__(self) -> MySingletonClass:\n",
    "        if self._object is None:\n",
    "            self._object = super().__call__()\n",
    "        return self._object\n",
    "\n",
    "\n",
    "class MySingletonClass(metaclass=HelperMetaClass):\n",
    "    def do_something(self):\n",
    "    \"\"\"The executable business logic for this instance\"\"\"\n",
    "        pass\n",
    "\n",
    "if __name__ == \"__main__\":\n",
    "    # End User Code.\n",
    "    s1 = MySingletonClass()\n",
    "    s2 = MySingletonClass()\n",
    "\n",
    "if id(s1) == id(s2):\n",
    "    print(\"Correct Singleton, same instance for both variables\")\n",
    "else:\n",
    "    print(\"Wrong Singleton, different instances for variables\")\n"
   ]
  },
  {
   "cell_type": "code",
   "execution_count": null,
   "metadata": {},
   "outputs": [],
   "source": [
    "# 1.1.8\tLazy Imports for Python Modules\n",
    "\n",
    "# Source : https://github.com/tensorflow/tensorflow/blob/master/tensorflow/python/util/lazy_loader.py\n",
    "\"\"\"A LazyLoader class.\"\"\"\n",
    "from __future__ import absolute_import\n",
    "from __future__ import division\n",
    "from __future__ import print_function\n",
    "\n",
    "import importlib\n",
    "import types\n",
    "\n",
    "class LazyLoader(types.ModuleType):\n",
    "\"\"\"Lazily import a module, mainly to avoid pulling in large dependencies. `contrib`, and `ffmpeg` are examples of modules that are large and not alwaysneeded, and this allows them to only be loaded when they are used.\n",
    "\"\"\"  \n",
    "def __init__(self, local_name,parent_module_globals, name):\n",
    "    self._local_name = local_name\n",
    "    self._parent_module_globals = parent_module_globals\n",
    "\n",
    "    super(LazyLoader, self).__init__(name)\n",
    "\n",
    "def _load(self):\n",
    "    # Import target module and insert into the parent's namespace  \n",
    "    module = importlib.import_module(self.__name__)\n",
    "    self._parent_module_globals[self._local_name] = module\n",
    "    self.__dict__.update(module.__dict__)\n",
    "    return module\n",
    "\n",
    "def __getattr__(self, item):\n",
    "    module = self._load()\n",
    "    return getattr(module, item)\n",
    "\n",
    "def __dir__(self):\n",
    "    module = self._load()\n",
    "    return dir(module)\n"
   ]
  },
  {
   "cell_type": "code",
   "execution_count": null,
   "metadata": {},
   "outputs": [],
   "source": [
    "# 1.1.11\tCan a module be avalaible across the system?\n",
    "\n",
    "def get_runtime(method):\n",
    "    import time\n",
    "    def code_time_func(*args, **kwargs):\n",
    "        start = time.time()\n",
    "        func_call_result = method(*args, **kwargs)\n",
    "        end = time.time()\n",
    "        print(\"Execution time: \", method.__name__, \" : \", end-start)\n",
    "        return func_call_result\n",
    "    return code_time_func"
   ]
  },
  {
   "cell_type": "code",
   "execution_count": null,
   "metadata": {},
   "outputs": [],
   "source": [
    "# A decorator function takes in a function as an argument and returns\n",
    "# a wrapper function as a result. This can add additional functionalty to the original method.\n",
    "\n",
    "@get_runtime\n",
    "def iterate_and_print(num):\n",
    "    for index in range(0, num+1):\n",
    "        print(index)\n",
    "\n",
    "@get_runtime\n",
    "def get_fibonacci(num): \n",
    "    int1 = 0\n",
    "    int2 = 1\n",
    "    if num<0: \n",
    "        print(\"Wrong Input\") \n",
    "    elif num==0: \n",
    "        return int1\n",
    "    elif num==1: \n",
    "        return int2\n",
    "    else: \n",
    "        for index in range(2,num): \n",
    "            int3 = int1 + int2\n",
    "            int1 = int2\n",
    "            int2 = int3\n",
    "        return int2\n"
   ]
  },
  {
   "cell_type": "code",
   "execution_count": null,
   "metadata": {},
   "outputs": [],
   "source": [
    "iterate_and_print(100)"
   ]
  },
  {
   "cell_type": "code",
   "execution_count": null,
   "metadata": {},
   "outputs": [],
   "source": [
    "get_fibonacci(100)"
   ]
  },
  {
   "cell_type": "code",
   "execution_count": null,
   "metadata": {},
   "outputs": [],
   "source": [
    "# 1.1.15\tValidating Subclasses with the __new__ method\n",
    "\n",
    "class Car:\n",
    "    def __new__(cls, *args, **kwargs):\n",
    "        print(\"Instance creation in progress…\")\n",
    "        my_inst = super(Car, cls).__new__(cls, *args, **kwargs)\n",
    "        return my_inst\n",
    "\n",
    "    def __init__(self, make, model):\n",
    "        self.car_make = make\n",
    "        self.car_model = model\n",
    "\n",
    "    def car_details(self):\n",
    "        return f\"{self.car_make} {self.car_model}\"\n"
   ]
  },
  {
   "cell_type": "code",
   "execution_count": null,
   "metadata": {},
   "outputs": [],
   "source": [
    "vehicle = Car(\"Honda\", \"City\")\n",
    "vehicle.car_details()"
   ]
  },
  {
   "cell_type": "code",
   "execution_count": 7,
   "metadata": {},
   "outputs": [],
   "source": [
    "# 1.1.16\tWhat more can you do with __slots__ ?\n",
    "\n",
    "class UsingSlots:\n",
    "    __slots__ = \"alpha\"\n",
    "\n",
    "class NotUsingSlots:\n",
    "    pass\n",
    "\n",
    "using_slots = UsingSlots()\n",
    "not_using_slots = NotUsingSlots()\n",
    "\n",
    "using_slots.alpha = \"Alpha1\"\n",
    "not_using_slots.alpha = \"Alpha2\"\n"
   ]
  },
  {
   "cell_type": "code",
   "execution_count": 16,
   "metadata": {},
   "outputs": [
    {
     "name": "stdout",
     "output_type": "stream",
     "text": [
      "52 ns ± 1.16 ns per loop (mean ± std. dev. of 7 runs, 10000000 loops each)\n"
     ]
    }
   ],
   "source": [
    "%timeit using_slots.alpha"
   ]
  },
  {
   "cell_type": "code",
   "execution_count": 17,
   "metadata": {},
   "outputs": [
    {
     "name": "stdout",
     "output_type": "stream",
     "text": [
      "55.3 ns ± 2.46 ns per loop (mean ± std. dev. of 7 runs, 10000000 loops each)\n"
     ]
    }
   ],
   "source": [
    "%timeit not_using_slots.alpha"
   ]
  },
  {
   "cell_type": "code",
   "execution_count": 18,
   "metadata": {},
   "outputs": [
    {
     "data": {
      "text/plain": [
       "40"
      ]
     },
     "execution_count": 18,
     "metadata": {},
     "output_type": "execute_result"
    }
   ],
   "source": [
    "import sys\n",
    "sys.getsizeof(using_slots)"
   ]
  },
  {
   "cell_type": "code",
   "execution_count": 19,
   "metadata": {},
   "outputs": [
    {
     "data": {
      "text/plain": [
       "48"
      ]
     },
     "execution_count": 19,
     "metadata": {},
     "output_type": "execute_result"
    }
   ],
   "source": [
    "sys.getsizeof(not_using_slots)"
   ]
  },
  {
   "cell_type": "code",
   "execution_count": null,
   "metadata": {},
   "outputs": [],
   "source": []
  }
 ],
 "metadata": {
  "kernelspec": {
   "display_name": "Python 3",
   "language": "python",
   "name": "python3"
  },
  "language_info": {
   "codemirror_mode": {
    "name": "ipython",
    "version": 3
   },
   "file_extension": ".py",
   "mimetype": "text/x-python",
   "name": "python",
   "nbconvert_exporter": "python",
   "pygments_lexer": "ipython3",
   "version": "3.8.5"
  }
 },
 "nbformat": 4,
 "nbformat_minor": 4
}
