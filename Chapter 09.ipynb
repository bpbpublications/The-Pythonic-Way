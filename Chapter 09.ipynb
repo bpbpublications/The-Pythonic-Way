{
 "cells": [
  {
   "cell_type": "code",
   "execution_count": 3,
   "metadata": {},
   "outputs": [
    {
     "name": "stdout",
     "output_type": "stream",
     "text": [
      "179\n"
     ]
    }
   ],
   "source": [
    "# 1.1.1.1 The Prebound method pattern\n",
    "########################################\n",
    "\n",
    "from datetime import datetime as dt\n",
    "\n",
    "class RandHex(object):\n",
    "    def __init__(self):\n",
    "        self.instantiate_seed(dt.now().microsecond % 255 + 1)\n",
    "\n",
    "    def instantiate_seed(self, seedVal):\n",
    "        self.random_seed = seedVal\n",
    "\n",
    "    def get_random(self):\n",
    "        self.random_seed, carry = divmod(self.random_seed, 2)\n",
    "        if carry:\n",
    "            self.random_seed ^= 0xb8\n",
    "        return self.random_seed\n",
    "\n",
    "# create internal instance\n",
    "_instance = RandHex()\n",
    "\n",
    "# Assign to the global namespace\n",
    "random = _instance.get_random\n",
    "print(random())"
   ]
  },
  {
   "cell_type": "code",
   "execution_count": 15,
   "metadata": {},
   "outputs": [],
   "source": [
    "# 1.1.2.1\tSentinel Value\n",
    "#############################\n",
    "myStr = \"\"\n",
    "searchStr = \"\"\n",
    "\n",
    "# Regular\n",
    "try:\n",
    "    indx = myStr.index(searchStr)\n",
    "except:\n",
    "    pass # return\n",
    "\n",
    "# Pythonic\n",
    "ind = myStr.find(searchStr)\n",
    "if ind == -1:\n",
    "    pass # return\n"
   ]
  },
  {
   "cell_type": "code",
   "execution_count": 3,
   "metadata": {},
   "outputs": [],
   "source": [
    "# 1.1.11.1 Multiprocessing\n",
    "###############################\n",
    "\n",
    "from multiprocessing import Process\n",
    "\n",
    "def print_model(model='City'):\n",
    "    print('Processing Honda Model: ', model)\n",
    "\n",
    "if __name__ == \"__main__\":\n",
    "    model_names = ['Civic', 'Jazz', 'Brio']\n",
    "    procs_list = []\n",
    "    process = Process(target=print_model)\n",
    "    procs_list.append(process)\n",
    "    process.start()\n",
    "    \n",
    "    for model in model_names:\n",
    "        process = Process(target=print_model, args=(model,))\n",
    "        procs_list.append(process)\n",
    "        process.start()\n",
    "\n",
    "    for process in procs_list:\n",
    "        process.join()\n"
   ]
  },
  {
   "cell_type": "code",
   "execution_count": 4,
   "metadata": {},
   "outputs": [
    {
     "name": "stdout",
     "output_type": "stream",
     "text": [
      "Square root of input: 10.0\n",
      "Square of input: 100\n",
      "Done!\n"
     ]
    }
   ],
   "source": [
    "# 1.1.11.2 Multithreading\n",
    "###########################\n",
    "\n",
    "import math\n",
    "import threading as td\n",
    " \n",
    "def get_square(value):\n",
    "    print(\"Square of input: {}\".format(value * value))\n",
    "\n",
    "def get_sqrt(value):    \n",
    "    print(\"Square root of input: {}\".format(math.sqrt(value)))\n",
    "\n",
    "if __name__ == \"__main__\":\n",
    "    thrd1 = td.Thread(target=get_sqrt, args=(100,))\n",
    "    thrd2 = td.Thread(target=get_square, args=(10,))\n",
    " \n",
    "    # Trigger first thread \n",
    "    thrd1.start()\n",
    "    # Trigger second thread\n",
    "    thrd2.start()\n",
    "     \n",
    "    # Await execution of first thread\n",
    "    thrd1.join()\n",
    "    # Await execution of second thread\n",
    "    thrd2.join()\n",
    "\n",
    "    print(\"Done!\")\n"
   ]
  },
  {
   "cell_type": "code",
   "execution_count": 5,
   "metadata": {},
   "outputs": [
    {
     "name": "stdout",
     "output_type": "stream",
     "text": [
      "Honda is launching models: Civic\n",
      "Civic CVT 1.5D\n",
      "Civic Turbo\n",
      "Terminating Coroutine!!\n"
     ]
    }
   ],
   "source": [
    "# 1.1.11.3 Coroutines using  yield\n",
    "#####################################\n",
    "\n",
    "def print_model(model):\n",
    "    print(\"Honda is launching models: {}\".format(model))\n",
    "    try : \n",
    "        while True:\n",
    "            # Using yield to create coroutines\n",
    "            car_model = (yield)\n",
    "            if model in car_model:\n",
    "                print(car_model)\n",
    "\n",
    "    except GeneratorExit:\n",
    "            print(\"Terminating Coroutine!!\")\n",
    "\n",
    "            \n",
    "coroutines = print_model(\"Civic\")\n",
    "coroutines.__next__()\n",
    "coroutines.send(\"Civic CVT 1.5D\")\n",
    "coroutines.send(\"Civic Turbo\")\n",
    "coroutines.send(\"Mobilio\")\n",
    "coroutines.close()\n"
   ]
  },
  {
   "cell_type": "code",
   "execution_count": 7,
   "metadata": {},
   "outputs": [
    {
     "data": {
      "text/plain": [
       "<Task pending name='Task-1' coro=<get_feed_data() running at <ipython-input-7-0dea95be564f>:19>>"
      ]
     },
     "execution_count": 7,
     "metadata": {},
     "output_type": "execute_result"
    },
    {
     "name": "stdout",
     "output_type": "stream",
     "text": [
      "537: A New AWS SDK for Rust – Alpha Launch (https://aws.amazon.com/blogs/developer/a-new-aws-sdk-for-rust-alpha-launch/)\n",
      "93: What can C++ do that Rust can’t? (2021 edition) (https://www.reddit.com/r/rust/comments/n7rjfk/what_can_c_do_that_rust_cant_2021_edition/)\n",
      "52: mars - A data science notebook for Rust based on evxcr (https://github.com/richardanaya/mars)\n",
      "46: Official /r/rust \"Who's Hiring\" thread for job-seekers and job-offerers [Rust 1.52] (https://www.reddit.com/r/rust/comments/n78324/official_rrust_whos_hiring_thread_for_jobseekers/)\n",
      "35: Always Bet on Rust: Rust on the Frontend and Backend with MoonZoon (https://blog.abor.dev/p/moonzoon?r=jx6d6&amp;utm_campaign=post&amp;utm_medium=web&amp;utm_source=reddit)\n",
      "COMPLETED PROCESSING FOR:rust \n",
      "\n"
     ]
    }
   ],
   "source": [
    "# The ayncio module in Python\n",
    "\n",
    "import aiohttp\n",
    "import asyncio\n",
    "import json\n",
    "import signal  \n",
    "import sys  \n",
    "\n",
    "BASE_URL = 'https://www.reddit.com/r/{}/top.json?sort=top&t=day&limit=5'\n",
    "\n",
    "event_loop = asyncio.get_event_loop()\n",
    "clnt_session = aiohttp.ClientSession(loop=event_loop)\n",
    "\n",
    "async def retrieve_json(client, url):  \n",
    "    async with client.get(url) as resp:\n",
    "        assert resp.status == 200\n",
    "        return await resp.read()\n",
    "\n",
    "async def get_feed_data(feed_topic, client):  \n",
    "    fetched_data = await retrieve_json(\n",
    "                                client, \n",
    "                                BASE_URL.format(feed_topic))\n",
    "\n",
    "    json_data = json.loads(fetched_data.decode('utf-8'))\n",
    "    for fieldInfo in json_data['data']['children']:\n",
    "        link = fieldInfo['data']['url']        \n",
    "        title = fieldInfo['data']['title']\n",
    "        score = fieldInfo['data']['score']\n",
    "        print(\"{}: {} ({})\".format(str(score), title, link))\n",
    "\n",
    "    print('COMPLETED PROCESSING FOR:{} \\n'.format(feed_topic))\n",
    "\n",
    "def handle_signal(signal, frame):  \n",
    "    event_loop.stop()\n",
    "    clnt_session.close()\n",
    "    sys.exit(0)\n",
    "\n",
    "# Configure the trigger signal\n",
    "signal.signal(signal.SIGINT, handle_signal)\n",
    "\n",
    "asyncio.ensure_future(get_feed_data('rust', clnt_session))  "
   ]
  },
  {
   "cell_type": "code",
   "execution_count": 8,
   "metadata": {},
   "outputs": [
    {
     "data": {
      "text/plain": [
       "<Task pending name='Task-4' coro=<get_feed_data() running at <ipython-input-7-0dea95be564f>:19>>"
      ]
     },
     "execution_count": 8,
     "metadata": {},
     "output_type": "execute_result"
    },
    {
     "name": "stdout",
     "output_type": "stream",
     "text": [
      "15: Forcing webpage to refresh - how to do it? (https://www.reddit.com/r/flask/comments/n7iwt5/forcing_webpage_to_refresh_how_to_do_it/)\n",
      "14: When to use session data over saving to db? (https://www.reddit.com/r/flask/comments/n77c5g/when_to_use_session_data_over_saving_to_db/)\n",
      "6: Hey can anyone help me on how to disable those HTML pop up validators.I am actually using bootstrap classes on the flask validators and don't want those additional validations. (https://i.redd.it/3g4ldar7bxx61.png)\n",
      "8: How to add two button to same form with each button having different redirect (https://www.reddit.com/gallery/n7pjc3)\n",
      "1: Flask connection to mongodb atlas (https://www.reddit.com/r/flask/comments/n7tmw5/flask_connection_to_mongodb_atlas/)\n",
      "COMPLETED PROCESSING FOR:flask \n",
      "\n"
     ]
    }
   ],
   "source": [
    "asyncio.ensure_future(get_feed_data('flask', clnt_session))  "
   ]
  },
  {
   "cell_type": "code",
   "execution_count": 9,
   "metadata": {},
   "outputs": [
    {
     "data": {
      "text/plain": [
       "<Task pending name='Task-6' coro=<get_feed_data() running at <ipython-input-7-0dea95be564f>:19>>"
      ]
     },
     "execution_count": 9,
     "metadata": {},
     "output_type": "execute_result"
    },
    {
     "name": "stdout",
     "output_type": "stream",
     "text": [
      "8: Group Photo (https://i.imgur.com/49ZaZBW.jpg)\n",
      "COMPLETED PROCESSING FOR:einstein \n",
      "\n"
     ]
    }
   ],
   "source": [
    "asyncio.ensure_future(get_feed_data('einstein', clnt_session))  "
   ]
  },
  {
   "cell_type": "code",
   "execution_count": null,
   "metadata": {},
   "outputs": [],
   "source": [
    "# Distributed processing using Redis Queue (RQ)\n",
    "\n",
    "####### word_processor.py #######\n",
    "import requests\n",
    "\n",
    "def get_word_count(remote_url):\n",
    "    \"\"\" Basic Function Implementation \"\"\"\n",
    "    response = requests.get(remote_url)\n",
    "    # Compute the number of words\n",
    "    num_words = len(response.text.split())\n",
    "    print(num_words)\n",
    "    return(num_words)\n",
    "\n",
    "\n",
    "####### main.py #######\n",
    "from word_processor import get_word_count\n",
    "from redis import Redis\n",
    "from rq import Queue\n",
    "\n",
    "my_queue = Queue(connection=Redis())\n",
    "job = my_queue.enqueue(get_word_count, 'http://www.rajthoughts.com')"
   ]
  },
  {
   "cell_type": "code",
   "execution_count": 13,
   "metadata": {},
   "outputs": [],
   "source": [
    "# Timing Attacks\n",
    "\n",
    "def equals(string_one, string_two):\n",
    "    # Size Check\n",
    "    if len(string_one) != len(string_one):\n",
    "        return False\n",
    "\n",
    "    # Character Wise Check\n",
    "    for char_one, char_two in zip(string_one, string_two):\n",
    "        if char_one != char_two:\n",
    "            return False\n",
    "    return True\n"
   ]
  },
  {
   "cell_type": "code",
   "execution_count": null,
   "metadata": {},
   "outputs": [],
   "source": [
    "# Billion Laughs XML Attack\n",
    "\n",
    "<?xml version=\"1.0\"?>\n",
    "<!DOCTYPE lolz [\n",
    "<!ENTITY lol \"lol\">\n",
    "<!ENTITY lol2 \"&lol;&lol;&lol;&lol;&lol;&lol;&lol;&lol;&lol;&lol;\">\n",
    "<!ENTITY lol3 \"&lol2;&lol2;&lol2;&lol2;&lol2;&lol2;&lol2;&lol2;&lol2;&lol2;\">\n",
    "<!ENTITY lol4 \"&lol3;&lol3;&lol3;&lol3;&lol3;&lol3;&lol3;&lol3;&lol3;&lol3;\">\n",
    "<!ENTITY lol5 \"&lol4;&lol4;&lol4;&lol4;&lol4;&lol4;&lol4;&lol4;&lol4;&lol4;\">\n",
    "<!ENTITY lol6 \"&lol5;&lol5;&lol5;&lol5;&lol5;&lol5;&lol5;&lol5;&lol5;&lol5;\">\n",
    "<!ENTITY lol7 \"&lol6;&lol6;&lol6;&lol6;&lol6;&lol6;&lol6;&lol6;&lol6;&lol6;\">\n",
    "<!ENTITY lol8 \"&lol7;&lol7;&lol7;&lol7;&lol7;&lol7;&lol7;&lol7;&lol7;&lol7;\">\n",
    "<!ENTITY lol9 \"&lol8;&lol8;&lol8;&lol8;&lol8;&lol8;&lol8;&lol8;&lol8;&lol8;\">\n",
    "]>\n",
    "<lolz>&lol9;</lolz>"
   ]
  }
 ],
 "metadata": {
  "kernelspec": {
   "display_name": "Python 3",
   "language": "python",
   "name": "python3"
  },
  "language_info": {
   "codemirror_mode": {
    "name": "ipython",
    "version": 3
   },
   "file_extension": ".py",
   "mimetype": "text/x-python",
   "name": "python",
   "nbconvert_exporter": "python",
   "pygments_lexer": "ipython3",
   "version": "3.8.5"
  }
 },
 "nbformat": 4,
 "nbformat_minor": 4
}
