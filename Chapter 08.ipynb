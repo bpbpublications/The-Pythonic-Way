{
 "cells": [
  {
   "cell_type": "code",
   "execution_count": 1,
   "metadata": {},
   "outputs": [],
   "source": [
    "# Python Descriptors - implementing methods of the Descriptor Protocol\n",
    "########################################################################\n",
    "\n",
    "class print_attr():\n",
    "    def __get__(self, obj, type=None) -> object:\n",
    "        print(\"retrieving value by accessing the attribute\")\n",
    "        return 45\n",
    "\n",
    "    def __set__(self, obj, value) -> None:\n",
    "        print(\"setting the value by accessing the attribute\")\n",
    "        raise AttributeError(\"Value could not be changed\")\n",
    "\n",
    "class Demo():\n",
    "    myAttr = print_attr()\n"
   ]
  },
  {
   "cell_type": "code",
   "execution_count": 2,
   "metadata": {},
   "outputs": [
    {
     "name": "stdout",
     "output_type": "stream",
     "text": [
      "retrieving value by accessing the attribute\n",
      "45\n"
     ]
    }
   ],
   "source": [
    "demo_obj = Demo()\n",
    "var = demo_obj.myAttr\n",
    "print(var)\n"
   ]
  },
  {
   "cell_type": "code",
   "execution_count": 13,
   "metadata": {},
   "outputs": [],
   "source": [
    "# 1.1.1 Non-data descriptors\n",
    "##############################\n",
    "\n",
    "class NonDataDescriptor:\n",
    "    def __get__(self, instance, owner):\n",
    "        if instance is None:\n",
    "            return self\n",
    "        return 45\n",
    "\n",
    "class ClientClass:\n",
    "    desc = NonDataDescriptor()\n"
   ]
  },
  {
   "cell_type": "code",
   "execution_count": 14,
   "metadata": {},
   "outputs": [
    {
     "data": {
      "text/plain": [
       "45"
      ]
     },
     "execution_count": 14,
     "metadata": {},
     "output_type": "execute_result"
    }
   ],
   "source": [
    "myObj = ClientClass()\n",
    "myObj.desc"
   ]
  },
  {
   "cell_type": "code",
   "execution_count": 15,
   "metadata": {},
   "outputs": [
    {
     "data": {
      "text/plain": [
       "25"
      ]
     },
     "execution_count": 15,
     "metadata": {},
     "output_type": "execute_result"
    }
   ],
   "source": [
    "myObj.desc = 25\n",
    "myObj.desc"
   ]
  },
  {
   "cell_type": "code",
   "execution_count": 16,
   "metadata": {},
   "outputs": [
    {
     "data": {
      "text/plain": [
       "{'desc': 25}"
      ]
     },
     "execution_count": 16,
     "metadata": {},
     "output_type": "execute_result"
    }
   ],
   "source": [
    "vars(myObj)"
   ]
  },
  {
   "cell_type": "code",
   "execution_count": 3,
   "metadata": {},
   "outputs": [],
   "source": [
    "# 1.1.2 Data Descriptors - descriptor that now implements the __set__ method \n",
    "###############################################################################\n",
    "\n",
    "class DataDescriptor:\n",
    "    def __get__(self, instance, owner):\n",
    "        if instance is None:\n",
    "            return self\n",
    "        return 45\n",
    "\n",
    "    def __set__(self, instance, value):\n",
    "        print(\"%s.descriptor set to %s\", instance, value)\n",
    "        instance.__dict__[\"desc\"] = value\n",
    "\n",
    "class ClientClass:\n",
    "    desc = DataDescriptor()\n"
   ]
  },
  {
   "cell_type": "code",
   "execution_count": 4,
   "metadata": {},
   "outputs": [
    {
     "data": {
      "text/plain": [
       "45"
      ]
     },
     "execution_count": 4,
     "metadata": {},
     "output_type": "execute_result"
    }
   ],
   "source": [
    "myObj = ClientClass()\n",
    "myObj.desc"
   ]
  },
  {
   "cell_type": "code",
   "execution_count": 20,
   "metadata": {},
   "outputs": [
    {
     "name": "stdout",
     "output_type": "stream",
     "text": [
      "%s.descriptor set to %s <__main__.ClientClass object at 0x0000025E431F8EE0> 22\n"
     ]
    },
    {
     "data": {
      "text/plain": [
       "45"
      ]
     },
     "execution_count": 20,
     "metadata": {},
     "output_type": "execute_result"
    }
   ],
   "source": [
    "myObj.desc = 22\n",
    "myObj.desc"
   ]
  },
  {
   "cell_type": "code",
   "execution_count": 21,
   "metadata": {},
   "outputs": [
    {
     "data": {
      "text/plain": [
       "{'desc': 22}"
      ]
     },
     "execution_count": 21,
     "metadata": {},
     "output_type": "execute_result"
    }
   ],
   "source": [
    "vars(myObj)"
   ]
  },
  {
   "cell_type": "code",
   "execution_count": 22,
   "metadata": {},
   "outputs": [
    {
     "data": {
      "text/plain": [
       "22"
      ]
     },
     "execution_count": 22,
     "metadata": {},
     "output_type": "execute_result"
    }
   ],
   "source": [
    "myObj.__dict__[\"desc\"]"
   ]
  },
  {
   "cell_type": "code",
   "execution_count": 23,
   "metadata": {},
   "outputs": [
    {
     "ename": "AttributeError",
     "evalue": "__delete__",
     "output_type": "error",
     "traceback": [
      "\u001b[1;31m---------------------------------------------------------------------------\u001b[0m",
      "\u001b[1;31mAttributeError\u001b[0m                            Traceback (most recent call last)",
      "\u001b[1;32m<ipython-input-23-b6f73cc1b635>\u001b[0m in \u001b[0;36m<module>\u001b[1;34m\u001b[0m\n\u001b[1;32m----> 1\u001b[1;33m \u001b[1;32mdel\u001b[0m \u001b[0mmyObj\u001b[0m\u001b[1;33m.\u001b[0m\u001b[0mdesc\u001b[0m\u001b[1;33m\u001b[0m\u001b[1;33m\u001b[0m\u001b[0m\n\u001b[0m",
      "\u001b[1;31mAttributeError\u001b[0m: __delete__"
     ]
    }
   ],
   "source": [
    "del myObj.desc"
   ]
  },
  {
   "cell_type": "code",
   "execution_count": 5,
   "metadata": {},
   "outputs": [
    {
     "name": "stdout",
     "output_type": "stream",
     "text": [
      "{'name': 'Jerry'}\n",
      "{'__module__': '__main__', 'num_legs': 4, '__init__': <function Giraffe.__init__ at 0x0000013CB1AD9280>, '__doc__': None}\n"
     ]
    }
   ],
   "source": [
    "# The look up chain and attribute access\n",
    "###########################################\n",
    "\n",
    "class Animal():\n",
    "    can_fly = False\n",
    "    num_legs = 0\n",
    "\n",
    "class Giraffe(Animal):\n",
    "    num_legs = 4\n",
    "\n",
    "    def __init__(self, name):\n",
    "        self.name = name\n",
    "\n",
    "my_pet = Giraffe(\"Jerry\")\n",
    "print(my_pet.__dict__)\n",
    "print(type(my_pet).__dict__)\n"
   ]
  },
  {
   "cell_type": "code",
   "execution_count": 6,
   "metadata": {},
   "outputs": [],
   "source": [
    "# what happens internally when an attribute is accessed\n",
    "#########################################################\n",
    "\n",
    "class Animal(object):\n",
    "    can_fly = False\n",
    "    num_legs = 0\n",
    "\n",
    "class Dog(Animal):\n",
    "    num_legs = 4\n",
    "\n",
    "    def __init__(self, name):\n",
    "        self.name = name\n",
    "\n",
    "my_pet = Dog(\"Enzo\")\n"
   ]
  },
  {
   "cell_type": "code",
   "execution_count": 7,
   "metadata": {},
   "outputs": [
    {
     "name": "stdout",
     "output_type": "stream",
     "text": [
      "Enzo\n",
      "4\n",
      "False\n"
     ]
    }
   ],
   "source": [
    "print(my_pet.name)\n",
    "print(my_pet.num_legs)\n",
    "print(my_pet.can_fly)\n"
   ]
  },
  {
   "cell_type": "code",
   "execution_count": 8,
   "metadata": {},
   "outputs": [
    {
     "name": "stdout",
     "output_type": "stream",
     "text": [
      "Enzo\n",
      "4\n",
      "False\n"
     ]
    }
   ],
   "source": [
    "# Re-written Pythonic version of above example \n",
    "#################################################\n",
    "\n",
    "class Animal():\n",
    "    can_fly = False\n",
    "    num_legs = 0\n",
    "\n",
    "class Dog(Animal):\n",
    "    num_legs = 4\n",
    "\n",
    "    def __init__(self, name):\n",
    "        self.name = name\n",
    "\n",
    "my_pet = Dog(\"Enzo\")\n",
    "\n",
    "print(my_pet.__dict__['name'])\n",
    "print(type(my_pet).__dict__['num_legs'])\n",
    "print(type(my_pet).__base__.__dict__['can_fly'])\n"
   ]
  },
  {
   "cell_type": "code",
   "execution_count": 9,
   "metadata": {},
   "outputs": [
    {
     "name": "stdout",
     "output_type": "stream",
     "text": [
      "Getting the value from property\n",
      "45\n"
     ]
    }
   ],
   "source": [
    "# 1.1.3 Property Objects are Data Descriptors\n",
    "###############################################\n",
    "\n",
    "class Demo():\n",
    "    @property\n",
    "    def attr_one(self) -> object:\n",
    "        print(\"Getting the value from property\")\n",
    "        return 45\n",
    "\n",
    "    @attr_one.setter\n",
    "    def attr_one(self, value) -> None:\n",
    "        print(\"Setting the value for the attribute\")\n",
    "        raise AttributeError(\"RO: Value change not allowed.\")\n",
    "\n",
    "myObj = Demo()\n",
    "result = myObj.attr_one\n",
    "print(result)\n"
   ]
  },
  {
   "cell_type": "code",
   "execution_count": 10,
   "metadata": {},
   "outputs": [
    {
     "name": "stdout",
     "output_type": "stream",
     "text": [
      "Getting the value from the attribute\n",
      "45\n"
     ]
    }
   ],
   "source": [
    "# The above can be written without using the decorators \n",
    "# explicitly and simply using functions instead\n",
    "########################################################\n",
    "\n",
    "class Demo():\n",
    "    def get(self) -> object:\n",
    "        print(\"Getting the value from the attribute\")\n",
    "        return 45\n",
    "\n",
    "    def set(self, value) -> None:\n",
    "        print(\"Setting the value for the attribute\")\n",
    "        raise AttributeError(\"RO: Value change not allowed.\")\n",
    "\n",
    "    attr_one = property(get, set)\n",
    "\n",
    "myObj = Demo()\n",
    "result = myObj.attr_one\n",
    "print(result)"
   ]
  },
  {
   "cell_type": "code",
   "execution_count": 11,
   "metadata": {},
   "outputs": [],
   "source": [
    "# 1.1.4\tCreating a Cached Property with Descriptors\n",
    "#####################################################\n",
    "\n",
    "class CachedProperty: \n",
    "    def __init__(self, func): \n",
    "        self.func = func \n",
    " \n",
    "    def __get__(self, instance, owner): \n",
    "        func_result = self.func(instance)\n",
    "        instance.__dict__[self.func.__name__] = func_result\n",
    "        return func_result\n",
    "\n",
    "class Demo:\n",
    "    def get_value(self):\n",
    "        print('Using the method to compute the value!')\n",
    "        return 84\n",
    "\n",
    "    value = CachedProperty(get_value)\n",
    "    # NOTE: You can use it as a decorator too!!\n"
   ]
  },
  {
   "cell_type": "code",
   "execution_count": 12,
   "metadata": {},
   "outputs": [
    {
     "data": {
      "text/plain": [
       "{}"
      ]
     },
     "execution_count": 12,
     "metadata": {},
     "output_type": "execute_result"
    }
   ],
   "source": [
    "demo = Demo()\n",
    "vars(demo)"
   ]
  },
  {
   "cell_type": "code",
   "execution_count": 13,
   "metadata": {},
   "outputs": [
    {
     "name": "stdout",
     "output_type": "stream",
     "text": [
      "Using the method to compute the value!\n"
     ]
    },
    {
     "data": {
      "text/plain": [
       "84"
      ]
     },
     "execution_count": 13,
     "metadata": {},
     "output_type": "execute_result"
    }
   ],
   "source": [
    "demo.value"
   ]
  },
  {
   "cell_type": "code",
   "execution_count": 14,
   "metadata": {},
   "outputs": [
    {
     "data": {
      "text/plain": [
       "{'get_value': 84}"
      ]
     },
     "execution_count": 14,
     "metadata": {},
     "output_type": "execute_result"
    }
   ],
   "source": [
    "vars(demo)"
   ]
  },
  {
   "cell_type": "code",
   "execution_count": 15,
   "metadata": {},
   "outputs": [
    {
     "name": "stdout",
     "output_type": "stream",
     "text": [
      "Using the method to compute the value!\n"
     ]
    },
    {
     "data": {
      "text/plain": [
       "84"
      ]
     },
     "execution_count": 15,
     "metadata": {},
     "output_type": "execute_result"
    }
   ],
   "source": [
    "demo.value"
   ]
  },
  {
   "cell_type": "code",
   "execution_count": 17,
   "metadata": {},
   "outputs": [],
   "source": [
    "# 1.1.5 Python Descriptors in Methods and Functions\n",
    "#####################################################\n",
    "\n",
    "import types\n",
    "\n",
    "class Function(object):\n",
    "    def __get__(self, obj, objtype=None):\n",
    "        \"Simulate func_descr_get() in Objects/funcobject.c\"\n",
    "        if obj is None:\n",
    "            return self\n",
    "        return types.MethodType(self, obj)\n"
   ]
  },
  {
   "cell_type": "code",
   "execution_count": 18,
   "metadata": {},
   "outputs": [],
   "source": [
    "class StaticMethod(object):\n",
    "    \"Emulate PyStaticMethod_Type() in Objects/funcobject.c\"\n",
    "    def __init__(self, f):\n",
    "        self.f = f\n",
    "\n",
    "    def __get__(self, obj, objtype=None):\n",
    "        return self.f\n"
   ]
  },
  {
   "cell_type": "code",
   "execution_count": 19,
   "metadata": {},
   "outputs": [],
   "source": [
    "class ClassMethod(object):\n",
    "    \"Emulate PyClassMethod_Type() in Objects/funcobject.c\"\n",
    "    def __init__(self, f):\n",
    "        self.f = f\n",
    "\n",
    "    def __get__(self, obj, klass=None):\n",
    "        if klass is None:\n",
    "            klass = type(obj)\n",
    "        def newfunc(*args):\n",
    "            return self.f(klass, *args)\n",
    "        return newfunc\n"
   ]
  },
  {
   "cell_type": "code",
   "execution_count": 20,
   "metadata": {},
   "outputs": [],
   "source": [
    "# 1.1.6\tWritable Data Attributes\n",
    "#################################\n",
    "\n",
    "class System():\n",
    "    def __init__(self):\n",
    "        self._os = None\n",
    "\n",
    "    def get_os(self):\n",
    "        return self._os\n",
    "\n",
    "    def set_os(self, os):\n",
    "        if 'RHEL' not in os:\n",
    "            raise AttributeError('We only support RHEL 7 and above')\n",
    "        self._os = os\n",
    "        print('{} installation complete!'.format(os))\n",
    "\n",
    "\n",
    "    os = property(get_os, set_os)\n"
   ]
  },
  {
   "cell_type": "code",
   "execution_count": null,
   "metadata": {},
   "outputs": [],
   "source": [
    "server = System()\n",
    "server.os = 'MacOS X'"
   ]
  },
  {
   "cell_type": "code",
   "execution_count": 24,
   "metadata": {},
   "outputs": [],
   "source": [
    "class Property():\n",
    "    def getter(self, fget):\n",
    "        return type(self)(fget, self.fset, self.fdel, self.__doc__)\n",
    "\n",
    "    def setter(self, fset):\n",
    "        return type(self)(self.fget, fset, self.fdel, self.__doc__)\n",
    "\n",
    "    def deleter(self, fdel):\n",
    "        return type(self)(self.fget, self.fset, fdel, self.__doc__)\n"
   ]
  },
  {
   "cell_type": "code",
   "execution_count": 50,
   "metadata": {},
   "outputs": [],
   "source": [
    "# The methods in the Property class act as decorators here - a better version of the above\n",
    "\n",
    "class System():\n",
    "    def __init__(self):\n",
    "        self._os = None\n",
    "\n",
    "    @property\n",
    "    def os(self):\n",
    "        return self._os\n",
    "\n",
    "    @os.setter\n",
    "    def os(self, os):\n",
    "        if 'RHEL' not in os:\n",
    "            raise AttributeError('We only support RHEL 7 and above')\n",
    "        self._os = os\n",
    "        print('{} installation complete!'.format(os))\n"
   ]
  },
  {
   "cell_type": "code",
   "execution_count": 25,
   "metadata": {},
   "outputs": [],
   "source": [
    "# 1.1.9 Slots - Descriptors are used topersist/retrieve values from without a __dict__\n",
    "#######################################################################################\n",
    "\n",
    "class Car:\n",
    "    __slots__ = (\"make\", \"model\")\n",
    "    def __init__(self, make, model):\n",
    "        self.make = make\n",
    "        self.model = model\n",
    "\n",
    "    def __repr__(self):\n",
    "        return f\"{self.__class__.__name__}({self.make}, {self.model})\"\n"
   ]
  },
  {
   "cell_type": "code",
   "execution_count": 26,
   "metadata": {},
   "outputs": [],
   "source": [
    "# 1.1.11 Descriptors are instantiated only once per Class. \n",
    "###########################################################\n",
    "\n",
    "class SingleDigitNumber:\n",
    "    def __init__(self):\n",
    "        self.number = 0\n",
    "\n",
    "    def __get__(self, myObj, type=None) -> object:\n",
    "        return self.number\n",
    "\n",
    "    def __set__(self, myObj, number) -> None:\n",
    "        if int(number) != number or number > 9 or number < 0:\n",
    "            raise AttributeError(\"Enter a valid 1-digit number\")\n",
    "        self.number = number\n",
    "\n",
    "class Demo:\n",
    "    number = SingleDigitNumber()\n"
   ]
  },
  {
   "cell_type": "code",
   "execution_count": 28,
   "metadata": {},
   "outputs": [
    {
     "name": "stdout",
     "output_type": "stream",
     "text": [
      "8\n",
      "8\n",
      "8\n"
     ]
    }
   ],
   "source": [
    "object_one = Demo()\n",
    "object_two = Demo()\n",
    "\n",
    "object_one.number = 8\n",
    "print(object_one.number)\n",
    "print(object_two.number)\n",
    "\n",
    "object_three = Demo()\n",
    "print(object_three.number)\n"
   ]
  },
  {
   "cell_type": "code",
   "execution_count": 29,
   "metadata": {},
   "outputs": [
    {
     "name": "stdout",
     "output_type": "stream",
     "text": [
      "8\n",
      "0\n",
      "0\n"
     ]
    }
   ],
   "source": [
    "# Alternative - persist the descriptor values for all the objects in a dictionary\n",
    "###################################################################################\n",
    "\n",
    "class SingleDigitNumber:\n",
    "    def __init__(self):\n",
    "        self.number = {}\n",
    "\n",
    "    def __get__(self, myObj, type=None) -> object:\n",
    "        try:\n",
    "            return self.number[myObj]\n",
    "        except:\n",
    "            return 0\n",
    "\n",
    "    def __set__(self, myObj, number) -> None:\n",
    "        if int(number) != number or number > 9 or number < 0:\n",
    "            raise AttributeError(\"Enter a valid 1-digit number\")\n",
    "        self.number[myObj] = number\n",
    "\n",
    "class Demo:\n",
    "    number = SingleDigitNumber()\n",
    "\n",
    "object_one = Demo()\n",
    "object_two = Demo()\n",
    "\n",
    "object_one.number = 8\n",
    "print(object_one.number)\n",
    "print(object_two.number)\n",
    "\n",
    "object_three = Demo()\n",
    "print(object_three.number)\n"
   ]
  },
  {
   "cell_type": "code",
   "execution_count": 32,
   "metadata": {},
   "outputs": [
    {
     "name": "stdout",
     "output_type": "stream",
     "text": [
      "8\n",
      "0\n",
      "0\n"
     ]
    }
   ],
   "source": [
    "# Implementation where we automatically assign the name parameter, \n",
    "# when you instatiate the decorator\n",
    "###################################################################\n",
    "\n",
    "class SingleDigitNumber:\n",
    "    def __init__(self, number):\n",
    "        self.number = number\n",
    "\n",
    "    def __get__(self, myObj, type=None) -> object:\n",
    "        return myObj.__dict__.get(self.number) or 0\n",
    "\n",
    "    def __set__(self, myObj, number) -> None:\n",
    "        myObj.__dict__[self.number] = number\n",
    "\n",
    "class Demo:\n",
    "    number = SingleDigitNumber(\"number\")\n",
    "\n",
    "object_one = Demo()\n",
    "object_two = Demo()\n",
    "\n",
    "object_one.number = 8\n",
    "print(object_one.number)\n",
    "print(object_two.number)\n",
    "\n",
    "object_three = Demo()\n",
    "print(object_three.number)"
   ]
  },
  {
   "cell_type": "code",
   "execution_count": 33,
   "metadata": {},
   "outputs": [],
   "source": [
    "# 1.1.13 Accessing Descriptor Methods\n",
    "#######################################\n",
    "\n",
    "from weakref import WeakKeyDictionary\n",
    "\n",
    "class CallbackProperty(object):\n",
    "    \"\"\"A property that will alert observers when upon updates\"\"\"\n",
    "    def __init__(self, default=None):\n",
    "        self.default = default\n",
    "        self.dataset = WeakKeyDictionary()\n",
    "        self.callbacks = WeakKeyDictionary()\n",
    "        \n",
    "    def __get__(self, myObject, owner):\n",
    "        if myObject is None:\n",
    "            return self        \n",
    "        return self.dataset.get(myObject, self.default)\n",
    "    \n",
    "    def __set__(self, myObject, value):\n",
    "        for callback in self.callbacks.get(myObject, []):\n",
    "            # alert callback function of new value\n",
    "            callback(value)\n",
    "        self.dataset[myObject] = value\n",
    "        \n",
    "    def register_callback(self, myObject, callback):\n",
    "        if myObject not in self.callbacks:\n",
    "            self.callbacks[myObject] = []\n",
    "        self.callbacks[myObject].append(callback)\n",
    "\n",
    "\n",
    "class CreditCard(object):\n",
    "    expense = CallbackProperty(0)\n",
    "    \n",
    "def limit_breach_alert(value):\n",
    "    if value > 10000000:\n",
    "        print(\"You have maxed out your credit card.\")\n"
   ]
  },
  {
   "cell_type": "code",
   "execution_count": 34,
   "metadata": {},
   "outputs": [
    {
     "name": "stdout",
     "output_type": "stream",
     "text": [
      "You have maxed out your credit card.\n"
     ]
    }
   ],
   "source": [
    "card = CreditCard()\n",
    "CreditCard.expense.register_callback(card, limit_breach_alert)\n",
    "\n",
    "card.expense = 20000000"
   ]
  },
  {
   "cell_type": "code",
   "execution_count": 35,
   "metadata": {},
   "outputs": [
    {
     "name": "stdout",
     "output_type": "stream",
     "text": [
      "Balance is 100\n"
     ]
    }
   ],
   "source": [
    "card.expense = 100\n",
    "print(\"Balance is %s\" % card.expense)"
   ]
  },
  {
   "cell_type": "code",
   "execution_count": 36,
   "metadata": {},
   "outputs": [
    {
     "name": "stdout",
     "output_type": "stream",
     "text": [
      "42\n",
      "42\n",
      "42\n"
     ]
    }
   ],
   "source": [
    "# 1.1.14\tLazy Properties of Descriptors\n",
    "############################################\n",
    "\n",
    "import random, time\n",
    "class Universe:\n",
    "    def answer_to_life(self):\n",
    "        time.sleep(5) # Consider this as the thinking time. \n",
    "        return 42\n",
    "\n",
    "myUniverse = Universe()\n",
    "print(myUniverse.answer_to_life())\n",
    "print(myUniverse.answer_to_life())\n",
    "print(myUniverse.answer_to_life())\n"
   ]
  },
  {
   "cell_type": "code",
   "execution_count": null,
   "metadata": {},
   "outputs": [],
   "source": [
    "# Using cached properties descriptors\n",
    "######################################\n",
    "\n",
    "import random, time\n",
    "\n",
    "class CachedProperty:\n",
    "    def __init__(self, func):\n",
    "        self.func = func\n",
    "        self.fname = func.__name__\n",
    "\n",
    "    def __get__(self, instance, type=None) -> object:\n",
    "        instance.__dict__[self.fname] = self.func(instance)\n",
    "        return instance.__dict__[self.fname]\n",
    "\n",
    "class Universe:\n",
    "    @CachedProperty\n",
    "    def answer_to_life(self):\n",
    "        time.sleep(5)\n",
    "        return 42\n",
    "\n",
    "myUniverse = Universe()\n",
    "print(myUniverse.answer_to_life())\n",
    "print(myUniverse.answer_to_life())\n",
    "print(myUniverse.answer_to_life())"
   ]
  },
  {
   "cell_type": "code",
   "execution_count": 40,
   "metadata": {},
   "outputs": [
    {
     "name": "stdout",
     "output_type": "stream",
     "text": [
      "7\n",
      "0\n"
     ]
    }
   ],
   "source": [
    "# 1.1.15\tCode in accordance to the D.R.Y. principle\n",
    "#########################################################\n",
    "\n",
    "from math import factorial\n",
    "def is_prime(x):\n",
    "    return factorial(x - 1)  % x == x - 1\n",
    "\n",
    "\n",
    "class PrimeDeals:\n",
    "    def __init__(self):\n",
    "        self._prop_one = 0\n",
    "        self._prop_two = 0\n",
    "        self._prop_three = 0\n",
    "        self._prop_four = 0\n",
    "        self._prop_fine = 0\n",
    "\n",
    "    @property\n",
    "    def prop_one(self):\n",
    "        return self._prop_one\n",
    "\n",
    "    @prop_one.setter\n",
    "    def prop_one(self, number):\n",
    "        self._prop_one = number if is_prime(number) else 0\n",
    "\n",
    "    @property\n",
    "    def prop_two(self):\n",
    "        return self._prop_two\n",
    "\n",
    "    @prop_two.setter\n",
    "    def prop_two(self, number):\n",
    "        self._prop_two = number if is_prime(number) else 0\n",
    "\n",
    "    @property\n",
    "    def prop_three(self):\n",
    "        return self._prop_three\n",
    "\n",
    "    @prop_three.setter\n",
    "    def prop_three(self, number):\n",
    "        self._prop_three = number if is_prime(number) else 0\n",
    "\n",
    "    @property\n",
    "    def prop_four(self):\n",
    "        return self._prop_four\n",
    "\n",
    "    @prop_four.setter\n",
    "    def prop_four(self, number):\n",
    "        self._prop_four = number if is_prime(number) else 0\n",
    "\n",
    "\n",
    "deals = PrimeDeals()\n",
    "deals.prop_one = 7\n",
    "deals.prop_two = 4\n",
    "\n",
    "print(deals.prop_one)\n",
    "print(deals.prop_two)\n"
   ]
  },
  {
   "cell_type": "code",
   "execution_count": 41,
   "metadata": {},
   "outputs": [],
   "source": [
    "# Using Prime Number Descriptors\n",
    "\n",
    "class PrimeNumber:\n",
    "    def __set_name__(self, owner, fname):\n",
    "        self.fname = fname\n",
    "\n",
    "    def __get__(self, instance, type=None) -> object:\n",
    "        return instance.__dict__.get(self.fname) or 0\n",
    "\n",
    "    def __set__(self, instance, val) -> None:\n",
    "        instance.__dict__[self.fname] = (val if is_prime(val) else 0)\n",
    "\n",
    "\n",
    "class PrimeDeals:\n",
    "    prop_one = PrimeNumber()\n",
    "    prop_two = PrimeNumber()\n",
    "    prop_three = PrimeNumber()\n",
    "    prop_four = PrimeNumber()"
   ]
  },
  {
   "cell_type": "code",
   "execution_count": 42,
   "metadata": {},
   "outputs": [
    {
     "name": "stdout",
     "output_type": "stream",
     "text": [
      "7\n",
      "0\n"
     ]
    }
   ],
   "source": [
    "deals = PrimeDeals()\n",
    "deals.prop_one = 7\n",
    "deals.prop_two = 4\n",
    "\n",
    "print(deals.prop_one)\n",
    "print(deals.prop_two)"
   ]
  }
 ],
 "metadata": {
  "kernelspec": {
   "display_name": "Python 3",
   "language": "python",
   "name": "python3"
  },
  "language_info": {
   "codemirror_mode": {
    "name": "ipython",
    "version": 3
   },
   "file_extension": ".py",
   "mimetype": "text/x-python",
   "name": "python",
   "nbconvert_exporter": "python",
   "pygments_lexer": "ipython3",
   "version": "3.8.5"
  }
 },
 "nbformat": 4,
 "nbformat_minor": 4
}
