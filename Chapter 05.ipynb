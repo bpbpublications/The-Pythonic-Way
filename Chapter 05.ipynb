{
 "cells": [
  {
   "cell_type": "code",
   "execution_count": null,
   "metadata": {},
   "outputs": [],
   "source": [
    "import os, sys"
   ]
  },
  {
   "cell_type": "code",
   "execution_count": 58,
   "metadata": {},
   "outputs": [],
   "source": [
    "from functools import wraps\n",
    "class RerunOnError(Exception):\n",
    "    pass\n",
    "\n",
    "def rerun(function):\n",
    "    @wraps(function)\n",
    "    def rerun_wrapper(*args, **kwargs):\n",
    "        previously_raised = None\n",
    "        NO_OF_TRIES = 3\n",
    "        for _ in range(NO_OF_TRIES):\n",
    "            try:\n",
    "                return function(*args, **kwargs)\n",
    "            except RerunOnException as exp:\n",
    "                logger.info(\"Rerun%s\",function.__qualname__)\n",
    "                previously_raised = exp\n",
    "        raise previously_raised\n",
    "    return rerun_wrapper\n"
   ]
  },
  {
   "cell_type": "code",
   "execution_count": 59,
   "metadata": {},
   "outputs": [],
   "source": [
    "@rerun\n",
    "def schedule_task():\n",
    "    \"\"\"schedules a task, throws an Exception is resources are busy\"\"\"\n",
    "    try:\n",
    "        print(\"hello\")\n",
    "        int(\"damn\")\n",
    "        return 0\n",
    "    except:\n",
    "        print(\"world\")\n",
    "        return 1\n"
   ]
  },
  {
   "cell_type": "code",
   "execution_count": 60,
   "metadata": {},
   "outputs": [
    {
     "name": "stdout",
     "output_type": "stream",
     "text": [
      "hello\n",
      "world\n"
     ]
    },
    {
     "data": {
      "text/plain": [
       "1"
      ]
     },
     "execution_count": 60,
     "metadata": {},
     "output_type": "execute_result"
    }
   ],
   "source": [
    "schedule_task()"
   ]
  },
  {
   "cell_type": "code",
   "execution_count": 61,
   "metadata": {},
   "outputs": [],
   "source": [
    "# 1.1.1\tDécoration of functions\n",
    "\n",
    "import time\n",
    "from functools import wraps\n",
    "\n",
    "def rerun(ExceptionTuple, tries=4, delay=3, backoff=2):\n",
    "    def retry(func):\n",
    "        @wraps(func)\n",
    "        def run_again(*args, **kwargs):\n",
    "            maxtries, maxdelay = tries, delay\n",
    "            while maxtries > 1:\n",
    "                try:\n",
    "                    return func(*args, **kwargs)\n",
    "                except ExceptionTuple as e:\n",
    "                    print(f\"Failed {str(e)}! Retrying in {maxdelay} seconds...\")  \n",
    "                    time.sleep(maxdelay)\n",
    "                    maxtries -= 1\n",
    "                    maxdelay *= backoff\n",
    "            return func(*args, **kwargs)\n",
    "        return run_again  # true decorator\n",
    "    return retry"
   ]
  },
  {
   "cell_type": "code",
   "execution_count": 62,
   "metadata": {},
   "outputs": [],
   "source": [
    "@rerun(Exception, tries=4)\n",
    "def schedule_task():\n",
    "    \"\"\"schedules a task, throws an Exception when resources are busy\"\"\"\n",
    "    int(\"damn\")\n",
    "    print(\"hello\")\n",
    "    int(\"damn\")\n",
    "    return 0"
   ]
  },
  {
   "cell_type": "code",
   "execution_count": 63,
   "metadata": {},
   "outputs": [
    {
     "name": "stdout",
     "output_type": "stream",
     "text": [
      "Failed invalid literal for int() with base 10: 'damn'! Retrying in 3 seconds...\n",
      "Failed invalid literal for int() with base 10: 'damn'! Retrying in 6 seconds...\n",
      "Failed invalid literal for int() with base 10: 'damn'! Retrying in 12 seconds...\n"
     ]
    },
    {
     "ename": "ValueError",
     "evalue": "invalid literal for int() with base 10: 'damn'",
     "output_type": "error",
     "traceback": [
      "\u001b[1;31m---------------------------------------------------------------------------\u001b[0m",
      "\u001b[1;31mValueError\u001b[0m                                Traceback (most recent call last)",
      "\u001b[1;32m<ipython-input-63-4b2ebdb8b5e5>\u001b[0m in \u001b[0;36m<module>\u001b[1;34m\u001b[0m\n\u001b[1;32m----> 1\u001b[1;33m \u001b[0mschedule_task\u001b[0m\u001b[1;33m(\u001b[0m\u001b[1;33m)\u001b[0m\u001b[1;33m\u001b[0m\u001b[1;33m\u001b[0m\u001b[0m\n\u001b[0m",
      "\u001b[1;32m<ipython-input-61-dc41e566bfbb>\u001b[0m in \u001b[0;36mrun_again\u001b[1;34m(*args, **kwargs)\u001b[0m\n\u001b[0;32m     17\u001b[0m                     \u001b[0mmaxtries\u001b[0m \u001b[1;33m-=\u001b[0m \u001b[1;36m1\u001b[0m\u001b[1;33m\u001b[0m\u001b[1;33m\u001b[0m\u001b[0m\n\u001b[0;32m     18\u001b[0m                     \u001b[0mmaxdelay\u001b[0m \u001b[1;33m*=\u001b[0m \u001b[0mbackoff\u001b[0m\u001b[1;33m\u001b[0m\u001b[1;33m\u001b[0m\u001b[0m\n\u001b[1;32m---> 19\u001b[1;33m             \u001b[1;32mreturn\u001b[0m \u001b[0mfunc\u001b[0m\u001b[1;33m(\u001b[0m\u001b[1;33m*\u001b[0m\u001b[0margs\u001b[0m\u001b[1;33m,\u001b[0m \u001b[1;33m**\u001b[0m\u001b[0mkwargs\u001b[0m\u001b[1;33m)\u001b[0m\u001b[1;33m\u001b[0m\u001b[1;33m\u001b[0m\u001b[0m\n\u001b[0m\u001b[0;32m     20\u001b[0m         \u001b[1;32mreturn\u001b[0m \u001b[0mrun_again\u001b[0m  \u001b[1;31m# true decorator\u001b[0m\u001b[1;33m\u001b[0m\u001b[1;33m\u001b[0m\u001b[0m\n\u001b[0;32m     21\u001b[0m     \u001b[1;32mreturn\u001b[0m \u001b[0mretry\u001b[0m\u001b[1;33m\u001b[0m\u001b[1;33m\u001b[0m\u001b[0m\n",
      "\u001b[1;32m<ipython-input-62-182297dc2d63>\u001b[0m in \u001b[0;36mschedule_task\u001b[1;34m()\u001b[0m\n\u001b[0;32m      2\u001b[0m \u001b[1;32mdef\u001b[0m \u001b[0mschedule_task\u001b[0m\u001b[1;33m(\u001b[0m\u001b[1;33m)\u001b[0m\u001b[1;33m:\u001b[0m\u001b[1;33m\u001b[0m\u001b[1;33m\u001b[0m\u001b[0m\n\u001b[0;32m      3\u001b[0m     \u001b[1;34m\"\"\"schedules a task, throws an Exception when resources are busy\"\"\"\u001b[0m\u001b[1;33m\u001b[0m\u001b[1;33m\u001b[0m\u001b[0m\n\u001b[1;32m----> 4\u001b[1;33m     \u001b[0mint\u001b[0m\u001b[1;33m(\u001b[0m\u001b[1;34m\"damn\"\u001b[0m\u001b[1;33m)\u001b[0m\u001b[1;33m\u001b[0m\u001b[1;33m\u001b[0m\u001b[0m\n\u001b[0m\u001b[0;32m      5\u001b[0m     \u001b[0mprint\u001b[0m\u001b[1;33m(\u001b[0m\u001b[1;34m\"hello\"\u001b[0m\u001b[1;33m)\u001b[0m\u001b[1;33m\u001b[0m\u001b[1;33m\u001b[0m\u001b[0m\n\u001b[0;32m      6\u001b[0m     \u001b[0mint\u001b[0m\u001b[1;33m(\u001b[0m\u001b[1;34m\"damn\"\u001b[0m\u001b[1;33m)\u001b[0m\u001b[1;33m\u001b[0m\u001b[1;33m\u001b[0m\u001b[0m\n",
      "\u001b[1;31mValueError\u001b[0m: invalid literal for int() with base 10: 'damn'"
     ]
    }
   ],
   "source": [
    "schedule_task()"
   ]
  },
  {
   "cell_type": "code",
   "execution_count": null,
   "metadata": {},
   "outputs": [],
   "source": [
    "# 1.1.2\tDécoration of classes\n",
    "\n",
    "class SerializeMessages:\n",
    "    def __init__(self, Message):\n",
    "        self.message= message\n",
    "\n",
    "    def serialize(self) ->dict:\n",
    "        return {\n",
    "                   \"login_name\": self.message.login_name,\n",
    "                   \"access_key\": \"**redacted**\",\n",
    "                   \"connection\": self.message.connection,\n",
    "                   \"timestamp\": self.message.timestamp.strftime(\"%Y-%m-%d%H:%M\"),\n",
    "        }\n",
    "\n",
    "class LoginMessage:\n",
    "    MESSAGE_SERIALIZER = SerializeMessages\n",
    "    def __init__(self, login_name, access_key, connection,timestamp):\n",
    "        self.login_name = login_name\n",
    "        self.access_key = access_key\n",
    "        self.connection = connection\n",
    "        self.timestamp = timestamp\n",
    "\n",
    "    def serialize(self) -> dict:\n",
    "        return self.MESSAGE_SERIALIZER(self).serialize()\n"
   ]
  },
  {
   "cell_type": "code",
   "execution_count": 64,
   "metadata": {},
   "outputs": [],
   "source": [
    "# Define the serializer class\n",
    "\n",
    "class SerializeMessages:\n",
    "    def __init__(self, message_flds: dict) -> None:\n",
    "         self.message_flds = message_flds\n",
    "\n",
    "    def serialize(self, message) ->dict:\n",
    "        return {\n",
    "            field: transformation(getattr(message, field))\n",
    "            for field, transformation in\n",
    "            self.message_fields.items()\n",
    "        }\n",
    "\n",
    "# MsgSerialization class\n",
    "class MsgSerialization:\n",
    "    def __init__(self, **trnsfrm):\n",
    "        self.serialzr = SerializeMessages(trnsfrm)\n",
    "\n",
    "    def __call__(self, message_class):\n",
    "        def function_serializer(message_instance):\n",
    "             return self.serialzr.serialize(message_instance)\n",
    "        message_class.serialize = function_serializer\n",
    "        return message_class\n"
   ]
  },
  {
   "cell_type": "code",
   "execution_count": 65,
   "metadata": {},
   "outputs": [],
   "source": [
    "from datetime import datetime\n",
    "\n",
    "# Define the utility methods\n",
    "def obfuscate_passkey(passkey) -> str:\n",
    "    return \"**redacted**\"\n",
    "\n",
    "def repr_timestamp(timestamp: datetime) -> str:\n",
    "    return timestamp.strftime(\"%Y-%m-%d %H:%M\")\n",
    "\n",
    "def nochange(field_name):\n",
    "    return field_name\n",
    "\n",
    "# Applying the decorator to the class \n",
    "@MsgSerialization(\n",
    "    login_name=nochange,\n",
    "    passkey=obfuscate_passkey,\n",
    "    connection=nochange,\n",
    "    timestamp=repr_timestamp,\n",
    ")\n",
    "class LoginMessage:\n",
    "    def __init__(self, login_name, passkey, connection, timestamp):\n",
    "        self.login_name= login_name\n",
    "        self.passkey= passkey\n",
    "        self.connection = connection\n",
    "        self.timestamp = timestamp\n"
   ]
  },
  {
   "cell_type": "code",
   "execution_count": 66,
   "metadata": {},
   "outputs": [],
   "source": [
    "# Using dataclasses you could make the implementation of decorators even simpler\n",
    "\n",
    "from dataclasses import dataclass\n",
    "import datetime\n",
    "\n",
    "@MsgSerialization(\n",
    "login_name='nochange',\n",
    "passkey='obfuscate_passkey',\n",
    "timestamp='repr_timestamp',\n",
    ")\n",
    "\n",
    "@dataclass\n",
    "class LoginMessage:\n",
    "    login_name: str\n",
    "    passkey: str\n",
    "    passkey: str\n",
    "    timestamp: datetime.datetime\n"
   ]
  },
  {
   "cell_type": "code",
   "execution_count": 67,
   "metadata": {},
   "outputs": [],
   "source": [
    "# 1.1.3\tDecoration of other constructs - example, generators\n",
    "\n",
    "from time import time\n",
    "import functools\n",
    "\n",
    "def log_method_calls(function):\n",
    "    @functools.wraps(function)\n",
    "    def logging_wrapper(*args, **kwargs):\n",
    "        t_begin = time()\n",
    "        value = yield from function(*args, **kwargs)\n",
    "        t_end = time()\n",
    "        duration = t_end - t_begin\n",
    "        print('Function %s took %f' % (function.__name__, duration))\n",
    "        return value\n",
    "    return logging_wrapper\n"
   ]
  },
  {
   "cell_type": "code",
   "execution_count": 68,
   "metadata": {},
   "outputs": [],
   "source": [
    "from time import time, sleep\n",
    "\n",
    "@log_method_calls\n",
    "def demo():\n",
    "    for index in range(5):\n",
    "        sleep(index)\n",
    "        yield index"
   ]
  },
  {
   "cell_type": "code",
   "execution_count": 69,
   "metadata": {},
   "outputs": [
    {
     "name": "stdout",
     "output_type": "stream",
     "text": [
      "Function demo took 10.019515\n"
     ]
    },
    {
     "data": {
      "text/plain": [
       "(0, 1, 2, 3, 4)"
      ]
     },
     "execution_count": 69,
     "metadata": {},
     "output_type": "execute_result"
    }
   ],
   "source": [
    "tuple(demo())"
   ]
  },
  {
   "cell_type": "code",
   "execution_count": 70,
   "metadata": {},
   "outputs": [],
   "source": [
    "# 1.1.5\tEvaluation of multiple décorators\n",
    "\n",
    "def salutation(function):\n",
    "    def add_salutation_wrap():\n",
    "        salutation = function()\n",
    "        return (\" \".join([salutation, \"Stephen Hawking!\"]))\n",
    "    return add_salutation_wrap\n",
    "\n",
    "def change_case(function):\n",
    "    def to_upper():\n",
    "        case_txt = function()\n",
    "        if not isinstance(case_txt, str):\n",
    "            raiseTypeError(\"Not a string type\")\n",
    "        return case_txt.upper()\n",
    "    return to_upper\n"
   ]
  },
  {
   "cell_type": "code",
   "execution_count": 71,
   "metadata": {},
   "outputs": [],
   "source": [
    "@change_case\n",
    "@salutation\n",
    "def get_salutation():\n",
    "    return \"Hello\""
   ]
  },
  {
   "cell_type": "code",
   "execution_count": 72,
   "metadata": {},
   "outputs": [
    {
     "data": {
      "text/plain": [
       "'HELLO STEPHEN HAWKING!'"
      ]
     },
     "execution_count": 72,
     "metadata": {},
     "output_type": "execute_result"
    }
   ],
   "source": [
    "get_salutation()"
   ]
  },
  {
   "cell_type": "code",
   "execution_count": 73,
   "metadata": {},
   "outputs": [],
   "source": [
    "from datetime import datetime\n",
    "def enable_logs(function):\n",
    "    def enable_logs_wrapper(*args, **kwargs):\n",
    "        print(function.__name__ + \" was invoked at \" +  str(datetime.now()))\n",
    "        return function(*args, **kwargs)\n",
    "    return enable_logs_wrapper\n",
    "\n",
    "@enable_logs\n",
    "def get_square(number):\n",
    "    return number * number\n"
   ]
  },
  {
   "cell_type": "code",
   "execution_count": 74,
   "metadata": {},
   "outputs": [
    {
     "name": "stdout",
     "output_type": "stream",
     "text": [
      "get_square was invoked at 2021-05-08 18:45:04.288211\n"
     ]
    }
   ],
   "source": [
    "square = get_square(9)"
   ]
  },
  {
   "cell_type": "code",
   "execution_count": 75,
   "metadata": {},
   "outputs": [
    {
     "name": "stdout",
     "output_type": "stream",
     "text": [
      "enable_logs_wrapper\n"
     ]
    }
   ],
   "source": [
    "print(get_square.__name__)"
   ]
  },
  {
   "cell_type": "code",
   "execution_count": 76,
   "metadata": {},
   "outputs": [
    {
     "name": "stdout",
     "output_type": "stream",
     "text": [
      "eval_expression\n",
      "a computing function\n"
     ]
    }
   ],
   "source": [
    "# 1.1.6\tUsing functools Library for Decorators\n",
    "\n",
    "from datetime import datetime\n",
    "from functools import wraps\n",
    "\n",
    "def enable_logs(function):\n",
    "    @wraps(function)     #--- use the functools API to wrap \n",
    "    def enable_logs_wrapper(*args, **kwargs):\n",
    "        print(function.__name__ + \" was invoked at \" +  str(datetime.now()))\n",
    "        return function(*args, **kwargs)\n",
    "    return enable_logs_wrapper\n",
    "\n",
    "@enable_logs\n",
    "def eval_expression(number):\n",
    "    \"\"\"a computing function\"\"\"\n",
    "    return number + number * number\n",
    "\n",
    "print(eval_expression.__name__)    # prints 'eval_expression'\n",
    "print(eval_expression.__doc__)     # prints 'a computing function'\n"
   ]
  },
  {
   "cell_type": "code",
   "execution_count": 77,
   "metadata": {},
   "outputs": [
    {
     "name": "stdout",
     "output_type": "stream",
     "text": [
      "Function random_function called! Arguments (), {}\n"
     ]
    }
   ],
   "source": [
    "# a simple third-party library called decorator that houses useful functionality \n",
    "# for a more robust definition and use of decorators.\n",
    "\n",
    "from decorator import decorator\n",
    "\n",
    "@decorator\n",
    "def call_log(function, *args, **kwargs):\n",
    "    kwords = ''\n",
    "    for key in sorted(kwargs):\n",
    "        kwords = ', '.join('%r: %r' % (key, kwargs[k])) \n",
    "    print(\"Function %s called! Arguments %s, {%s}\" % (function.__name__, args, kwords))\n",
    "    return function(*args, **kwargs)\n",
    "\n",
    "\n",
    "@call_log\n",
    "def random_function(): \n",
    "    pass\n",
    "\n",
    "random_function()"
   ]
  },
  {
   "cell_type": "code",
   "execution_count": null,
   "metadata": {},
   "outputs": [],
   "source": [
    "# Implementation for creating decorators for the class methods\n",
    "\n",
    "import requests\n",
    "\n",
    "def try_again(times=3, pause=10):\n",
    "    def retry(function):\n",
    "        @wraps(function)\n",
    "        def run_again(*args, **kwargs):\n",
    "            for try_num in times:\n",
    "                function(*args, **kwargs)\n",
    "                time.sleep(pause)\n",
    "        return run_again\n",
    "    return retry\n",
    "\n",
    "\n",
    "class DownloadFromRemote:\n",
    "    def __init__(self, remote_url, hdr_string):\n",
    "        self.remote_url = remote_url\n",
    "        self.hdr = hdr_string\n",
    "\n",
    "    @try_again(times=4, pause=5)\n",
    "    def request_file(self):\n",
    "        try:\n",
    "            rsp = requests.get(self.remote_url, self.hdr)\n",
    "            if rsp.status_code in (429, 500, 502, 503):\n",
    "                pass # Add custom handling logic\n",
    "        except Exception as err:\n",
    "            raise FailedRequest(\"Server connection failed!\")\n",
    "        return rsp"
   ]
  },
  {
   "cell_type": "code",
   "execution_count": 78,
   "metadata": {},
   "outputs": [],
   "source": [
    "# 1.1.7\tStateful Decorators - Maintaining the state within the decorator\n",
    "\n",
    "import functools\n",
    "\n",
    "def invoke_count(function):\n",
    "    @functools.wraps(function)\n",
    "    def calls_wrapper(*args, **kwargs):\n",
    "        calls_wrapper.count_of_calls += 1\n",
    "        print (f\"CallNo. {calls_wrapper.count_of_calls}\")\n",
    "        return function(*args, **kwargs)\n",
    "    calls_wrapper.count_of_calls = 0\n",
    "    return calls_wrapper\n",
    "\n",
    "@invoke_count\n",
    "def hello_world():\n",
    "    print(\"Hello to you, too!\")\n"
   ]
  },
  {
   "cell_type": "code",
   "execution_count": 79,
   "metadata": {},
   "outputs": [
    {
     "name": "stdout",
     "output_type": "stream",
     "text": [
      "CallNo. 1\n",
      "Hello to you, too!\n"
     ]
    }
   ],
   "source": [
    "hello_world()"
   ]
  },
  {
   "cell_type": "code",
   "execution_count": 80,
   "metadata": {},
   "outputs": [
    {
     "name": "stdout",
     "output_type": "stream",
     "text": [
      "CallNo. 2\n",
      "Hello to you, too!\n"
     ]
    }
   ],
   "source": [
    "hello_world()"
   ]
  },
  {
   "cell_type": "code",
   "execution_count": 81,
   "metadata": {},
   "outputs": [
    {
     "name": "stdout",
     "output_type": "stream",
     "text": [
      "CallNo. 3\n",
      "Hello to you, too!\n"
     ]
    }
   ],
   "source": [
    "hello_world()"
   ]
  },
  {
   "cell_type": "code",
   "execution_count": 82,
   "metadata": {},
   "outputs": [
    {
     "data": {
      "text/plain": [
       "3"
      ]
     },
     "execution_count": 82,
     "metadata": {},
     "output_type": "execute_result"
    }
   ],
   "source": [
    "hello_world.count_of_calls"
   ]
  },
  {
   "cell_type": "code",
   "execution_count": 83,
   "metadata": {},
   "outputs": [],
   "source": [
    "# 1.1.8\tCreating Singletons with Décorators\n",
    "\n",
    "import functools\n",
    "\n",
    "def make_singleton(cls):\n",
    "    @functools.wraps(cls)\n",
    "    def sgl_wrapper(*args, **kwargs):\n",
    "        if not sgl_wrapper.object:\n",
    "            sgl_wrapper.object = cls(*args, **kwargs)\n",
    "        return sgl_wrapper.object\n",
    "    sgl_wrapper.object = None\n",
    "    return sgl_wrapper\n",
    "\n",
    "@make_singleton\n",
    "class DeltaStategies:\n",
    "    # Some Logic\n",
    "    pass\n"
   ]
  },
  {
   "cell_type": "code",
   "execution_count": 84,
   "metadata": {},
   "outputs": [],
   "source": [
    "strat_one = DeltaStategies()\n",
    "strat_two = DeltaStategies()"
   ]
  },
  {
   "cell_type": "code",
   "execution_count": 85,
   "metadata": {},
   "outputs": [
    {
     "data": {
      "text/plain": [
       "1722961249472"
      ]
     },
     "execution_count": 85,
     "metadata": {},
     "output_type": "execute_result"
    }
   ],
   "source": [
    "id(strat_one)"
   ]
  },
  {
   "cell_type": "code",
   "execution_count": 86,
   "metadata": {},
   "outputs": [
    {
     "data": {
      "text/plain": [
       "True"
      ]
     },
     "execution_count": 86,
     "metadata": {},
     "output_type": "execute_result"
    }
   ],
   "source": [
    "strat_one is strat_two"
   ]
  },
  {
   "cell_type": "code",
   "execution_count": null,
   "metadata": {},
   "outputs": [],
   "source": [
    "# 1.1.9\tCaching Function Return Values – Memoisation\n",
    "\n",
    "@count_calls # Define a custom count_calls to try this out!\n",
    "def get_fibo_seies(start_int):\n",
    "    if start_int< 2:\n",
    "        return start_int\n",
    "    return get_fibo_series(start_int - 1) + get_fibo_series(start_int - 2)"
   ]
  },
  {
   "cell_type": "code",
   "execution_count": null,
   "metadata": {},
   "outputs": [],
   "source": [
    "# 1.1.9\tCaching Function Return Values – Memoisation\n",
    "\n",
    "import functools\n",
    "\n",
    "def enable_caching(function):\n",
    "    @functools.wraps(function)\n",
    "    def wrapper(*args, **kwargs):\n",
    "        key_for_cache = args + tuple(kwargs.items())\n",
    "        if key_for_cache not in wrapper.cache:\n",
    "            wrapper.cache[key_for_cache] = function(*args, **kwargs)\n",
    "        return wrapper.cache[key_for_cache]\n",
    "    wrapper.cache = dict()\n",
    "    return wrapper\n",
    "\n",
    "@enable_caching\n",
    "@count_calls\n",
    "def get_fibo_series(start_int):\n",
    "    if start_int< 2:\n",
    "        return start_int\n",
    "    return get_fibo_series(start_int - 1) + get_fibo_series(start_int - 2)"
   ]
  },
  {
   "cell_type": "code",
   "execution_count": 88,
   "metadata": {},
   "outputs": [],
   "source": [
    "# 1.1.9\tCaching Function Return Values – Memoisation\n",
    "\n",
    "import functools\n",
    "\n",
    "@functools.lru_cache(maxsize=5)\n",
    "def get_fibo_series(start_int):\n",
    "    print(f\"Getting {start_int}th value\")\n",
    "    if start_int< 2:\n",
    "        return start_int\n",
    "    return get_fibo_series(start_int - 1) + \\\n",
    "get_fibo_series(start_int - 2)"
   ]
  },
  {
   "cell_type": "code",
   "execution_count": 89,
   "metadata": {},
   "outputs": [
    {
     "name": "stdout",
     "output_type": "stream",
     "text": [
      "Getting 10th value\n",
      "Getting 9th value\n",
      "Getting 8th value\n",
      "Getting 7th value\n",
      "Getting 6th value\n",
      "Getting 5th value\n",
      "Getting 4th value\n",
      "Getting 3th value\n",
      "Getting 2th value\n",
      "Getting 1th value\n",
      "Getting 0th value\n"
     ]
    },
    {
     "data": {
      "text/plain": [
       "55"
      ]
     },
     "execution_count": 89,
     "metadata": {},
     "output_type": "execute_result"
    }
   ],
   "source": [
    "get_fibo_series(10)"
   ]
  },
  {
   "cell_type": "code",
   "execution_count": 90,
   "metadata": {},
   "outputs": [
    {
     "data": {
      "text/plain": [
       "13"
      ]
     },
     "execution_count": 90,
     "metadata": {},
     "output_type": "execute_result"
    }
   ],
   "source": [
    "get_fibo_series(7)"
   ]
  },
  {
   "cell_type": "code",
   "execution_count": 91,
   "metadata": {},
   "outputs": [
    {
     "name": "stdout",
     "output_type": "stream",
     "text": [
      "Getting 5th value\n",
      "Getting 4th value\n",
      "Getting 3th value\n",
      "Getting 2th value\n",
      "Getting 1th value\n",
      "Getting 0th value\n"
     ]
    },
    {
     "data": {
      "text/plain": [
       "5"
      ]
     },
     "execution_count": 91,
     "metadata": {},
     "output_type": "execute_result"
    }
   ],
   "source": [
    "get_fibo_series(5)"
   ]
  },
  {
   "cell_type": "code",
   "execution_count": 92,
   "metadata": {},
   "outputs": [
    {
     "name": "stdout",
     "output_type": "stream",
     "text": [
      "Getting 7th value\n",
      "Getting 6th value\n"
     ]
    },
    {
     "data": {
      "text/plain": [
       "13"
      ]
     },
     "execution_count": 92,
     "metadata": {},
     "output_type": "execute_result"
    }
   ],
   "source": [
    "get_fibo_series(7)"
   ]
  },
  {
   "cell_type": "code",
   "execution_count": 93,
   "metadata": {},
   "outputs": [
    {
     "data": {
      "text/plain": [
       "5"
      ]
     },
     "execution_count": 93,
     "metadata": {},
     "output_type": "execute_result"
    }
   ],
   "source": [
    "get_fibo_series(5)"
   ]
  },
  {
   "cell_type": "code",
   "execution_count": 94,
   "metadata": {},
   "outputs": [
    {
     "data": {
      "text/plain": [
       "CacheInfo(hits=16, misses=19, maxsize=5, currsize=5)"
      ]
     },
     "execution_count": 94,
     "metadata": {},
     "output_type": "execute_result"
    }
   ],
   "source": [
    "get_fibo_series.cache_info()"
   ]
  },
  {
   "cell_type": "code",
   "execution_count": null,
   "metadata": {},
   "outputs": [],
   "source": [
    "# 1.1.11\tPreserving data about the original wrapped object\n",
    "\n",
    "# wrap_decor_2.py\n",
    "def log_tracer(func):\n",
    "    @wraps(func)\n",
    "    def wrapped(*args, **kwargs):\n",
    "        logger.info(\"running %s\", func.__qualname__)\n",
    "        return func(*args, **kwargs)\n",
    "    return wrapped"
   ]
  },
  {
   "cell_type": "code",
   "execution_count": null,
   "metadata": {},
   "outputs": [],
   "source": [
    "import time\n",
    "def func_trace_wrong(method):\n",
    "    print(\"Execute method %s\", method)\n",
    "    exec_begin_time = time.time()\n",
    "\n",
    "    @functools.wraps(method)\n",
    "    def wrapped(*args, **kwargs):\n",
    "        output = method(*args, **kwargs)\n",
    "        print(\n",
    "            \"method takes %.2fs\",\n",
    "            time.time() - exec_begin_time\n",
    "        )\n",
    "        return output\n",
    "    return wrapped\n"
   ]
  },
  {
   "cell_type": "code",
   "execution_count": null,
   "metadata": {},
   "outputs": [],
   "source": [
    "@func_trace_wrong\n",
    "def slowdown(callback, time_secs=0):\n",
    "    time.sleep(time_secs)\n",
    "    return callback()"
   ]
  },
  {
   "cell_type": "code",
   "execution_count": null,
   "metadata": {},
   "outputs": [],
   "source": [
    "# Every successive call also finds the difference from current time to the import time and not the run start.\n",
    "\n",
    "def func_trace(method):\n",
    "    @functools.wraps(method)\n",
    "    def wrapped(*args, **kwargs):\n",
    "        print(\"Execute method %s\", method.__qualname__)\n",
    "        exec_begin_time = time.time()\n",
    "        output = method(*args, **kwargs)\n",
    "        print(\n",
    "            \"method %s takes %.2fs\",\n",
    "            method.__qualname__,\n",
    "            time.time() - start_time\n",
    "        )\n",
    "        return result\n",
    "    return wrapped\n"
   ]
  },
  {
   "cell_type": "code",
   "execution_count": 95,
   "metadata": {},
   "outputs": [],
   "source": [
    "# 1.1.13\tAdvantages of decorators with side-effects\n",
    "\n",
    "EXPOSED_EVENT_SET = {}\n",
    "\n",
    "def register_for_use(myEvent):\n",
    "    EXPOSED_EVENT_SET[myEvent.__name__] = myEvent\n",
    "    return myEvent\n",
    "\n",
    "class Event:\n",
    "    class customEvent:\n",
    "        TYPE = \"specificEvent\"\n",
    "\n",
    "    @register_for_use\n",
    "    class LoginUserHandler(customEvent):\n",
    "        \"\"\" Executed when the user is logging in to the system \"\"\"\n",
    "        pass\n",
    "\n",
    "    @register_for_use\n",
    "    class LogoutEventHandler(customEvent):\n",
    "        \"\"\"Invoked when the logout operation is initiated/completed \"\"\"\n",
    "        pass\n"
   ]
  },
  {
   "cell_type": "code",
   "execution_count": 96,
   "metadata": {},
   "outputs": [
    {
     "data": {
      "text/plain": [
       "{'LoginUserHandler': __main__.Event.LoginUserHandler,\n",
       " 'LogoutEventHandler': __main__.Event.LogoutEventHandler}"
      ]
     },
     "execution_count": 96,
     "metadata": {},
     "output_type": "execute_result"
    }
   ],
   "source": [
    "EXPOSED_EVENT_SET"
   ]
  },
  {
   "cell_type": "code",
   "execution_count": 97,
   "metadata": {},
   "outputs": [],
   "source": [
    "# 1.1.14\tCreate decorators that work for multiple object types.\n",
    "\n",
    "import logging\n",
    "from functools import wraps\n",
    "\n",
    "# Logger instances\n",
    "logger = logging.getLogger(__name__)\n",
    "\n",
    "class DatabaseAdapter:\n",
    "    def __init__(self, databaseParameters):\n",
    "        self.databaseParameters= databaseParameters\n",
    "\n",
    "    def run_query(self, query_string):\n",
    "        return(f\"Running {query_string} with params {self.databaseParameters}\")\n",
    "\n",
    "    # Define the decorator\n",
    "    def use_database_driver(func):\n",
    "        \"\"\" Creates and returns a driver object from the param string \"\"\"\n",
    "        @wraps(func)\n",
    "        def wrapped(databaseParameters):\n",
    "            return func(DatabaseAdapter(databaseParameters))\n",
    "        return wrapped\n",
    "\n",
    "    @use_database_driver\n",
    "    def execute_query(db_driver):\n",
    "        return db_driver.run_query(\"some_random_function\")\n"
   ]
  },
  {
   "cell_type": "code",
   "execution_count": 98,
   "metadata": {},
   "outputs": [],
   "source": [
    "# Making decorators handle cases with 'self'\n",
    "\n",
    "from types import MethodType\n",
    "from functools import wraps\n",
    "\n",
    "class use_database_driver:\n",
    "    \"\"\" Creates and returns a driver object from the param string “””\"\"\"\n",
    "    def __init__(self, func):\n",
    "        self.func = func\n",
    "        wraps(self.func)(self)\n",
    "\n",
    "    def __call__(self, connectionString):\n",
    "        return self.func(DatabaseAdapter(connectionString))\n",
    "\n",
    "    def __get__(self, obj, owner):\n",
    "        if obj is None:\n",
    "            return self\n",
    "        return self.__class__(MethodType(self.func, obj))\n"
   ]
  },
  {
   "cell_type": "code",
   "execution_count": 99,
   "metadata": {},
   "outputs": [],
   "source": [
    "# 1.1.16\tControl Execution Rate of Code\n",
    "\n",
    "import time\n",
    "import functools\n",
    "\n",
    "def reduce_execution_rate(_function=None, *, num_seconds=2):    \n",
    "    def decorator_exec_rate_reduction(function):\n",
    "        @functools.wraps(function)\n",
    "        def wrapper_rate_reduction(*args, **kwargs):\n",
    "            time.sleep(num_seconds)\n",
    "            return function(*args, **kwargs)\n",
    "        return wrapper_rate_reduction\n",
    "\n",
    "    if _function is None:\n",
    "        return decorator_exec_rate_reduction\n",
    "    else:\n",
    "        return decorator_exec_rate_reduction(_function)\n"
   ]
  },
  {
   "cell_type": "code",
   "execution_count": 100,
   "metadata": {},
   "outputs": [],
   "source": [
    "@reduce_execution_rate(num_seconds=3)\n",
    "def clock_to_zero(start_integer):\n",
    "    if start_integer< 1:\n",
    "        print(\"Shoot!\")\n",
    "    else:\n",
    "        print(start_integer)\n",
    "        clock_to_zero(start_integer - 1)\n"
   ]
  },
  {
   "cell_type": "code",
   "execution_count": 101,
   "metadata": {},
   "outputs": [
    {
     "name": "stdout",
     "output_type": "stream",
     "text": [
      "5\n",
      "4\n",
      "3\n",
      "2\n",
      "1\n",
      "Shoot!\n"
     ]
    }
   ],
   "source": [
    "clock_to_zero(5)"
   ]
  },
  {
   "cell_type": "code",
   "execution_count": 102,
   "metadata": {},
   "outputs": [],
   "source": [
    "# Separation of Concerns in Décorators\n",
    "\n",
    "import functools\n",
    "def func_trace(method):\n",
    "    @functools.wraps(method)\n",
    "    def wrapper(*args, **kwargs):\n",
    "            logger.info(\"Method name %s executing\", method.__qualname__)\n",
    "            run_begin_time= time.time()\n",
    "            output = method(*args, **kwargs)\n",
    "            logger.info(\n",
    "                    \"method %s takes %.2fs\",\n",
    "                    method.__qualname__,\n",
    "                    time.time() - run_begin_time\n",
    "                   )\n",
    "            return output\n",
    "    return wrapper\n"
   ]
  },
  {
   "cell_type": "code",
   "execution_count": 103,
   "metadata": {},
   "outputs": [],
   "source": [
    "# smaller decorators that define a unit level of responsibility each, giving the freedom of choice to the end-user\n",
    "\n",
    "def exec_trace(method):\n",
    "    @wraps(method)\n",
    "    def myWrapper(*args, **kwargs):\n",
    "        logger.info(\"Method name %s executing\", method.__qualname__)\n",
    "        return method(*kwargs, **kwargs)\n",
    "    return myWrapper\n",
    "\n",
    "def time_profiler(method):\n",
    "    @wraps(method)\n",
    "    def myWrapper(*args, **kwargs):\n",
    "        run_begin = time.time()\n",
    "        output = method(*args, **kwargs)\n",
    "        logger.info(\"Method %s takes %.2f\", method.__qualname__,\n",
    "                     time.time() - run_begin)\n",
    "        return output\n",
    "    return myWrapper\n"
   ]
  },
  {
   "cell_type": "code",
   "execution_count": 104,
   "metadata": {},
   "outputs": [],
   "source": [
    "@time_profiler\n",
    "@exec_trace\n",
    "def operation():\n",
    "    print(\"Hello World!!\")"
   ]
  },
  {
   "cell_type": "code",
   "execution_count": 105,
   "metadata": {},
   "outputs": [
    {
     "name": "stdout",
     "output_type": "stream",
     "text": [
      "Hello World!!\n"
     ]
    }
   ],
   "source": [
    "operation()"
   ]
  },
  {
   "cell_type": "code",
   "execution_count": 106,
   "metadata": {},
   "outputs": [],
   "source": [
    "class CustomConMan:\n",
    "    def __init__(self):\n",
    "        print(\"Initiating Object Creation\")\n",
    "        self.someData = 42\n",
    "\n",
    "    def __enter__(self):\n",
    "        print(\"Within the __enter__ block\")\n",
    "        return self\n",
    "\n",
    "    def __exit__(self, data_type, data, data_traceback, exc_type=None):\n",
    "        print('Within the __exit__ block')\n",
    "        if exc_type:\n",
    "            print(f\"data_type: {data_type}\")\n",
    "            print(f\"data: {data }\")\n",
    "            print(f\"data_traceback: {data_traceback}\")\n"
   ]
  },
  {
   "cell_type": "code",
   "execution_count": 107,
   "metadata": {},
   "outputs": [
    {
     "name": "stdout",
     "output_type": "stream",
     "text": [
      "Initiating Object Creation\n"
     ]
    }
   ],
   "source": [
    "cntx = CustomConMan()"
   ]
  },
  {
   "cell_type": "code",
   "execution_count": 108,
   "metadata": {},
   "outputs": [
    {
     "data": {
      "text/plain": [
       "42"
      ]
     },
     "execution_count": 108,
     "metadata": {},
     "output_type": "execute_result"
    }
   ],
   "source": [
    "cntx.someData"
   ]
  },
  {
   "cell_type": "code",
   "execution_count": 109,
   "metadata": {},
   "outputs": [
    {
     "name": "stdout",
     "output_type": "stream",
     "text": [
      "Within the __enter__ block\n",
      "Within code block\n",
      "Within the __exit__ block\n"
     ]
    }
   ],
   "source": [
    "with cntx as cm:\n",
    "    print(\"Within code block\")\n"
   ]
  },
  {
   "cell_type": "code",
   "execution_count": null,
   "metadata": {},
   "outputs": [],
   "source": [
    "# 1.1.18\tUsing contextlib for Creating Context Managers\n",
    "\n",
    "from contextlib import contextmanager\n",
    "\n",
    "@contextmanager\n",
    "def file_dump(name_of_file):\n",
    "    try:\n",
    "        fl_handle = open(name_of_file, \"w\")\n",
    "        yield fl_handle\n",
    "    finally:\n",
    "        fl_handle.close()\n"
   ]
  },
  {
   "cell_type": "code",
   "execution_count": null,
   "metadata": {},
   "outputs": [],
   "source": [
    "with file_dump(\"time_series.txt\") as fl:\n",
    "    fl.write(\"Some random data!\")"
   ]
  },
  {
   "cell_type": "code",
   "execution_count": null,
   "metadata": {},
   "outputs": [],
   "source": [
    "# 1.1.19\tSafe Database Access \n",
    "\n",
    "import sqlite3\n",
    "\n",
    "connection = sqlite3.connect(\":memory:\")\n",
    "connection.execute(\"create table car (id integer primary key,number varchar unique)\")\n",
    "with connection:\n",
    "    connection.execute(\"insert into car(number) values (?)\", (\"KA-4393\",))\n",
    "\n",
    "try:\n",
    "    with connection:\n",
    "        connection.execute(\"insert into car(number) values (?)\", (\"KA-4393\",))\n",
    "except sqlite3.IntegrityError:\n",
    "    print(\"Unable to add the same entry twice.\")\n"
   ]
  },
  {
   "cell_type": "code",
   "execution_count": null,
   "metadata": {},
   "outputs": [],
   "source": [
    "# 1.1.20\tWriting Tests\n",
    "\n",
    "import pytest\n",
    "\n",
    "def integer_division(num1, num2):\n",
    "    if isinstance(num1, int) and isintance(num2, int):\n",
    "        raiseValueError(\"Please enter integer values!\")\n",
    "    try:\n",
    "        return num1/num2\n",
    "    except Exception:\n",
    "        print(\"Denominator should not be Zero!\")\n",
    "        raise\n",
    "\n",
    "with pytest.raises(ValueError):\n",
    "    integer_division(\"21\", 7)\n"
   ]
  },
  {
   "cell_type": "code",
   "execution_count": null,
   "metadata": {},
   "outputs": [],
   "source": [
    "# 1.1.21\tResource Sharing In Python\n",
    "\n",
    "from filelock import FileLock\n",
    "\n",
    "def update_file_entry(staticticsFile):\n",
    "    with FileLock(staticticsFile):\n",
    "        # File is now locked for updation\n",
    "        perform_operations()\n"
   ]
  },
  {
   "cell_type": "code",
   "execution_count": 110,
   "metadata": {},
   "outputs": [],
   "source": [
    "# 1.1.22\tRemote Connection Protocol\n",
    "\n",
    "import socket\n",
    "\n",
    "class NetworkResourceAccess:\n",
    "    def __init__(self, hostname, access_port):\n",
    "        self.hostname = hostname\n",
    "        self.access_port = access_port\n",
    "\n",
    "    def __enter__(self):\n",
    "        self._remoteMachine = socket()\n",
    "        self._remoteMachine.connect((self.hostname, \n",
    "                                     self.access_port))\n",
    "        return self\n",
    "\n",
    "    def __exit__(self, exception, return_code, traceback):\n",
    "        self._remoteMachine.close()\n",
    "\n",
    "    def receive(self):\n",
    "        get_data_util()\n",
    "\n",
    "    def send(self, data):\n",
    "        send_data_util(data)\n"
   ]
  },
  {
   "cell_type": "code",
   "execution_count": null,
   "metadata": {},
   "outputs": [],
   "source": [
    "with NetworkResourceAccess(hostname, access_port) as netgear:\n",
    "    netgear.send(['entryData1', 'entryData2'])\n",
    "    output = netgear.receive()"
   ]
  }
 ],
 "metadata": {
  "kernelspec": {
   "display_name": "Python 3",
   "language": "python",
   "name": "python3"
  },
  "language_info": {
   "codemirror_mode": {
    "name": "ipython",
    "version": 3
   },
   "file_extension": ".py",
   "mimetype": "text/x-python",
   "name": "python",
   "nbconvert_exporter": "python",
   "pygments_lexer": "ipython3",
   "version": "3.8.5"
  }
 },
 "nbformat": 4,
 "nbformat_minor": 4
}
