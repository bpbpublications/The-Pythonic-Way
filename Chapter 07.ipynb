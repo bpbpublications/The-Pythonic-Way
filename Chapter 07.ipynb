{
 "cells": [
  {
   "cell_type": "code",
   "execution_count": 1,
   "metadata": {},
   "outputs": [
    {
     "name": "stdout",
     "output_type": "stream",
     "text": [
      "11\n",
      "32\n",
      "43\n",
      "15\n",
      "67\n"
     ]
    }
   ],
   "source": [
    "# 1.1.2\tfor loops – Under the Hood\n",
    "####################################\n",
    "\n",
    "ages = [11, 32, 43, 15, 67]\n",
    "index = 0\n",
    "while index < len(ages):\n",
    "    print(ages[index])\n",
    "    index = index + 1\n"
   ]
  },
  {
   "cell_type": "code",
   "execution_count": 2,
   "metadata": {},
   "outputs": [
    {
     "ename": "TypeError",
     "evalue": "'set' object is not subscriptable",
     "output_type": "error",
     "traceback": [
      "\u001b[1;31m---------------------------------------------------------------------------\u001b[0m",
      "\u001b[1;31mTypeError\u001b[0m                                 Traceback (most recent call last)",
      "\u001b[1;32m<ipython-input-2-9fab8bf4f4a5>\u001b[0m in \u001b[0;36m<module>\u001b[1;34m\u001b[0m\n\u001b[0;32m      2\u001b[0m \u001b[0mindex\u001b[0m \u001b[1;33m=\u001b[0m \u001b[1;36m0\u001b[0m\u001b[1;33m\u001b[0m\u001b[1;33m\u001b[0m\u001b[0m\n\u001b[0;32m      3\u001b[0m \u001b[1;32mwhile\u001b[0m \u001b[0mindex\u001b[0m \u001b[1;33m<\u001b[0m \u001b[0mlen\u001b[0m\u001b[1;33m(\u001b[0m\u001b[0msingers\u001b[0m\u001b[1;33m)\u001b[0m\u001b[1;33m:\u001b[0m\u001b[1;33m\u001b[0m\u001b[1;33m\u001b[0m\u001b[0m\n\u001b[1;32m----> 4\u001b[1;33m     \u001b[0mprint\u001b[0m\u001b[1;33m(\u001b[0m\u001b[0msingers\u001b[0m\u001b[1;33m[\u001b[0m\u001b[0mindex\u001b[0m\u001b[1;33m]\u001b[0m\u001b[1;33m)\u001b[0m\u001b[1;33m\u001b[0m\u001b[1;33m\u001b[0m\u001b[0m\n\u001b[0m\u001b[0;32m      5\u001b[0m     \u001b[0mindex\u001b[0m \u001b[1;33m=\u001b[0m \u001b[0mindex\u001b[0m \u001b[1;33m+\u001b[0m \u001b[1;36m1\u001b[0m\u001b[1;33m\u001b[0m\u001b[1;33m\u001b[0m\u001b[0m\n",
      "\u001b[1;31mTypeError\u001b[0m: 'set' object is not subscriptable"
     ]
    }
   ],
   "source": [
    "singers = {'Adele', 'justin', 'ariana', 'mozart'}\n",
    "index = 0\n",
    "while index < len(singers):\n",
    "    print(singers[index])\n",
    "    index = index + 1"
   ]
  },
  {
   "cell_type": "code",
   "execution_count": 5,
   "metadata": {},
   "outputs": [
    {
     "name": "stdout",
     "output_type": "stream",
     "text": [
      "<list_iterator object at 0x000002B64C7D8CA0>\n",
      "<tuple_iterator object at 0x000002B64C7D84C0>\n",
      "<str_iterator object at 0x000002B64C7D8CA0>\n"
     ]
    }
   ],
   "source": [
    "# An iterator can be retrived for these data types with the help of the iter() built-in function in python\n",
    "\n",
    "marks = [21, 32, 43, 55, 67]\n",
    "studentsNum = (14, 25, 37)\n",
    "text = \"monty python\"\n",
    "\n",
    "print(iter(marks))\n",
    "print(iter(studentsNum))\n",
    "print(iter(text))"
   ]
  },
  {
   "cell_type": "code",
   "execution_count": 8,
   "metadata": {},
   "outputs": [],
   "source": [
    "# 1.1.4\tPython 2.x Compatibility - Backward compatible iterables\n",
    "##################################################################\n",
    "\n",
    "class DemoProcess(object):\n",
    "    def __init__(self, argument):\n",
    "        self.data = argument\n",
    "\n",
    "    def __iter__(self):\n",
    "        return self\n",
    "\n",
    "    def __next__(self):\n",
    "        return self.value\n",
    "\n",
    "    # For compatibility with Python 2:\n",
    "    def next(self):\n",
    "        return self.__next__()\n"
   ]
  },
  {
   "cell_type": "code",
   "execution_count": 31,
   "metadata": {},
   "outputs": [],
   "source": [
    "# 1.1.5\tIterator Chains\n",
    "########################\n",
    "\n",
    "# Using Generator Expressions \n",
    "even_numbers = (x for x in range(0, 20) if x%2 == 0)\n",
    "even_double = (2 * x for x in even_numbers)\n",
    "\n",
    "# Regular Generator function\n",
    "def cumulative():\n",
    "    sum_till_now = 0\n",
    "    for index in even_double:\n",
    "        sum_till_now += index\n",
    "        index += 1\n",
    "        yield sum_till_now\n"
   ]
  },
  {
   "cell_type": "code",
   "execution_count": 32,
   "metadata": {},
   "outputs": [
    {
     "data": {
      "text/plain": [
       "<generator object <genexpr> at 0x000002B64DB2AC10>"
      ]
     },
     "execution_count": 32,
     "metadata": {},
     "output_type": "execute_result"
    }
   ],
   "source": [
    "even_numbers"
   ]
  },
  {
   "cell_type": "code",
   "execution_count": 33,
   "metadata": {},
   "outputs": [
    {
     "data": {
      "text/plain": [
       "<generator object <genexpr> at 0x000002B64DB2A820>"
      ]
     },
     "execution_count": 33,
     "metadata": {},
     "output_type": "execute_result"
    }
   ],
   "source": [
    "even_double"
   ]
  },
  {
   "cell_type": "code",
   "execution_count": 34,
   "metadata": {},
   "outputs": [
    {
     "data": {
      "text/plain": [
       "[0, 4, 8, 12, 16, 20, 24, 28, 32, 36]"
      ]
     },
     "execution_count": 34,
     "metadata": {},
     "output_type": "execute_result"
    }
   ],
   "source": [
    "list(even_double)"
   ]
  },
  {
   "cell_type": "code",
   "execution_count": 35,
   "metadata": {},
   "outputs": [
    {
     "data": {
      "text/plain": [
       "<function __main__.cumulative()>"
      ]
     },
     "execution_count": 35,
     "metadata": {},
     "output_type": "execute_result"
    }
   ],
   "source": [
    "cumulative"
   ]
  },
  {
   "cell_type": "code",
   "execution_count": 36,
   "metadata": {},
   "outputs": [
    {
     "data": {
      "text/plain": [
       "[0, 4, 12, 24, 40, 60, 84, 112, 144, 180]"
      ]
     },
     "execution_count": 36,
     "metadata": {},
     "output_type": "execute_result"
    }
   ],
   "source": [
    "even_numbers = (x for x in range(0, 20) if x%2 == 0)\n",
    "even_double = (2 * x for x in even_numbers)\n",
    "\n",
    "list(cumulative())"
   ]
  },
  {
   "cell_type": "code",
   "execution_count": 37,
   "metadata": {},
   "outputs": [],
   "source": [
    "# 1.1.6\tCreating your own iterator\n",
    "##################################\n",
    "\n",
    "class get_doubles:\n",
    "    def __init__(self, integers):\n",
    "        self.integers = iter(integers)\n",
    "\n",
    "    def __next__(self):\n",
    "        return next(self.integers) * 2\n",
    "\n",
    "    def __iter__(self):\n",
    "        return self\n"
   ]
  },
  {
   "cell_type": "code",
   "execution_count": 39,
   "metadata": {},
   "outputs": [
    {
     "data": {
      "text/plain": [
       "40"
      ]
     },
     "execution_count": 39,
     "metadata": {},
     "output_type": "execute_result"
    }
   ],
   "source": [
    "from itertools import count\n",
    "\n",
    "integers = count(20)\n",
    "doubles = get_doubles(integers)\n",
    "next(doubles)"
   ]
  },
  {
   "cell_type": "code",
   "execution_count": 40,
   "metadata": {},
   "outputs": [
    {
     "data": {
      "text/plain": [
       "42"
      ]
     },
     "execution_count": 40,
     "metadata": {},
     "output_type": "execute_result"
    }
   ],
   "source": [
    "next(doubles)"
   ]
  },
  {
   "cell_type": "code",
   "execution_count": 43,
   "metadata": {},
   "outputs": [],
   "source": [
    "# 1.1.7.1\tLazy Summation\n",
    "##########################\n",
    "\n",
    "all_employees = []\n",
    "\n",
    "# The Regular Way \n",
    "billable_hours = 0\n",
    "for employee in all_employees:\n",
    "    if employee.on_payroll():\n",
    "        billable_hours += employee.time_spent\n",
    "\n",
    "\n",
    "# The Pythonic Way\n",
    "all_times_spent = (\n",
    "    employee.time_spent\n",
    "    for employee in all_employees\n",
    "    if employee.on_payroll()\n",
    ")\n",
    "billable_hours = sum(all_times_spent)\n"
   ]
  },
  {
   "cell_type": "code",
   "execution_count": 45,
   "metadata": {},
   "outputs": [],
   "source": [
    "# 1.1.7.2\tLazy breaking out of loops\n",
    "#######################################\n",
    "file_reference = \"\"\n",
    "\n",
    "# The Regular Way \n",
    "for index, content in enumerate(file_reference):\n",
    "    if i >= 150:\n",
    "        break\n",
    "    print(content)\n",
    "\n",
    "\n",
    "# The Pythonic Way \n",
    "from itertools import islice\n",
    "\n",
    "lines_iterator = islice(file_reference, 150)\n",
    "for lineContent in lines_iterator:\n",
    "    print(lineContent)\n"
   ]
  },
  {
   "cell_type": "code",
   "execution_count": null,
   "metadata": {},
   "outputs": [],
   "source": [
    "# 1.1.7.3\tCreating your own iteration helpers\n",
    "#################################################\n",
    "all_call_times = []\n",
    "\n",
    "# The Regular Way \n",
    "time_diff = []\n",
    "prev_time = all_call_times[0]\n",
    "for curr_time in all_call_times[1:]:\n",
    "    time_diff.append(curr_time - prev_time)\n",
    "    prev_time = curr_time"
   ]
  },
  {
   "cell_type": "code",
   "execution_count": null,
   "metadata": {},
   "outputs": [],
   "source": [
    "# 1.1.8.1\tOther common Itertools features \n",
    "################################################\n",
    "\n",
    "from itertools import * \n",
    "\n",
    "records = [520, -250, -207, -120, -200, -320]\n",
    "int_rate = 2.073\n",
    "for record in itertools.accumulate(records, lambda cost, advance: cost*int_rate + advance):\n",
    "    print(record)\n"
   ]
  },
  {
   "cell_type": "code",
   "execution_count": null,
   "metadata": {},
   "outputs": [],
   "source": [
    "# The combination function - expects as inputs, an iterable and a integer value for length, and creates \n",
    "# and returns subsequences of the sequence that have a length of r\n",
    "\n",
    "def coin_change(set_of_coins, length):\n",
    "    change_possible_for = set()\n",
    "    for coin_subset in itertools.combinations(set_of_coins, length):\n",
    "        change_possible_for.add(sum(coin_subset))\n",
    "    return sorted(change_possible_for)"
   ]
  },
  {
   "cell_type": "code",
   "execution_count": 4,
   "metadata": {},
   "outputs": [],
   "source": [
    "# 1.1.9.1\tRepeated iterations\n",
    "#################################\n",
    "\n",
    "def get_all_stats(emp_times):\n",
    "    min_times, max_times, avg_times = itertools.tee(emp_times, 3)\n",
    "    return min(min_times), max(max_times), median(avg_times)\n"
   ]
  },
  {
   "cell_type": "code",
   "execution_count": 6,
   "metadata": {},
   "outputs": [],
   "source": [
    "# 1.1.9.2\tNested loops\n",
    "###########################\n",
    "\n",
    "# The Regular Way \n",
    "def nested_search(elem_list, search_val):\n",
    "    location = None\n",
    "    for x, elem_row in enumerate(elem_list):\n",
    "        for y, elem_cell in enumerate(elem_row):\n",
    "            if elem_cell == search_val:\n",
    "                location = (x, y)\n",
    "                break\n",
    "  \n",
    "        if location is not None:\n",
    "            break\n",
    "\n",
    "    if location is None:\n",
    "        raise ValueError(f\"{search_val} not found\")\n",
    "\n",
    "    logger.info(\"Search succesful - %r found at [%i, %i]\", search_val, *location)\n",
    "    return location\n",
    "\n",
    "\n",
    "# The Pythonic Way \n",
    "def _search_matrix(matrix):\n",
    "    for x, elem_row in enumerate(matrix):\n",
    "        for y, elem_cell in enumerate(elem_row):\n",
    "            yield (x, y), elem_cell\n",
    "\n",
    "def search(matrix, search_val):\n",
    "    try:\n",
    "        location = next(\n",
    "                    location\n",
    "                    for (location, elem_cell) in \n",
    "                         _search_matrix(matrix)\n",
    "                    if elem_cell == search_val\n",
    "                )\n",
    "    except StopIteration:\n",
    "         raise ValueError(\"{search_val} not found\")\n",
    "\n",
    "    logger.info(\"Search successful - %r found at [%i, %i]\", search_val, *location)\n",
    "    return location\n"
   ]
  },
  {
   "cell_type": "code",
   "execution_count": 21,
   "metadata": {},
   "outputs": [],
   "source": [
    "# 1.1.11\tPrefer generator expressions to list comprehensions for simple iterations.\n",
    "#########################################################################################\n",
    "\n",
    "def retrieve_all_book_names(): # Dummy Method\n",
    "    return []\n",
    "\n",
    "# The Regular Way\n",
    "for book in [book.upper() for book in retrieve_all_book_names()]:\n",
    "    index_book(book)\n",
    "\n",
    "\n",
    "# The Pythonic Way \n",
    "for book in (book.upper() for book in retrieve_all_book_names()):\n",
    "    index_book(uppercase_name)\n"
   ]
  },
  {
   "cell_type": "code",
   "execution_count": 23,
   "metadata": {},
   "outputs": [],
   "source": [
    "# 1.1.13\tCan coroutines return values?\n",
    "###########################################\n",
    "\n",
    "def myGenerator():\n",
    "    yield 101\n",
    "    yield 102\n",
    "    yield 103\n",
    "    return 3000"
   ]
  },
  {
   "cell_type": "code",
   "execution_count": 24,
   "metadata": {},
   "outputs": [
    {
     "data": {
      "text/plain": [
       "101"
      ]
     },
     "execution_count": 24,
     "metadata": {},
     "output_type": "execute_result"
    }
   ],
   "source": [
    "datagen = myGenerator()\n",
    "next(datagen)"
   ]
  },
  {
   "cell_type": "code",
   "execution_count": 25,
   "metadata": {},
   "outputs": [
    {
     "data": {
      "text/plain": [
       "102"
      ]
     },
     "execution_count": 25,
     "metadata": {},
     "output_type": "execute_result"
    }
   ],
   "source": [
    "next(datagen)"
   ]
  },
  {
   "cell_type": "code",
   "execution_count": 26,
   "metadata": {},
   "outputs": [
    {
     "data": {
      "text/plain": [
       "103"
      ]
     },
     "execution_count": 26,
     "metadata": {},
     "output_type": "execute_result"
    }
   ],
   "source": [
    "next(datagen)"
   ]
  },
  {
   "cell_type": "code",
   "execution_count": 27,
   "metadata": {},
   "outputs": [
    {
     "name": "stdout",
     "output_type": "stream",
     "text": [
      "The returned value is  3000\n"
     ]
    }
   ],
   "source": [
    "try:\n",
    "    next(datagen)\n",
    "except StopIteration as e:\n",
    "    print(\"The returned value is \", e.value)"
   ]
  },
  {
   "cell_type": "code",
   "execution_count": 30,
   "metadata": {},
   "outputs": [
    {
     "data": {
      "text/plain": [
       "['s', 't', 'r', 'i', 'n', 'g', 'liststr', 'tuple', ' of ', 'strings.']"
      ]
     },
     "execution_count": 30,
     "metadata": {},
     "output_type": "execute_result"
    }
   ],
   "source": [
    "# 1.1.14\tWhere do we use yield from ?\n",
    "###########################################\n",
    "\n",
    "def chain(*iterArgs):\n",
    "    for iterable in iterArgs:\n",
    "        for data in iterable:\n",
    "            yield data\n",
    "\n",
    "def chain(*iterArgs):\n",
    "    for iterable in iterArgs:\n",
    "        yield from iterable\n",
    "\n",
    "list(chain(\"string\", [\"liststr\"], (\"tuple\", \" of \", \"strings.\")))"
   ]
  },
  {
   "cell_type": "code",
   "execution_count": 34,
   "metadata": {},
   "outputs": [],
   "source": [
    "# 1.1.15\tAnother Case of Capturing returned value of generators - yield from\n",
    "#################################################################################\n",
    "\n",
    "def series(identifier, begin, end):\n",
    "    print(f\"{identifier} initiated at {begin}\")\n",
    "    yield from range(begin, end)\n",
    "    print(f\"{identifier} terminated at {end}\")\n",
    "    return end\n",
    "\n",
    "def supergen():\n",
    "    data_generator_one = yield from series(\"series1\", 1, 6)\n",
    "    data_generator_two = yield from series(\"series2\", data_generator_one, 10)\n",
    "    return data_generator_one + data_generator_two\n"
   ]
  },
  {
   "cell_type": "code",
   "execution_count": 35,
   "metadata": {},
   "outputs": [
    {
     "name": "stdout",
     "output_type": "stream",
     "text": [
      "series1 initiated at 1\n"
     ]
    },
    {
     "data": {
      "text/plain": [
       "1"
      ]
     },
     "execution_count": 35,
     "metadata": {},
     "output_type": "execute_result"
    }
   ],
   "source": [
    "mySuperGen = supergen()\n",
    "next(mySuperGen)"
   ]
  },
  {
   "cell_type": "code",
   "execution_count": 36,
   "metadata": {},
   "outputs": [
    {
     "data": {
      "text/plain": [
       "2"
      ]
     },
     "execution_count": 36,
     "metadata": {},
     "output_type": "execute_result"
    }
   ],
   "source": [
    "next(mySuperGen)"
   ]
  },
  {
   "cell_type": "code",
   "execution_count": 37,
   "metadata": {},
   "outputs": [
    {
     "data": {
      "text/plain": [
       "3"
      ]
     },
     "execution_count": 37,
     "metadata": {},
     "output_type": "execute_result"
    }
   ],
   "source": [
    "next(mySuperGen)"
   ]
  },
  {
   "cell_type": "code",
   "execution_count": 38,
   "metadata": {},
   "outputs": [
    {
     "data": {
      "text/plain": [
       "4"
      ]
     },
     "execution_count": 38,
     "metadata": {},
     "output_type": "execute_result"
    }
   ],
   "source": [
    "next(mySuperGen)"
   ]
  },
  {
   "cell_type": "code",
   "execution_count": 39,
   "metadata": {},
   "outputs": [
    {
     "data": {
      "text/plain": [
       "5"
      ]
     },
     "execution_count": 39,
     "metadata": {},
     "output_type": "execute_result"
    }
   ],
   "source": [
    "next(mySuperGen)"
   ]
  },
  {
   "cell_type": "code",
   "execution_count": 40,
   "metadata": {},
   "outputs": [
    {
     "name": "stdout",
     "output_type": "stream",
     "text": [
      "series1 terminated at 6\n",
      "series2 initiated at 6\n"
     ]
    },
    {
     "data": {
      "text/plain": [
       "6"
      ]
     },
     "execution_count": 40,
     "metadata": {},
     "output_type": "execute_result"
    }
   ],
   "source": [
    "next(mySuperGen)"
   ]
  },
  {
   "cell_type": "code",
   "execution_count": 41,
   "metadata": {},
   "outputs": [
    {
     "data": {
      "text/plain": [
       "7"
      ]
     },
     "execution_count": 41,
     "metadata": {},
     "output_type": "execute_result"
    }
   ],
   "source": [
    "next(mySuperGen)"
   ]
  },
  {
   "cell_type": "code",
   "execution_count": 42,
   "metadata": {},
   "outputs": [
    {
     "data": {
      "text/plain": [
       "8"
      ]
     },
     "execution_count": 42,
     "metadata": {},
     "output_type": "execute_result"
    }
   ],
   "source": [
    "next(mySuperGen)"
   ]
  },
  {
   "cell_type": "code",
   "execution_count": 43,
   "metadata": {},
   "outputs": [
    {
     "data": {
      "text/plain": [
       "9"
      ]
     },
     "execution_count": 43,
     "metadata": {},
     "output_type": "execute_result"
    }
   ],
   "source": [
    "next(mySuperGen)"
   ]
  },
  {
   "cell_type": "code",
   "execution_count": 44,
   "metadata": {},
   "outputs": [
    {
     "name": "stdout",
     "output_type": "stream",
     "text": [
      "series2 terminated at 10\n"
     ]
    },
    {
     "ename": "StopIteration",
     "evalue": "16",
     "output_type": "error",
     "traceback": [
      "\u001b[1;31m---------------------------------------------------------------------------\u001b[0m",
      "\u001b[1;31mStopIteration\u001b[0m                             Traceback (most recent call last)",
      "\u001b[1;32m<ipython-input-44-a568c913c645>\u001b[0m in \u001b[0;36m<module>\u001b[1;34m\u001b[0m\n\u001b[1;32m----> 1\u001b[1;33m \u001b[0mnext\u001b[0m\u001b[1;33m(\u001b[0m\u001b[0mmySuperGen\u001b[0m\u001b[1;33m)\u001b[0m\u001b[1;33m\u001b[0m\u001b[1;33m\u001b[0m\u001b[0m\n\u001b[0m",
      "\u001b[1;31mStopIteration\u001b[0m: 16"
     ]
    }
   ],
   "source": [
    "next(mySuperGen)"
   ]
  },
  {
   "cell_type": "code",
   "execution_count": 57,
   "metadata": {},
   "outputs": [],
   "source": [
    "# 1.1.16\tAnother Case of sending & receiving values from generators\n",
    "\n",
    "class SpecificException(Exception):\n",
    "    pass\n",
    "\n",
    "def series(identifier, begin, end):\n",
    "    result = begin\n",
    "    print(f\"{identifier} initiated at {begin}\")\n",
    "    while result < end:\n",
    "        try:\n",
    "            rec_val = yield result\n",
    "            print(f\"{identifier} received {rec_val}\")\n",
    "            result = result + 1\n",
    "        except SpecificException as ex:\n",
    "            print(f\"{identifier} is exception handling - {ex}\")\n",
    "            rec_val = yield \"DONE\"\n",
    "    return end\n"
   ]
  },
  {
   "cell_type": "code",
   "execution_count": 58,
   "metadata": {},
   "outputs": [
    {
     "name": "stdout",
     "output_type": "stream",
     "text": [
      "series1 initiated at 1\n"
     ]
    },
    {
     "data": {
      "text/plain": [
       "1"
      ]
     },
     "execution_count": 58,
     "metadata": {},
     "output_type": "execute_result"
    }
   ],
   "source": [
    "mySuperGen = supergen()\n",
    "next(mySuperGen)"
   ]
  },
  {
   "cell_type": "code",
   "execution_count": 59,
   "metadata": {},
   "outputs": [
    {
     "name": "stdout",
     "output_type": "stream",
     "text": [
      "series1 received None\n"
     ]
    },
    {
     "data": {
      "text/plain": [
       "2"
      ]
     },
     "execution_count": 59,
     "metadata": {},
     "output_type": "execute_result"
    }
   ],
   "source": [
    "next(mySuperGen)"
   ]
  },
  {
   "cell_type": "code",
   "execution_count": 60,
   "metadata": {},
   "outputs": [
    {
     "name": "stdout",
     "output_type": "stream",
     "text": [
      "series1 received A Random Value\n"
     ]
    },
    {
     "data": {
      "text/plain": [
       "3"
      ]
     },
     "execution_count": 60,
     "metadata": {},
     "output_type": "execute_result"
    }
   ],
   "source": [
    "mySuperGen.send(\"A Random Value\")"
   ]
  },
  {
   "cell_type": "code",
   "execution_count": 61,
   "metadata": {},
   "outputs": [
    {
     "name": "stdout",
     "output_type": "stream",
     "text": [
      "series1 is exception handling - A Random Exception\n"
     ]
    },
    {
     "data": {
      "text/plain": [
       "'DONE'"
      ]
     },
     "execution_count": 61,
     "metadata": {},
     "output_type": "execute_result"
    }
   ],
   "source": [
    "mySuperGen.throw(SpecificException(\"A Random Exception\"))"
   ]
  },
  {
   "cell_type": "code",
   "execution_count": 63,
   "metadata": {},
   "outputs": [
    {
     "ename": "StopIteration",
     "evalue": "",
     "output_type": "error",
     "traceback": [
      "\u001b[1;31m---------------------------------------------------------------------------\u001b[0m",
      "\u001b[1;31mStopIteration\u001b[0m                             Traceback (most recent call last)",
      "\u001b[1;32m<ipython-input-63-a568c913c645>\u001b[0m in \u001b[0;36m<module>\u001b[1;34m\u001b[0m\n\u001b[1;32m----> 1\u001b[1;33m \u001b[0mnext\u001b[0m\u001b[1;33m(\u001b[0m\u001b[0mmySuperGen\u001b[0m\u001b[1;33m)\u001b[0m\u001b[1;33m\u001b[0m\u001b[1;33m\u001b[0m\u001b[0m\n\u001b[0m",
      "\u001b[1;31mStopIteration\u001b[0m: "
     ]
    }
   ],
   "source": [
    "next(mySuperGen)"
   ]
  },
  {
   "cell_type": "code",
   "execution_count": 64,
   "metadata": {},
   "outputs": [
    {
     "data": {
      "text/plain": [
       "[1, 4, 9, 25, 49, 64, 81, 100]"
      ]
     },
     "execution_count": 64,
     "metadata": {},
     "output_type": "execute_result"
    }
   ],
   "source": [
    "# 1.1.17\tExhausting an iterator\n",
    "####################################\n",
    "\n",
    "integers = [1, 2, 3, 5, 7, 8, 9, 10]\n",
    "sq_integers = (x**2 for x in integers)\n",
    "list(sq_integers)\n"
   ]
  },
  {
   "cell_type": "code",
   "execution_count": 65,
   "metadata": {},
   "outputs": [
    {
     "data": {
      "text/plain": [
       "0"
      ]
     },
     "execution_count": 65,
     "metadata": {},
     "output_type": "execute_result"
    }
   ],
   "source": [
    "sum(sq_integers)"
   ]
  },
  {
   "cell_type": "code",
   "execution_count": 66,
   "metadata": {},
   "outputs": [
    {
     "data": {
      "text/plain": [
       "[]"
      ]
     },
     "execution_count": 66,
     "metadata": {},
     "output_type": "execute_result"
    }
   ],
   "source": [
    "list(sq_integers)"
   ]
  },
  {
   "cell_type": "code",
   "execution_count": 67,
   "metadata": {},
   "outputs": [],
   "source": [
    "# 1.1.18\tPartially consuming an iterator\n",
    "#############################################\n",
    "\n",
    "integers = [1, 2, 3, 5, 7, 8, 9, 10]\n",
    "sq_integers = (x**2 for x in integers)"
   ]
  },
  {
   "cell_type": "code",
   "execution_count": 68,
   "metadata": {},
   "outputs": [
    {
     "data": {
      "text/plain": [
       "True"
      ]
     },
     "execution_count": 68,
     "metadata": {},
     "output_type": "execute_result"
    }
   ],
   "source": [
    "25 in sq_integers"
   ]
  },
  {
   "cell_type": "code",
   "execution_count": 69,
   "metadata": {},
   "outputs": [
    {
     "data": {
      "text/plain": [
       "False"
      ]
     },
     "execution_count": 69,
     "metadata": {},
     "output_type": "execute_result"
    }
   ],
   "source": [
    "25 in sq_integers"
   ]
  },
  {
   "cell_type": "code",
   "execution_count": 71,
   "metadata": {},
   "outputs": [],
   "source": [
    "# Another Example \n",
    "\n",
    "integers = [1, 2, 3, 5, 7, 8, 9, 10]\n",
    "sq_integers = (x**2 for x in integers)"
   ]
  },
  {
   "cell_type": "code",
   "execution_count": 72,
   "metadata": {},
   "outputs": [
    {
     "data": {
      "text/plain": [
       "True"
      ]
     },
     "execution_count": 72,
     "metadata": {},
     "output_type": "execute_result"
    }
   ],
   "source": [
    "25 in sq_integers"
   ]
  },
  {
   "cell_type": "code",
   "execution_count": 73,
   "metadata": {},
   "outputs": [
    {
     "data": {
      "text/plain": [
       "(49, 64, 81, 100)"
      ]
     },
     "execution_count": 73,
     "metadata": {},
     "output_type": "execute_result"
    }
   ],
   "source": [
    "tuple(sq_integers)"
   ]
  },
  {
   "cell_type": "code",
   "execution_count": 74,
   "metadata": {},
   "outputs": [
    {
     "name": "stdout",
     "output_type": "stream",
     "text": [
      "mangoes\n",
      "bananas\n"
     ]
    }
   ],
   "source": [
    "# 1.1.19\tUnpacking is also an iteration\n",
    "############################################\n",
    "\n",
    "fruits = {'mangoes': 12, 'bananas': 21}\n",
    "for fruit in fruits:\n",
    "    print(fruit)\n"
   ]
  }
 ],
 "metadata": {
  "kernelspec": {
   "display_name": "Python 3",
   "language": "python",
   "name": "python3"
  },
  "language_info": {
   "codemirror_mode": {
    "name": "ipython",
    "version": 3
   },
   "file_extension": ".py",
   "mimetype": "text/x-python",
   "name": "python",
   "nbconvert_exporter": "python",
   "pygments_lexer": "ipython3",
   "version": "3.8.5"
  }
 },
 "nbformat": 4,
 "nbformat_minor": 4
}
